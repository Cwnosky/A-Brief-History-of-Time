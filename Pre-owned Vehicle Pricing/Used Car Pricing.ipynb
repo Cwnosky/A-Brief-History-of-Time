{
 "cells": [
  {
   "cell_type": "markdown",
   "id": "9d2c7711",
   "metadata": {},
   "source": [
    "## Used car pricing data:\n",
    "\n",
    "#### The purpose of this analysis and model will be to identify whether used car prices can be predicted based on available data. This data will include price, year of sale, make/model, features and body style. "
   ]
  },
  {
   "cell_type": "markdown",
   "id": "99eeb08d",
   "metadata": {},
   "source": [
    "#### Load the data"
   ]
  },
  {
   "cell_type": "code",
   "execution_count": 1,
   "id": "5c6116fc",
   "metadata": {},
   "outputs": [],
   "source": [
    "import pandas as pd\n",
    "import numpy as np\n",
    "from jupyterthemes import jtplot\n",
    "jtplot.style(grid = False, ticks = True, figsize = (12,12))"
   ]
  },
  {
   "cell_type": "code",
   "execution_count": 2,
   "id": "3599d7e8",
   "metadata": {},
   "outputs": [],
   "source": [
    "df = pd.read_csv('C:/Users/cwnos/Documents/DSC680/Project 1/Datasets/Price Pred - 3.csv')\n",
    "zipcodes = pd.read_csv('C:/Users/cwnos/Documents/DSC680/Project 1/Datasets/ZIP-COUNTY-FIPS_2017-06.csv')"
   ]
  },
  {
   "cell_type": "code",
   "execution_count": 3,
   "id": "76b0ee0d",
   "metadata": {},
   "outputs": [
    {
     "data": {
      "text/html": [
       "<div>\n",
       "<style scoped>\n",
       "    .dataframe tbody tr th:only-of-type {\n",
       "        vertical-align: middle;\n",
       "    }\n",
       "\n",
       "    .dataframe tbody tr th {\n",
       "        vertical-align: top;\n",
       "    }\n",
       "\n",
       "    .dataframe thead th {\n",
       "        text-align: right;\n",
       "    }\n",
       "</style>\n",
       "<table border=\"1\" class=\"dataframe\">\n",
       "  <thead>\n",
       "    <tr style=\"text-align: right;\">\n",
       "      <th></th>\n",
       "      <th>ID</th>\n",
       "      <th>pricesold</th>\n",
       "      <th>yearsold</th>\n",
       "      <th>zipcode</th>\n",
       "      <th>Mileage</th>\n",
       "      <th>Make</th>\n",
       "      <th>Model</th>\n",
       "      <th>Year</th>\n",
       "      <th>Trim</th>\n",
       "      <th>Engine</th>\n",
       "      <th>BodyType</th>\n",
       "      <th>NumCylinders</th>\n",
       "      <th>DriveType</th>\n",
       "    </tr>\n",
       "  </thead>\n",
       "  <tbody>\n",
       "    <tr>\n",
       "      <th>0</th>\n",
       "      <td>137178</td>\n",
       "      <td>7500</td>\n",
       "      <td>2020</td>\n",
       "      <td>786**</td>\n",
       "      <td>84430</td>\n",
       "      <td>Ford</td>\n",
       "      <td>Mustang</td>\n",
       "      <td>1988</td>\n",
       "      <td>LX</td>\n",
       "      <td>5.0L Gas V8</td>\n",
       "      <td>Sedan</td>\n",
       "      <td>0</td>\n",
       "      <td>RWD</td>\n",
       "    </tr>\n",
       "    <tr>\n",
       "      <th>1</th>\n",
       "      <td>96705</td>\n",
       "      <td>15000</td>\n",
       "      <td>2019</td>\n",
       "      <td>81006</td>\n",
       "      <td>0</td>\n",
       "      <td>Replica/Kit Makes</td>\n",
       "      <td>Jaguar Beck Lister</td>\n",
       "      <td>1958</td>\n",
       "      <td>NaN</td>\n",
       "      <td>383 Fuel injected</td>\n",
       "      <td>Convertible</td>\n",
       "      <td>8</td>\n",
       "      <td>RWD</td>\n",
       "    </tr>\n",
       "    <tr>\n",
       "      <th>2</th>\n",
       "      <td>119660</td>\n",
       "      <td>8750</td>\n",
       "      <td>2020</td>\n",
       "      <td>33449</td>\n",
       "      <td>55000</td>\n",
       "      <td>Jaguar</td>\n",
       "      <td>XJS</td>\n",
       "      <td>1995</td>\n",
       "      <td>2+2 Cabriolet</td>\n",
       "      <td>4.0L In-Line 6 Cylinder</td>\n",
       "      <td>Convertible</td>\n",
       "      <td>6</td>\n",
       "      <td>RWD</td>\n",
       "    </tr>\n",
       "    <tr>\n",
       "      <th>3</th>\n",
       "      <td>80773</td>\n",
       "      <td>11600</td>\n",
       "      <td>2019</td>\n",
       "      <td>07852</td>\n",
       "      <td>97200</td>\n",
       "      <td>Ford</td>\n",
       "      <td>Mustang</td>\n",
       "      <td>1968</td>\n",
       "      <td>Stock</td>\n",
       "      <td>289 cu. in. V8</td>\n",
       "      <td>Coupe</td>\n",
       "      <td>8</td>\n",
       "      <td>RWD</td>\n",
       "    </tr>\n",
       "    <tr>\n",
       "      <th>4</th>\n",
       "      <td>64287</td>\n",
       "      <td>44000</td>\n",
       "      <td>2019</td>\n",
       "      <td>07728</td>\n",
       "      <td>40703</td>\n",
       "      <td>Porsche</td>\n",
       "      <td>911</td>\n",
       "      <td>2002</td>\n",
       "      <td>Turbo X-50</td>\n",
       "      <td>3.6L</td>\n",
       "      <td>Coupe</td>\n",
       "      <td>6</td>\n",
       "      <td>AWD</td>\n",
       "    </tr>\n",
       "  </tbody>\n",
       "</table>\n",
       "</div>"
      ],
      "text/plain": [
       "       ID  pricesold  yearsold zipcode  Mileage               Make  \\\n",
       "0  137178       7500      2020   786**    84430               Ford   \n",
       "1   96705      15000      2019   81006        0  Replica/Kit Makes   \n",
       "2  119660       8750      2020   33449    55000             Jaguar   \n",
       "3   80773      11600      2019   07852    97200               Ford   \n",
       "4   64287      44000      2019   07728    40703            Porsche   \n",
       "\n",
       "                Model  Year           Trim                   Engine  \\\n",
       "0             Mustang  1988             LX              5.0L Gas V8   \n",
       "1  Jaguar Beck Lister  1958            NaN        383 Fuel injected   \n",
       "2                 XJS  1995  2+2 Cabriolet  4.0L In-Line 6 Cylinder   \n",
       "3             Mustang  1968          Stock           289 cu. in. V8   \n",
       "4                 911  2002     Turbo X-50                     3.6L   \n",
       "\n",
       "      BodyType  NumCylinders DriveType  \n",
       "0        Sedan             0       RWD  \n",
       "1  Convertible             8       RWD  \n",
       "2  Convertible             6       RWD  \n",
       "3        Coupe             8       RWD  \n",
       "4        Coupe             6       AWD  "
      ]
     },
     "execution_count": 3,
     "metadata": {},
     "output_type": "execute_result"
    }
   ],
   "source": [
    "df.head()"
   ]
  },
  {
   "cell_type": "code",
   "execution_count": 4,
   "id": "a907e129",
   "metadata": {},
   "outputs": [
    {
     "data": {
      "text/html": [
       "<div>\n",
       "<style scoped>\n",
       "    .dataframe tbody tr th:only-of-type {\n",
       "        vertical-align: middle;\n",
       "    }\n",
       "\n",
       "    .dataframe tbody tr th {\n",
       "        vertical-align: top;\n",
       "    }\n",
       "\n",
       "    .dataframe thead th {\n",
       "        text-align: right;\n",
       "    }\n",
       "</style>\n",
       "<table border=\"1\" class=\"dataframe\">\n",
       "  <thead>\n",
       "    <tr style=\"text-align: right;\">\n",
       "      <th></th>\n",
       "      <th>ID</th>\n",
       "      <th>pricesold</th>\n",
       "      <th>yearsold</th>\n",
       "      <th>zipcode</th>\n",
       "      <th>Mileage</th>\n",
       "      <th>Make</th>\n",
       "      <th>Model</th>\n",
       "      <th>Year</th>\n",
       "      <th>Trim</th>\n",
       "      <th>Engine</th>\n",
       "      <th>BodyType</th>\n",
       "      <th>NumCylinders</th>\n",
       "      <th>DriveType</th>\n",
       "      <th>Age</th>\n",
       "    </tr>\n",
       "  </thead>\n",
       "  <tbody>\n",
       "    <tr>\n",
       "      <th>0</th>\n",
       "      <td>137178</td>\n",
       "      <td>7500</td>\n",
       "      <td>2020</td>\n",
       "      <td>786**</td>\n",
       "      <td>84430</td>\n",
       "      <td>Ford</td>\n",
       "      <td>Mustang</td>\n",
       "      <td>1988</td>\n",
       "      <td>LX</td>\n",
       "      <td>5.0L Gas V8</td>\n",
       "      <td>Sedan</td>\n",
       "      <td>0</td>\n",
       "      <td>RWD</td>\n",
       "      <td>32</td>\n",
       "    </tr>\n",
       "    <tr>\n",
       "      <th>1</th>\n",
       "      <td>96705</td>\n",
       "      <td>15000</td>\n",
       "      <td>2019</td>\n",
       "      <td>81006</td>\n",
       "      <td>0</td>\n",
       "      <td>Replica/Kit Makes</td>\n",
       "      <td>Jaguar Beck Lister</td>\n",
       "      <td>1958</td>\n",
       "      <td>NaN</td>\n",
       "      <td>383 Fuel injected</td>\n",
       "      <td>Convertible</td>\n",
       "      <td>8</td>\n",
       "      <td>RWD</td>\n",
       "      <td>61</td>\n",
       "    </tr>\n",
       "    <tr>\n",
       "      <th>2</th>\n",
       "      <td>119660</td>\n",
       "      <td>8750</td>\n",
       "      <td>2020</td>\n",
       "      <td>33449</td>\n",
       "      <td>55000</td>\n",
       "      <td>Jaguar</td>\n",
       "      <td>XJS</td>\n",
       "      <td>1995</td>\n",
       "      <td>2+2 Cabriolet</td>\n",
       "      <td>4.0L In-Line 6 Cylinder</td>\n",
       "      <td>Convertible</td>\n",
       "      <td>6</td>\n",
       "      <td>RWD</td>\n",
       "      <td>25</td>\n",
       "    </tr>\n",
       "    <tr>\n",
       "      <th>3</th>\n",
       "      <td>80773</td>\n",
       "      <td>11600</td>\n",
       "      <td>2019</td>\n",
       "      <td>07852</td>\n",
       "      <td>97200</td>\n",
       "      <td>Ford</td>\n",
       "      <td>Mustang</td>\n",
       "      <td>1968</td>\n",
       "      <td>Stock</td>\n",
       "      <td>289 cu. in. V8</td>\n",
       "      <td>Coupe</td>\n",
       "      <td>8</td>\n",
       "      <td>RWD</td>\n",
       "      <td>51</td>\n",
       "    </tr>\n",
       "    <tr>\n",
       "      <th>4</th>\n",
       "      <td>64287</td>\n",
       "      <td>44000</td>\n",
       "      <td>2019</td>\n",
       "      <td>07728</td>\n",
       "      <td>40703</td>\n",
       "      <td>Porsche</td>\n",
       "      <td>911</td>\n",
       "      <td>2002</td>\n",
       "      <td>Turbo X-50</td>\n",
       "      <td>3.6L</td>\n",
       "      <td>Coupe</td>\n",
       "      <td>6</td>\n",
       "      <td>AWD</td>\n",
       "      <td>17</td>\n",
       "    </tr>\n",
       "  </tbody>\n",
       "</table>\n",
       "</div>"
      ],
      "text/plain": [
       "       ID  pricesold  yearsold zipcode  Mileage               Make  \\\n",
       "0  137178       7500      2020   786**    84430               Ford   \n",
       "1   96705      15000      2019   81006        0  Replica/Kit Makes   \n",
       "2  119660       8750      2020   33449    55000             Jaguar   \n",
       "3   80773      11600      2019   07852    97200               Ford   \n",
       "4   64287      44000      2019   07728    40703            Porsche   \n",
       "\n",
       "                Model  Year           Trim                   Engine  \\\n",
       "0             Mustang  1988             LX              5.0L Gas V8   \n",
       "1  Jaguar Beck Lister  1958            NaN        383 Fuel injected   \n",
       "2                 XJS  1995  2+2 Cabriolet  4.0L In-Line 6 Cylinder   \n",
       "3             Mustang  1968          Stock           289 cu. in. V8   \n",
       "4                 911  2002     Turbo X-50                     3.6L   \n",
       "\n",
       "      BodyType  NumCylinders DriveType  Age  \n",
       "0        Sedan             0       RWD   32  \n",
       "1  Convertible             8       RWD   61  \n",
       "2  Convertible             6       RWD   25  \n",
       "3        Coupe             8       RWD   51  \n",
       "4        Coupe             6       AWD   17  "
      ]
     },
     "execution_count": 4,
     "metadata": {},
     "output_type": "execute_result"
    }
   ],
   "source": [
    "###//* Determine age of vehicle - could impact price\n",
    "\n",
    "df['Age'] = df['yearsold'] - df['Year']\n",
    "\n",
    "df.head()"
   ]
  },
  {
   "cell_type": "code",
   "execution_count": 5,
   "id": "c3d3435f",
   "metadata": {},
   "outputs": [
    {
     "data": {
      "text/plain": [
       "(122144, 14)"
      ]
     },
     "execution_count": 5,
     "metadata": {},
     "output_type": "execute_result"
    }
   ],
   "source": [
    "df.shape"
   ]
  },
  {
   "cell_type": "code",
   "execution_count": 6,
   "id": "3144736c",
   "metadata": {},
   "outputs": [],
   "source": [
    "###//* Sales prices are often impacted by location, a cursory look at the data shows inconsistency in the zipcode formatting. Additionally mapping zipcodes to state \n",
    "###//* will allow us to view trends by state easier. \n",
    "df = df[df['zipcode'].str.isdigit()==True]\n",
    "df['zipcode'] = df['zipcode'].astype(int)"
   ]
  },
  {
   "cell_type": "code",
   "execution_count": 7,
   "id": "96ba134a",
   "metadata": {},
   "outputs": [
    {
     "data": {
      "text/html": [
       "<div>\n",
       "<style scoped>\n",
       "    .dataframe tbody tr th:only-of-type {\n",
       "        vertical-align: middle;\n",
       "    }\n",
       "\n",
       "    .dataframe tbody tr th {\n",
       "        vertical-align: top;\n",
       "    }\n",
       "\n",
       "    .dataframe thead th {\n",
       "        text-align: right;\n",
       "    }\n",
       "</style>\n",
       "<table border=\"1\" class=\"dataframe\">\n",
       "  <thead>\n",
       "    <tr style=\"text-align: right;\">\n",
       "      <th></th>\n",
       "      <th>ZIP</th>\n",
       "      <th>STATE</th>\n",
       "    </tr>\n",
       "  </thead>\n",
       "  <tbody>\n",
       "    <tr>\n",
       "      <th>0</th>\n",
       "      <td>501</td>\n",
       "      <td>NY</td>\n",
       "    </tr>\n",
       "    <tr>\n",
       "      <th>1</th>\n",
       "      <td>601</td>\n",
       "      <td>PR</td>\n",
       "    </tr>\n",
       "    <tr>\n",
       "      <th>2</th>\n",
       "      <td>602</td>\n",
       "      <td>PR</td>\n",
       "    </tr>\n",
       "    <tr>\n",
       "      <th>3</th>\n",
       "      <td>603</td>\n",
       "      <td>PR</td>\n",
       "    </tr>\n",
       "    <tr>\n",
       "      <th>4</th>\n",
       "      <td>604</td>\n",
       "      <td>PR</td>\n",
       "    </tr>\n",
       "  </tbody>\n",
       "</table>\n",
       "</div>"
      ],
      "text/plain": [
       "   ZIP STATE\n",
       "0  501    NY\n",
       "1  601    PR\n",
       "2  602    PR\n",
       "3  603    PR\n",
       "4  604    PR"
      ]
     },
     "execution_count": 7,
     "metadata": {},
     "output_type": "execute_result"
    }
   ],
   "source": [
    "###//*Fortunately for my purposes I don't need the full zipcode dataset, only the zipcode and state will be used. We will be merging the dataframes next.  \n",
    "\n",
    "zipcodes_df = zipcodes.groupby(by=['ZIP','STATE'], as_index = False).first()[['ZIP', 'STATE']]\n",
    "\n",
    "zipcodes_df.head()"
   ]
  },
  {
   "cell_type": "code",
   "execution_count": 8,
   "id": "ad6ef8d3",
   "metadata": {},
   "outputs": [],
   "source": [
    "df = pd.merge(df, zipcodes_df, left_on='zipcode', right_on='ZIP', how='left')\n",
    "###//* Dropping ZIP column as it is now redundant. \n",
    "df.drop('ZIP', axis=1, inplace=True)"
   ]
  },
  {
   "cell_type": "code",
   "execution_count": 9,
   "id": "6ea8cefc",
   "metadata": {},
   "outputs": [
    {
     "data": {
      "text/html": [
       "<div>\n",
       "<style scoped>\n",
       "    .dataframe tbody tr th:only-of-type {\n",
       "        vertical-align: middle;\n",
       "    }\n",
       "\n",
       "    .dataframe tbody tr th {\n",
       "        vertical-align: top;\n",
       "    }\n",
       "\n",
       "    .dataframe thead th {\n",
       "        text-align: right;\n",
       "    }\n",
       "</style>\n",
       "<table border=\"1\" class=\"dataframe\">\n",
       "  <thead>\n",
       "    <tr style=\"text-align: right;\">\n",
       "      <th></th>\n",
       "      <th>ID</th>\n",
       "      <th>pricesold</th>\n",
       "      <th>yearsold</th>\n",
       "      <th>zipcode</th>\n",
       "      <th>Mileage</th>\n",
       "      <th>Make</th>\n",
       "      <th>Model</th>\n",
       "      <th>Year</th>\n",
       "      <th>Trim</th>\n",
       "      <th>Engine</th>\n",
       "      <th>BodyType</th>\n",
       "      <th>NumCylinders</th>\n",
       "      <th>DriveType</th>\n",
       "      <th>Age</th>\n",
       "      <th>STATE</th>\n",
       "    </tr>\n",
       "  </thead>\n",
       "  <tbody>\n",
       "    <tr>\n",
       "      <th>0</th>\n",
       "      <td>96705</td>\n",
       "      <td>15000</td>\n",
       "      <td>2019</td>\n",
       "      <td>81006</td>\n",
       "      <td>0</td>\n",
       "      <td>Replica/Kit Makes</td>\n",
       "      <td>Jaguar Beck Lister</td>\n",
       "      <td>1958</td>\n",
       "      <td>NaN</td>\n",
       "      <td>383 Fuel injected</td>\n",
       "      <td>Convertible</td>\n",
       "      <td>8</td>\n",
       "      <td>RWD</td>\n",
       "      <td>61</td>\n",
       "      <td>CO</td>\n",
       "    </tr>\n",
       "    <tr>\n",
       "      <th>1</th>\n",
       "      <td>119660</td>\n",
       "      <td>8750</td>\n",
       "      <td>2020</td>\n",
       "      <td>33449</td>\n",
       "      <td>55000</td>\n",
       "      <td>Jaguar</td>\n",
       "      <td>XJS</td>\n",
       "      <td>1995</td>\n",
       "      <td>2+2 Cabriolet</td>\n",
       "      <td>4.0L In-Line 6 Cylinder</td>\n",
       "      <td>Convertible</td>\n",
       "      <td>6</td>\n",
       "      <td>RWD</td>\n",
       "      <td>25</td>\n",
       "      <td>FL</td>\n",
       "    </tr>\n",
       "    <tr>\n",
       "      <th>2</th>\n",
       "      <td>80773</td>\n",
       "      <td>11600</td>\n",
       "      <td>2019</td>\n",
       "      <td>7852</td>\n",
       "      <td>97200</td>\n",
       "      <td>Ford</td>\n",
       "      <td>Mustang</td>\n",
       "      <td>1968</td>\n",
       "      <td>Stock</td>\n",
       "      <td>289 cu. in. V8</td>\n",
       "      <td>Coupe</td>\n",
       "      <td>8</td>\n",
       "      <td>RWD</td>\n",
       "      <td>51</td>\n",
       "      <td>NJ</td>\n",
       "    </tr>\n",
       "    <tr>\n",
       "      <th>3</th>\n",
       "      <td>64287</td>\n",
       "      <td>44000</td>\n",
       "      <td>2019</td>\n",
       "      <td>7728</td>\n",
       "      <td>40703</td>\n",
       "      <td>Porsche</td>\n",
       "      <td>911</td>\n",
       "      <td>2002</td>\n",
       "      <td>Turbo X-50</td>\n",
       "      <td>3.6L</td>\n",
       "      <td>Coupe</td>\n",
       "      <td>6</td>\n",
       "      <td>AWD</td>\n",
       "      <td>17</td>\n",
       "      <td>NJ</td>\n",
       "    </tr>\n",
       "    <tr>\n",
       "      <th>4</th>\n",
       "      <td>5250</td>\n",
       "      <td>70000</td>\n",
       "      <td>2019</td>\n",
       "      <td>7627</td>\n",
       "      <td>6500</td>\n",
       "      <td>Land Rover</td>\n",
       "      <td>Defender</td>\n",
       "      <td>1997</td>\n",
       "      <td>NaN</td>\n",
       "      <td>4.0 Liter Fuel Injected V8</td>\n",
       "      <td>NaN</td>\n",
       "      <td>0</td>\n",
       "      <td>4WD</td>\n",
       "      <td>22</td>\n",
       "      <td>NJ</td>\n",
       "    </tr>\n",
       "  </tbody>\n",
       "</table>\n",
       "</div>"
      ],
      "text/plain": [
       "       ID  pricesold  yearsold  zipcode  Mileage               Make  \\\n",
       "0   96705      15000      2019    81006        0  Replica/Kit Makes   \n",
       "1  119660       8750      2020    33449    55000             Jaguar   \n",
       "2   80773      11600      2019     7852    97200               Ford   \n",
       "3   64287      44000      2019     7728    40703            Porsche   \n",
       "4    5250      70000      2019     7627     6500         Land Rover   \n",
       "\n",
       "                Model  Year           Trim                      Engine  \\\n",
       "0  Jaguar Beck Lister  1958            NaN           383 Fuel injected   \n",
       "1                 XJS  1995  2+2 Cabriolet     4.0L In-Line 6 Cylinder   \n",
       "2             Mustang  1968          Stock              289 cu. in. V8   \n",
       "3                 911  2002     Turbo X-50                        3.6L   \n",
       "4            Defender  1997            NaN  4.0 Liter Fuel Injected V8   \n",
       "\n",
       "      BodyType  NumCylinders DriveType  Age STATE  \n",
       "0  Convertible             8       RWD   61    CO  \n",
       "1  Convertible             6       RWD   25    FL  \n",
       "2        Coupe             8       RWD   51    NJ  \n",
       "3        Coupe             6       AWD   17    NJ  \n",
       "4          NaN             0       4WD   22    NJ  "
      ]
     },
     "execution_count": 9,
     "metadata": {},
     "output_type": "execute_result"
    }
   ],
   "source": [
    "###//* Alright lets take a look at what we've got now. \n",
    "df.head()"
   ]
  },
  {
   "cell_type": "code",
   "execution_count": 10,
   "id": "abc8025e",
   "metadata": {},
   "outputs": [
    {
     "data": {
      "text/plain": [
       "(82495, 15)"
      ]
     },
     "execution_count": 10,
     "metadata": {},
     "output_type": "execute_result"
    }
   ],
   "source": [
    "###//* Indeed it looks like we've removed a good number of records here ~40000.  \n",
    "df.shape"
   ]
  },
  {
   "cell_type": "markdown",
   "id": "1d6711d0",
   "metadata": {},
   "source": [
    "Now that we have the data we want to utilize, lets look at the cleaning needed (it's probably going to be a lot.)"
   ]
  },
  {
   "cell_type": "code",
   "execution_count": 12,
   "id": "fec1bf9f",
   "metadata": {},
   "outputs": [],
   "source": [
    "import matplotlib.pyplot as plt\n",
    "import seaborn as sns\n",
    "#sns.set(style=\"whitegrid\")"
   ]
  },
  {
   "cell_type": "code",
   "execution_count": 13,
   "id": "9beedcfd",
   "metadata": {},
   "outputs": [
    {
     "name": "stderr",
     "output_type": "stream",
     "text": [
      "C:\\Users\\cwnos\\anaconda3\\lib\\site-packages\\seaborn\\_decorators.py:36: FutureWarning: Pass the following variables as keyword args: x, y. From version 0.12, the only valid positional argument will be `data`, and passing other arguments without an explicit keyword will result in an error or misinterpretation.\n",
      "  warnings.warn(\n"
     ]
    },
    {
     "data": {
      "image/png": "[encoded data removed]",
      "text/plain": [
       "<Figure size 432x288 with 1 Axes>"
      ]
     },
     "metadata": {},
     "output_type": "display_data"
    }
   ],
   "source": [
    "###//* Lets look at a scatterplot with age of vehicle and price\n",
    "\n",
    "g = sns.scatterplot(df['Age'],df['pricesold'])\n",
    "g.set(xlabel='Age', ylabel='Selling Price')\n",
    "plt.show()"
   ]
  },
  {
   "cell_type": "code",
   "execution_count": 14,
   "id": "35e64aff",
   "metadata": {},
   "outputs": [
    {
     "data": {
      "text/html": [
       "<div>\n",
       "<style scoped>\n",
       "    .dataframe tbody tr th:only-of-type {\n",
       "        vertical-align: middle;\n",
       "    }\n",
       "\n",
       "    .dataframe tbody tr th {\n",
       "        vertical-align: top;\n",
       "    }\n",
       "\n",
       "    .dataframe thead th {\n",
       "        text-align: right;\n",
       "    }\n",
       "</style>\n",
       "<table border=\"1\" class=\"dataframe\">\n",
       "  <thead>\n",
       "    <tr style=\"text-align: right;\">\n",
       "      <th></th>\n",
       "      <th>ID</th>\n",
       "      <th>pricesold</th>\n",
       "      <th>yearsold</th>\n",
       "      <th>zipcode</th>\n",
       "      <th>Mileage</th>\n",
       "      <th>Make</th>\n",
       "      <th>Model</th>\n",
       "      <th>Year</th>\n",
       "      <th>Trim</th>\n",
       "      <th>Engine</th>\n",
       "      <th>BodyType</th>\n",
       "      <th>NumCylinders</th>\n",
       "      <th>DriveType</th>\n",
       "      <th>Age</th>\n",
       "      <th>STATE</th>\n",
       "    </tr>\n",
       "  </thead>\n",
       "  <tbody>\n",
       "    <tr>\n",
       "      <th>1144</th>\n",
       "      <td>27419</td>\n",
       "      <td>1640</td>\n",
       "      <td>2019</td>\n",
       "      <td>60048</td>\n",
       "      <td>0</td>\n",
       "      <td>Predator GSXR 750</td>\n",
       "      <td>Predator</td>\n",
       "      <td>1900</td>\n",
       "      <td>NaN</td>\n",
       "      <td>GSXR 750</td>\n",
       "      <td>NaN</td>\n",
       "      <td>0</td>\n",
       "      <td>NaN</td>\n",
       "      <td>119</td>\n",
       "      <td>IL</td>\n",
       "    </tr>\n",
       "    <tr>\n",
       "      <th>1665</th>\n",
       "      <td>19387</td>\n",
       "      <td>2030</td>\n",
       "      <td>2019</td>\n",
       "      <td>60178</td>\n",
       "      <td>0</td>\n",
       "      <td>Replica/Kit Makes</td>\n",
       "      <td>NaN</td>\n",
       "      <td>0</td>\n",
       "      <td>NaN</td>\n",
       "      <td>NaN</td>\n",
       "      <td>NaN</td>\n",
       "      <td>0</td>\n",
       "      <td>NaN</td>\n",
       "      <td>2019</td>\n",
       "      <td>IL</td>\n",
       "    </tr>\n",
       "    <tr>\n",
       "      <th>2218</th>\n",
       "      <td>22167</td>\n",
       "      <td>10000</td>\n",
       "      <td>2019</td>\n",
       "      <td>36093</td>\n",
       "      <td>64000</td>\n",
       "      <td>Mitsubishi</td>\n",
       "      <td>Delica L300</td>\n",
       "      <td>92</td>\n",
       "      <td>NaN</td>\n",
       "      <td>NaN</td>\n",
       "      <td>NaN</td>\n",
       "      <td>4</td>\n",
       "      <td>4WD</td>\n",
       "      <td>1927</td>\n",
       "      <td>AL</td>\n",
       "    </tr>\n",
       "    <tr>\n",
       "      <th>2300</th>\n",
       "      <td>53677</td>\n",
       "      <td>3050</td>\n",
       "      <td>2019</td>\n",
       "      <td>92596</td>\n",
       "      <td>0</td>\n",
       "      <td>VW/OTHER</td>\n",
       "      <td>NaN</td>\n",
       "      <td>0</td>\n",
       "      <td>NaN</td>\n",
       "      <td>YES</td>\n",
       "      <td>Convertible</td>\n",
       "      <td>4</td>\n",
       "      <td>RWD</td>\n",
       "      <td>2019</td>\n",
       "      <td>CA</td>\n",
       "    </tr>\n",
       "    <tr>\n",
       "      <th>2455</th>\n",
       "      <td>58688</td>\n",
       "      <td>5210</td>\n",
       "      <td>2019</td>\n",
       "      <td>14472</td>\n",
       "      <td>99100</td>\n",
       "      <td>BMW</td>\n",
       "      <td>3-Series</td>\n",
       "      <td>1008</td>\n",
       "      <td>NaN</td>\n",
       "      <td>NaN</td>\n",
       "      <td>Coupe</td>\n",
       "      <td>0</td>\n",
       "      <td>RWD</td>\n",
       "      <td>1011</td>\n",
       "      <td>NY</td>\n",
       "    </tr>\n",
       "    <tr>\n",
       "      <th>...</th>\n",
       "      <td>...</td>\n",
       "      <td>...</td>\n",
       "      <td>...</td>\n",
       "      <td>...</td>\n",
       "      <td>...</td>\n",
       "      <td>...</td>\n",
       "      <td>...</td>\n",
       "      <td>...</td>\n",
       "      <td>...</td>\n",
       "      <td>...</td>\n",
       "      <td>...</td>\n",
       "      <td>...</td>\n",
       "      <td>...</td>\n",
       "      <td>...</td>\n",
       "      <td>...</td>\n",
       "    </tr>\n",
       "    <tr>\n",
       "      <th>79888</th>\n",
       "      <td>47832</td>\n",
       "      <td>55000</td>\n",
       "      <td>2019</td>\n",
       "      <td>4760</td>\n",
       "      <td>1824</td>\n",
       "      <td>Other Makes</td>\n",
       "      <td>57</td>\n",
       "      <td>1916</td>\n",
       "      <td>NaN</td>\n",
       "      <td>electric</td>\n",
       "      <td>NaN</td>\n",
       "      <td>0</td>\n",
       "      <td>NaN</td>\n",
       "      <td>103</td>\n",
       "      <td>ME</td>\n",
       "    </tr>\n",
       "    <tr>\n",
       "      <th>80958</th>\n",
       "      <td>12817</td>\n",
       "      <td>6000</td>\n",
       "      <td>2019</td>\n",
       "      <td>53157</td>\n",
       "      <td>1200</td>\n",
       "      <td>Replica/Kit Makes</td>\n",
       "      <td>NaN</td>\n",
       "      <td>0</td>\n",
       "      <td>NaN</td>\n",
       "      <td>Chevy 2.0</td>\n",
       "      <td>Convertible</td>\n",
       "      <td>4</td>\n",
       "      <td>RWD</td>\n",
       "      <td>2019</td>\n",
       "      <td>WI</td>\n",
       "    </tr>\n",
       "    <tr>\n",
       "      <th>81348</th>\n",
       "      <td>71504</td>\n",
       "      <td>5300</td>\n",
       "      <td>2019</td>\n",
       "      <td>37617</td>\n",
       "      <td>99999</td>\n",
       "      <td>Studebaker</td>\n",
       "      <td>NaN</td>\n",
       "      <td>1913</td>\n",
       "      <td>Model 35</td>\n",
       "      <td>4 Cylinder Gravity Flow</td>\n",
       "      <td>Convertible</td>\n",
       "      <td>4</td>\n",
       "      <td>RWD</td>\n",
       "      <td>106</td>\n",
       "      <td>TN</td>\n",
       "    </tr>\n",
       "    <tr>\n",
       "      <th>82373</th>\n",
       "      <td>40319</td>\n",
       "      <td>5200</td>\n",
       "      <td>2019</td>\n",
       "      <td>72601</td>\n",
       "      <td>89250</td>\n",
       "      <td>Lancia</td>\n",
       "      <td>Other</td>\n",
       "      <td>1900</td>\n",
       "      <td>Convertible</td>\n",
       "      <td>2000cc FI</td>\n",
       "      <td>Convertible</td>\n",
       "      <td>4</td>\n",
       "      <td>FWD</td>\n",
       "      <td>119</td>\n",
       "      <td>AR</td>\n",
       "    </tr>\n",
       "    <tr>\n",
       "      <th>82478</th>\n",
       "      <td>91065</td>\n",
       "      <td>10000</td>\n",
       "      <td>2019</td>\n",
       "      <td>15851</td>\n",
       "      <td>100</td>\n",
       "      <td>REO</td>\n",
       "      <td>Touring</td>\n",
       "      <td>1915</td>\n",
       "      <td>Touring</td>\n",
       "      <td>4 cylinder</td>\n",
       "      <td>Convertible</td>\n",
       "      <td>4</td>\n",
       "      <td>RWD</td>\n",
       "      <td>104</td>\n",
       "      <td>PA</td>\n",
       "    </tr>\n",
       "  </tbody>\n",
       "</table>\n",
       "<p>87 rows × 15 columns</p>\n",
       "</div>"
      ],
      "text/plain": [
       "          ID  pricesold  yearsold  zipcode  Mileage               Make  \\\n",
       "1144   27419       1640      2019    60048        0  Predator GSXR 750   \n",
       "1665   19387       2030      2019    60178        0  Replica/Kit Makes   \n",
       "2218   22167      10000      2019    36093    64000         Mitsubishi   \n",
       "2300   53677       3050      2019    92596        0           VW/OTHER   \n",
       "2455   58688       5210      2019    14472    99100                BMW   \n",
       "...      ...        ...       ...      ...      ...                ...   \n",
       "79888  47832      55000      2019     4760     1824        Other Makes   \n",
       "80958  12817       6000      2019    53157     1200  Replica/Kit Makes   \n",
       "81348  71504       5300      2019    37617    99999         Studebaker   \n",
       "82373  40319       5200      2019    72601    89250             Lancia   \n",
       "82478  91065      10000      2019    15851      100                REO   \n",
       "\n",
       "             Model  Year         Trim                   Engine     BodyType  \\\n",
       "1144      Predator  1900          NaN                 GSXR 750          NaN   \n",
       "1665           NaN     0          NaN                      NaN          NaN   \n",
       "2218   Delica L300    92          NaN                      NaN          NaN   \n",
       "2300           NaN     0          NaN                      YES  Convertible   \n",
       "2455      3-Series  1008          NaN                      NaN        Coupe   \n",
       "...            ...   ...          ...                      ...          ...   \n",
       "79888           57  1916          NaN                 electric          NaN   \n",
       "80958          NaN     0          NaN                Chevy 2.0  Convertible   \n",
       "81348          NaN  1913     Model 35  4 Cylinder Gravity Flow  Convertible   \n",
       "82373        Other  1900  Convertible                2000cc FI  Convertible   \n",
       "82478      Touring  1915      Touring               4 cylinder  Convertible   \n",
       "\n",
       "       NumCylinders DriveType   Age STATE  \n",
       "1144              0       NaN   119    IL  \n",
       "1665              0       NaN  2019    IL  \n",
       "2218              4       4WD  1927    AL  \n",
       "2300              4       RWD  2019    CA  \n",
       "2455              0       RWD  1011    NY  \n",
       "...             ...       ...   ...   ...  \n",
       "79888             0       NaN   103    ME  \n",
       "80958             4       RWD  2019    WI  \n",
       "81348             4       RWD   106    TN  \n",
       "82373             4       FWD   119    AR  \n",
       "82478             4       RWD   104    PA  \n",
       "\n",
       "[87 rows x 15 columns]"
      ]
     },
     "execution_count": 14,
     "metadata": {},
     "output_type": "execute_result"
    }
   ],
   "source": [
    "###//* Hmm, that looks odd, lets see if we can clean this up so it makes a little more sense\n",
    "df[df['Age'] > 100]"
   ]
  },
  {
   "cell_type": "code",
   "execution_count": 15,
   "id": "6ab96f1f",
   "metadata": {},
   "outputs": [],
   "source": [
    "###//* There may be some missing or erronious data within the Year field, we should probably do something about that. \n",
    "df = df[df['Year']>0]\n",
    "df.loc[df['Year']<100,['Year']] += 1900\n",
    "\n",
    "df['Age'] = df['yearsold'] - df['Year']\n"
   ]
  },
  {
   "cell_type": "code",
   "execution_count": 16,
   "id": "6a2adeab",
   "metadata": {},
   "outputs": [
    {
     "name": "stderr",
     "output_type": "stream",
     "text": [
      "C:\\Users\\cwnos\\anaconda3\\lib\\site-packages\\seaborn\\_decorators.py:36: FutureWarning: Pass the following variables as keyword args: x, y. From version 0.12, the only valid positional argument will be `data`, and passing other arguments without an explicit keyword will result in an error or misinterpretation.\n",
      "  warnings.warn(\n"
     ]
    },
    {
     "data": {
      "image/png": "[encoded data removed]",
      "text/plain": [
       "<Figure size 432x288 with 1 Axes>"
      ]
     },
     "metadata": {},
     "output_type": "display_data"
    }
   ],
   "source": [
    "g = sns.scatterplot(df['Age'],df['pricesold'])\n",
    "g.set(xlabel='Age', ylabel='Selling Price')\n",
    "plt.show()"
   ]
  },
  {
   "cell_type": "code",
   "execution_count": 17,
   "id": "cdb1b3ba",
   "metadata": {},
   "outputs": [
    {
     "name": "stderr",
     "output_type": "stream",
     "text": [
      "C:\\Users\\cwnos\\anaconda3\\lib\\site-packages\\seaborn\\_decorators.py:36: FutureWarning: Pass the following variables as keyword args: x, y. From version 0.12, the only valid positional argument will be `data`, and passing other arguments without an explicit keyword will result in an error or misinterpretation.\n",
      "  warnings.warn(\n"
     ]
    },
    {
     "data": {
      "image/png": "[encoded data removed]",
      "text/plain": [
       "<Figure size 432x288 with 1 Axes>"
      ]
     },
     "metadata": {},
     "output_type": "display_data"
    }
   ],
   "source": [
    "###/* It looks like we still have some issues here. The outliers may need to be eliminated, lets filter out results that are greater than 100 years old &\n",
    "###/* those that are negative years old. \n",
    "\n",
    "df = df[df['Age']<100]\n",
    "df = df[df['Age']>=0]\n",
    "g = sns.scatterplot(df['Age'],df['pricesold'])\n",
    "g.set(xlabel='Age', ylabel='Selling Price')\n",
    "plt.show()"
   ]
  },
  {
   "cell_type": "code",
   "execution_count": null,
   "id": "9ed740c2",
   "metadata": {},
   "outputs": [],
   "source": []
  },
  {
   "cell_type": "code",
   "execution_count": 17,
   "id": "dda0826e",
   "metadata": {},
   "outputs": [
    {
     "data": {
      "text/html": [
       "<div>\n",
       "<style scoped>\n",
       "    .dataframe tbody tr th:only-of-type {\n",
       "        vertical-align: middle;\n",
       "    }\n",
       "\n",
       "    .dataframe tbody tr th {\n",
       "        vertical-align: top;\n",
       "    }\n",
       "\n",
       "    .dataframe thead th {\n",
       "        text-align: right;\n",
       "    }\n",
       "</style>\n",
       "<table border=\"1\" class=\"dataframe\">\n",
       "  <thead>\n",
       "    <tr style=\"text-align: right;\">\n",
       "      <th></th>\n",
       "      <th>ID</th>\n",
       "      <th>pricesold</th>\n",
       "      <th>yearsold</th>\n",
       "      <th>zipcode</th>\n",
       "      <th>Mileage</th>\n",
       "      <th>Make</th>\n",
       "      <th>Model</th>\n",
       "      <th>Year</th>\n",
       "      <th>Trim</th>\n",
       "      <th>Engine</th>\n",
       "      <th>BodyType</th>\n",
       "      <th>NumCylinders</th>\n",
       "      <th>DriveType</th>\n",
       "      <th>Age</th>\n",
       "      <th>STATE</th>\n",
       "    </tr>\n",
       "  </thead>\n",
       "  <tbody>\n",
       "    <tr>\n",
       "      <th>9769</th>\n",
       "      <td>66493</td>\n",
       "      <td>235400</td>\n",
       "      <td>2019</td>\n",
       "      <td>64081</td>\n",
       "      <td>170</td>\n",
       "      <td>Ferrari</td>\n",
       "      <td>488</td>\n",
       "      <td>2018</td>\n",
       "      <td>Spider</td>\n",
       "      <td>3.9 L Twin Turbo V-8</td>\n",
       "      <td>Convertible</td>\n",
       "      <td>8</td>\n",
       "      <td>RWD</td>\n",
       "      <td>1</td>\n",
       "      <td>MO</td>\n",
       "    </tr>\n",
       "    <tr>\n",
       "      <th>19127</th>\n",
       "      <td>53152</td>\n",
       "      <td>247750</td>\n",
       "      <td>2019</td>\n",
       "      <td>77380</td>\n",
       "      <td>7915</td>\n",
       "      <td>Lamborghini</td>\n",
       "      <td>Diablo</td>\n",
       "      <td>1999</td>\n",
       "      <td>NaN</td>\n",
       "      <td>12</td>\n",
       "      <td>Coupe</td>\n",
       "      <td>0</td>\n",
       "      <td>NaN</td>\n",
       "      <td>20</td>\n",
       "      <td>TX</td>\n",
       "    </tr>\n",
       "    <tr>\n",
       "      <th>30288</th>\n",
       "      <td>33046</td>\n",
       "      <td>255100</td>\n",
       "      <td>2019</td>\n",
       "      <td>98121</td>\n",
       "      <td>377</td>\n",
       "      <td>Ferrari</td>\n",
       "      <td>488</td>\n",
       "      <td>2017</td>\n",
       "      <td>Spider</td>\n",
       "      <td>V8 turbo</td>\n",
       "      <td>Convertible</td>\n",
       "      <td>8</td>\n",
       "      <td>RWD</td>\n",
       "      <td>2</td>\n",
       "      <td>WA</td>\n",
       "    </tr>\n",
       "    <tr>\n",
       "      <th>31816</th>\n",
       "      <td>58962</td>\n",
       "      <td>246100</td>\n",
       "      <td>2019</td>\n",
       "      <td>11968</td>\n",
       "      <td>126</td>\n",
       "      <td>Rolls-Royce</td>\n",
       "      <td>Cullinan</td>\n",
       "      <td>2019</td>\n",
       "      <td>NaN</td>\n",
       "      <td>NaN</td>\n",
       "      <td>NaN</td>\n",
       "      <td>12</td>\n",
       "      <td>NaN</td>\n",
       "      <td>0</td>\n",
       "      <td>NY</td>\n",
       "    </tr>\n",
       "    <tr>\n",
       "      <th>31817</th>\n",
       "      <td>58864</td>\n",
       "      <td>345300</td>\n",
       "      <td>2019</td>\n",
       "      <td>11968</td>\n",
       "      <td>121</td>\n",
       "      <td>Rolls-Royce</td>\n",
       "      <td>Cullinan</td>\n",
       "      <td>2019</td>\n",
       "      <td>NaN</td>\n",
       "      <td>NaN</td>\n",
       "      <td>NaN</td>\n",
       "      <td>12</td>\n",
       "      <td>NaN</td>\n",
       "      <td>0</td>\n",
       "      <td>NY</td>\n",
       "    </tr>\n",
       "    <tr>\n",
       "      <th>34334</th>\n",
       "      <td>52754</td>\n",
       "      <td>333980</td>\n",
       "      <td>2019</td>\n",
       "      <td>77090</td>\n",
       "      <td>940</td>\n",
       "      <td>Rolls-Royce</td>\n",
       "      <td>Wraith</td>\n",
       "      <td>2019</td>\n",
       "      <td>NaN</td>\n",
       "      <td>6.6L V12 DGI DOHC 48V Twin Turbocharged</td>\n",
       "      <td>2dr Car</td>\n",
       "      <td>0</td>\n",
       "      <td>Coupe</td>\n",
       "      <td>0</td>\n",
       "      <td>TX</td>\n",
       "    </tr>\n",
       "    <tr>\n",
       "      <th>37334</th>\n",
       "      <td>10039</td>\n",
       "      <td>365000</td>\n",
       "      <td>2019</td>\n",
       "      <td>77005</td>\n",
       "      <td>36</td>\n",
       "      <td>Porsche</td>\n",
       "      <td>911</td>\n",
       "      <td>2018</td>\n",
       "      <td>GT2 RS</td>\n",
       "      <td>700 HP</td>\n",
       "      <td>Coupe</td>\n",
       "      <td>6</td>\n",
       "      <td>RWD</td>\n",
       "      <td>1</td>\n",
       "      <td>TX</td>\n",
       "    </tr>\n",
       "    <tr>\n",
       "      <th>47812</th>\n",
       "      <td>31907</td>\n",
       "      <td>210100</td>\n",
       "      <td>2019</td>\n",
       "      <td>61109</td>\n",
       "      <td>81900</td>\n",
       "      <td>Chevrolet</td>\n",
       "      <td>Nova</td>\n",
       "      <td>1969</td>\n",
       "      <td>NaN</td>\n",
       "      <td>427</td>\n",
       "      <td>Coupe</td>\n",
       "      <td>0</td>\n",
       "      <td>NaN</td>\n",
       "      <td>50</td>\n",
       "      <td>IL</td>\n",
       "    </tr>\n",
       "    <tr>\n",
       "      <th>48195</th>\n",
       "      <td>47188</td>\n",
       "      <td>230500</td>\n",
       "      <td>2019</td>\n",
       "      <td>84101</td>\n",
       "      <td>12656</td>\n",
       "      <td>McLaren</td>\n",
       "      <td>570</td>\n",
       "      <td>2017</td>\n",
       "      <td>S TheStradman's BabyMac</td>\n",
       "      <td>NaN</td>\n",
       "      <td>Coupe</td>\n",
       "      <td>8</td>\n",
       "      <td>RWD</td>\n",
       "      <td>2</td>\n",
       "      <td>UT</td>\n",
       "    </tr>\n",
       "    <tr>\n",
       "      <th>55560</th>\n",
       "      <td>90467</td>\n",
       "      <td>219000</td>\n",
       "      <td>2019</td>\n",
       "      <td>75225</td>\n",
       "      <td>586</td>\n",
       "      <td>Mercedes-Benz</td>\n",
       "      <td>G-Class</td>\n",
       "      <td>2019</td>\n",
       "      <td>G63</td>\n",
       "      <td>V8 TWIN TURBO</td>\n",
       "      <td>NaN</td>\n",
       "      <td>8</td>\n",
       "      <td>4WD</td>\n",
       "      <td>0</td>\n",
       "      <td>TX</td>\n",
       "    </tr>\n",
       "    <tr>\n",
       "      <th>59631</th>\n",
       "      <td>91625</td>\n",
       "      <td>249000</td>\n",
       "      <td>2020</td>\n",
       "      <td>33411</td>\n",
       "      <td>2982</td>\n",
       "      <td>Ferrari</td>\n",
       "      <td>488</td>\n",
       "      <td>2018</td>\n",
       "      <td>GTB</td>\n",
       "      <td>NaN</td>\n",
       "      <td>Coupe</td>\n",
       "      <td>8</td>\n",
       "      <td>RWD</td>\n",
       "      <td>2</td>\n",
       "      <td>FL</td>\n",
       "    </tr>\n",
       "    <tr>\n",
       "      <th>65161</th>\n",
       "      <td>16677</td>\n",
       "      <td>349500</td>\n",
       "      <td>2019</td>\n",
       "      <td>75093</td>\n",
       "      <td>1458</td>\n",
       "      <td>Ferrari</td>\n",
       "      <td>458</td>\n",
       "      <td>2015</td>\n",
       "      <td>Black</td>\n",
       "      <td>8cyl</td>\n",
       "      <td>Convertible</td>\n",
       "      <td>8</td>\n",
       "      <td>RWD</td>\n",
       "      <td>4</td>\n",
       "      <td>TX</td>\n",
       "    </tr>\n",
       "    <tr>\n",
       "      <th>66655</th>\n",
       "      <td>34454</td>\n",
       "      <td>210100</td>\n",
       "      <td>2019</td>\n",
       "      <td>11968</td>\n",
       "      <td>215</td>\n",
       "      <td>Mercedes-Benz</td>\n",
       "      <td>G-Class</td>\n",
       "      <td>2019</td>\n",
       "      <td>NaN</td>\n",
       "      <td>NaN</td>\n",
       "      <td>SUV</td>\n",
       "      <td>0</td>\n",
       "      <td>NaN</td>\n",
       "      <td>0</td>\n",
       "      <td>NY</td>\n",
       "    </tr>\n",
       "    <tr>\n",
       "      <th>74808</th>\n",
       "      <td>15610</td>\n",
       "      <td>249900</td>\n",
       "      <td>2019</td>\n",
       "      <td>33133</td>\n",
       "      <td>96</td>\n",
       "      <td>Porsche</td>\n",
       "      <td>911</td>\n",
       "      <td>2019</td>\n",
       "      <td>NaN</td>\n",
       "      <td>6</td>\n",
       "      <td>Coupe</td>\n",
       "      <td>0</td>\n",
       "      <td>NaN</td>\n",
       "      <td>0</td>\n",
       "      <td>FL</td>\n",
       "    </tr>\n",
       "    <tr>\n",
       "      <th>75711</th>\n",
       "      <td>19834</td>\n",
       "      <td>210600</td>\n",
       "      <td>2019</td>\n",
       "      <td>7030</td>\n",
       "      <td>1470</td>\n",
       "      <td>Porsche</td>\n",
       "      <td>911</td>\n",
       "      <td>2019</td>\n",
       "      <td>GT3 RS</td>\n",
       "      <td>4.0L</td>\n",
       "      <td>Coupe</td>\n",
       "      <td>6</td>\n",
       "      <td>RWD</td>\n",
       "      <td>0</td>\n",
       "      <td>NJ</td>\n",
       "    </tr>\n",
       "    <tr>\n",
       "      <th>76934</th>\n",
       "      <td>34409</td>\n",
       "      <td>241110</td>\n",
       "      <td>2019</td>\n",
       "      <td>91006</td>\n",
       "      <td>2719</td>\n",
       "      <td>Mercedes-Benz</td>\n",
       "      <td>SLR McLaren</td>\n",
       "      <td>2005</td>\n",
       "      <td>Silver Arrow</td>\n",
       "      <td>8</td>\n",
       "      <td>Coupe</td>\n",
       "      <td>8</td>\n",
       "      <td>RWD</td>\n",
       "      <td>14</td>\n",
       "      <td>CA</td>\n",
       "    </tr>\n",
       "  </tbody>\n",
       "</table>\n",
       "</div>"
      ],
      "text/plain": [
       "          ID  pricesold  yearsold  zipcode  Mileage           Make  \\\n",
       "9769   66493     235400      2019    64081      170        Ferrari   \n",
       "19127  53152     247750      2019    77380     7915    Lamborghini   \n",
       "30288  33046     255100      2019    98121      377        Ferrari   \n",
       "31816  58962     246100      2019    11968      126    Rolls-Royce   \n",
       "31817  58864     345300      2019    11968      121    Rolls-Royce   \n",
       "34334  52754     333980      2019    77090      940    Rolls-Royce   \n",
       "37334  10039     365000      2019    77005       36        Porsche   \n",
       "47812  31907     210100      2019    61109    81900      Chevrolet   \n",
       "48195  47188     230500      2019    84101    12656        McLaren   \n",
       "55560  90467     219000      2019    75225      586  Mercedes-Benz   \n",
       "59631  91625     249000      2020    33411     2982        Ferrari   \n",
       "65161  16677     349500      2019    75093     1458        Ferrari   \n",
       "66655  34454     210100      2019    11968      215  Mercedes-Benz   \n",
       "74808  15610     249900      2019    33133       96        Porsche   \n",
       "75711  19834     210600      2019     7030     1470        Porsche   \n",
       "76934  34409     241110      2019    91006     2719  Mercedes-Benz   \n",
       "\n",
       "             Model  Year                     Trim  \\\n",
       "9769           488  2018                   Spider   \n",
       "19127       Diablo  1999                      NaN   \n",
       "30288          488  2017                   Spider   \n",
       "31816     Cullinan  2019                      NaN   \n",
       "31817     Cullinan  2019                      NaN   \n",
       "34334       Wraith  2019                      NaN   \n",
       "37334          911  2018                   GT2 RS   \n",
       "47812         Nova  1969                      NaN   \n",
       "48195          570  2017  S TheStradman's BabyMac   \n",
       "55560      G-Class  2019                      G63   \n",
       "59631          488  2018                      GTB   \n",
       "65161          458  2015                    Black   \n",
       "66655      G-Class  2019                      NaN   \n",
       "74808          911  2019                      NaN   \n",
       "75711          911  2019                   GT3 RS   \n",
       "76934  SLR McLaren  2005             Silver Arrow   \n",
       "\n",
       "                                        Engine     BodyType  NumCylinders  \\\n",
       "9769                      3.9 L Twin Turbo V-8  Convertible             8   \n",
       "19127                                       12        Coupe             0   \n",
       "30288                                 V8 turbo  Convertible             8   \n",
       "31816                                      NaN          NaN            12   \n",
       "31817                                      NaN          NaN            12   \n",
       "34334  6.6L V12 DGI DOHC 48V Twin Turbocharged      2dr Car             0   \n",
       "37334                                   700 HP        Coupe             6   \n",
       "47812                                      427        Coupe             0   \n",
       "48195                                      NaN        Coupe             8   \n",
       "55560                            V8 TWIN TURBO          NaN             8   \n",
       "59631                                      NaN        Coupe             8   \n",
       "65161                                     8cyl  Convertible             8   \n",
       "66655                                      NaN          SUV             0   \n",
       "74808                                        6        Coupe             0   \n",
       "75711                                     4.0L        Coupe             6   \n",
       "76934                                        8        Coupe             8   \n",
       "\n",
       "      DriveType  Age STATE  \n",
       "9769        RWD    1    MO  \n",
       "19127       NaN   20    TX  \n",
       "30288       RWD    2    WA  \n",
       "31816       NaN    0    NY  \n",
       "31817       NaN    0    NY  \n",
       "34334     Coupe    0    TX  \n",
       "37334       RWD    1    TX  \n",
       "47812       NaN   50    IL  \n",
       "48195       RWD    2    UT  \n",
       "55560       4WD    0    TX  \n",
       "59631       RWD    2    FL  \n",
       "65161       RWD    4    TX  \n",
       "66655       NaN    0    NY  \n",
       "74808       NaN    0    FL  \n",
       "75711       RWD    0    NJ  \n",
       "76934       RWD   14    CA  "
      ]
     },
     "execution_count": 17,
     "metadata": {},
     "output_type": "execute_result"
    }
   ],
   "source": [
    "###//* Alright, lets talk about the elephant in the room. Exotic cars (those greater than 200k) are still bought and sold in any market. They can however skew the results\n",
    "###//* being in the data as these sales/purchases are less about features and more about name/exclusivity. \n",
    "\n",
    "df[df['pricesold']>200000]"
   ]
  },
  {
   "cell_type": "code",
   "execution_count": 18,
   "id": "5ec0f3cf",
   "metadata": {},
   "outputs": [],
   "source": [
    "df = df[df['pricesold']<400000]"
   ]
  },
  {
   "cell_type": "code",
   "execution_count": 19,
   "id": "ee5eeb17",
   "metadata": {},
   "outputs": [
    {
     "name": "stderr",
     "output_type": "stream",
     "text": [
      "C:\\Users\\cwnos\\anaconda3\\lib\\site-packages\\seaborn\\_decorators.py:36: FutureWarning: Pass the following variables as keyword args: x, y. From version 0.12, the only valid positional argument will be `data`, and passing other arguments without an explicit keyword will result in an error or misinterpretation.\n",
      "  warnings.warn(\n"
     ]
    },
    {
     "data": {
      "image/png": "[encoded data removed]",
      "text/plain": [
       "<Figure size 432x288 with 1 Axes>"
      ]
     },
     "metadata": {},
     "output_type": "display_data"
    }
   ],
   "source": [
    "g = sns.scatterplot(df['Age'],df['pricesold'])\n",
    "g.set(xlabel='Age', ylabel='Selling Price')\n",
    "plt.show()"
   ]
  },
  {
   "cell_type": "markdown",
   "id": "9d734958",
   "metadata": {},
   "source": [
    "Price by Miles driven"
   ]
  },
  {
   "cell_type": "code",
   "execution_count": 20,
   "id": "e023f6e9",
   "metadata": {},
   "outputs": [
    {
     "name": "stderr",
     "output_type": "stream",
     "text": [
      "C:\\Users\\cwnos\\anaconda3\\lib\\site-packages\\seaborn\\_decorators.py:36: FutureWarning: Pass the following variables as keyword args: x, y. From version 0.12, the only valid positional argument will be `data`, and passing other arguments without an explicit keyword will result in an error or misinterpretation.\n",
      "  warnings.warn(\n"
     ]
    },
    {
     "data": {
      "image/png": "[encoded data removed]",
      "text/plain": [
       "<Figure size 432x288 with 1 Axes>"
      ]
     },
     "metadata": {},
     "output_type": "display_data"
    }
   ],
   "source": [
    "g = sns.scatterplot(df['Mileage'],df['pricesold'])\n",
    "g.set(xlabel='Mileage', ylabel='Selling Price')\n",
    "plt.show()"
   ]
  },
  {
   "cell_type": "code",
   "execution_count": 21,
   "id": "39408f3c",
   "metadata": {},
   "outputs": [
    {
     "name": "stderr",
     "output_type": "stream",
     "text": [
      "C:\\Users\\cwnos\\anaconda3\\lib\\site-packages\\seaborn\\_decorators.py:36: FutureWarning: Pass the following variables as keyword args: x, y. From version 0.12, the only valid positional argument will be `data`, and passing other arguments without an explicit keyword will result in an error or misinterpretation.\n",
      "  warnings.warn(\n"
     ]
    },
    {
     "data": {
      "image/png": "[encoded data removed]",
      "text/plain": [
       "<Figure size 432x288 with 1 Axes>"
      ]
     },
     "metadata": {},
     "output_type": "display_data"
    }
   ],
   "source": [
    "###//* Interesting, it is showing that there are many million mile vehicles, that probably isn't right either. \n",
    "df = df[df['Mileage']<200000]\n",
    "g = sns.scatterplot(df['Mileage'],df['pricesold'])\n",
    "g.set(xlabel='Mileage', ylabel='Selling Price')\n",
    "plt.show()"
   ]
  },
  {
   "cell_type": "code",
   "execution_count": 66,
   "id": "874c7a96",
   "metadata": {},
   "outputs": [
    {
     "data": {
      "image/png": "[encoded data removed]",
      "text/plain": [
       "<Figure size 720x360 with 1 Axes>"
      ]
     },
     "metadata": {},
     "output_type": "display_data"
    }
   ],
   "source": [
    "###//* Lets look at the number of cylinders \n",
    "\n",
    "sns.distplot(df['NumCylinders'],kde=False,bins=20)\n",
    "plt.show()"
   ]
  },
  {
   "cell_type": "code",
   "execution_count": 67,
   "id": "55b5004e",
   "metadata": {},
   "outputs": [
    {
     "data": {
      "image/png": "[encoded data removed]",
      "text/plain": [
       "<Figure size 720x360 with 1 Axes>"
      ]
     },
     "metadata": {},
     "output_type": "display_data"
    }
   ],
   "source": [
    "###//* Wow! I can't imagine a vehicle with 400 cylinders but it would be a sight to see. Of course there is the other possibility that we have some entry errors. Lets limit the number of cylinders to that of a Bugati. \n",
    "df = df[df['NumCylinders']<=16]\n",
    "sns.distplot(df['NumCylinders'],kde=False,bins=16)\n",
    "plt.show()"
   ]
  },
  {
   "cell_type": "code",
   "execution_count": 24,
   "id": "5179ed80",
   "metadata": {},
   "outputs": [
    {
     "data": {
      "text/html": [
       "<div>\n",
       "<style scoped>\n",
       "    .dataframe tbody tr th:only-of-type {\n",
       "        vertical-align: middle;\n",
       "    }\n",
       "\n",
       "    .dataframe tbody tr th {\n",
       "        vertical-align: top;\n",
       "    }\n",
       "\n",
       "    .dataframe thead th {\n",
       "        text-align: right;\n",
       "    }\n",
       "</style>\n",
       "<table border=\"1\" class=\"dataframe\">\n",
       "  <thead>\n",
       "    <tr style=\"text-align: right;\">\n",
       "      <th></th>\n",
       "      <th>ID</th>\n",
       "      <th>pricesold</th>\n",
       "      <th>yearsold</th>\n",
       "      <th>zipcode</th>\n",
       "      <th>Mileage</th>\n",
       "      <th>Make</th>\n",
       "      <th>Model</th>\n",
       "      <th>Year</th>\n",
       "      <th>Trim</th>\n",
       "      <th>Engine</th>\n",
       "      <th>BodyType</th>\n",
       "      <th>NumCylinders</th>\n",
       "      <th>DriveType</th>\n",
       "      <th>Age</th>\n",
       "      <th>STATE</th>\n",
       "    </tr>\n",
       "  </thead>\n",
       "  <tbody>\n",
       "    <tr>\n",
       "      <th>4</th>\n",
       "      <td>5250</td>\n",
       "      <td>70000</td>\n",
       "      <td>2019</td>\n",
       "      <td>7627</td>\n",
       "      <td>6500</td>\n",
       "      <td>Land Rover</td>\n",
       "      <td>Defender</td>\n",
       "      <td>1997</td>\n",
       "      <td>NaN</td>\n",
       "      <td>4.0 Liter Fuel Injected V8</td>\n",
       "      <td>NaN</td>\n",
       "      <td>0</td>\n",
       "      <td>4WD</td>\n",
       "      <td>22</td>\n",
       "      <td>NJ</td>\n",
       "    </tr>\n",
       "    <tr>\n",
       "      <th>6</th>\n",
       "      <td>80293</td>\n",
       "      <td>25200</td>\n",
       "      <td>2019</td>\n",
       "      <td>33759</td>\n",
       "      <td>15000</td>\n",
       "      <td>Pontiac</td>\n",
       "      <td>GTO</td>\n",
       "      <td>1970</td>\n",
       "      <td>NaN</td>\n",
       "      <td>NaN</td>\n",
       "      <td>NaN</td>\n",
       "      <td>0</td>\n",
       "      <td>NaN</td>\n",
       "      <td>49</td>\n",
       "      <td>FL</td>\n",
       "    </tr>\n",
       "    <tr>\n",
       "      <th>18</th>\n",
       "      <td>116641</td>\n",
       "      <td>3020</td>\n",
       "      <td>2020</td>\n",
       "      <td>6810</td>\n",
       "      <td>94700</td>\n",
       "      <td>Jeep</td>\n",
       "      <td>Liberty</td>\n",
       "      <td>2011</td>\n",
       "      <td>NaN</td>\n",
       "      <td>NaN</td>\n",
       "      <td>NaN</td>\n",
       "      <td>0</td>\n",
       "      <td>NaN</td>\n",
       "      <td>9</td>\n",
       "      <td>CT</td>\n",
       "    </tr>\n",
       "    <tr>\n",
       "      <th>19</th>\n",
       "      <td>79126</td>\n",
       "      <td>17980</td>\n",
       "      <td>2019</td>\n",
       "      <td>11727</td>\n",
       "      <td>64020</td>\n",
       "      <td>Oldsmobile</td>\n",
       "      <td>442</td>\n",
       "      <td>1967</td>\n",
       "      <td>NaN</td>\n",
       "      <td>400 turbo engine</td>\n",
       "      <td>2 Door Hard Top</td>\n",
       "      <td>0</td>\n",
       "      <td>NaN</td>\n",
       "      <td>52</td>\n",
       "      <td>NY</td>\n",
       "    </tr>\n",
       "    <tr>\n",
       "      <th>29</th>\n",
       "      <td>9704</td>\n",
       "      <td>17000</td>\n",
       "      <td>2019</td>\n",
       "      <td>72223</td>\n",
       "      <td>0</td>\n",
       "      <td>Dodge</td>\n",
       "      <td>Other</td>\n",
       "      <td>1936</td>\n",
       "      <td>NaN</td>\n",
       "      <td>NaN</td>\n",
       "      <td>NaN</td>\n",
       "      <td>0</td>\n",
       "      <td>NaN</td>\n",
       "      <td>83</td>\n",
       "      <td>AR</td>\n",
       "    </tr>\n",
       "    <tr>\n",
       "      <th>...</th>\n",
       "      <td>...</td>\n",
       "      <td>...</td>\n",
       "      <td>...</td>\n",
       "      <td>...</td>\n",
       "      <td>...</td>\n",
       "      <td>...</td>\n",
       "      <td>...</td>\n",
       "      <td>...</td>\n",
       "      <td>...</td>\n",
       "      <td>...</td>\n",
       "      <td>...</td>\n",
       "      <td>...</td>\n",
       "      <td>...</td>\n",
       "      <td>...</td>\n",
       "      <td>...</td>\n",
       "    </tr>\n",
       "    <tr>\n",
       "      <th>82461</th>\n",
       "      <td>31104</td>\n",
       "      <td>14800</td>\n",
       "      <td>2019</td>\n",
       "      <td>98226</td>\n",
       "      <td>15000</td>\n",
       "      <td>Packard</td>\n",
       "      <td>NaN</td>\n",
       "      <td>1956</td>\n",
       "      <td>NaN</td>\n",
       "      <td>NaN</td>\n",
       "      <td>NaN</td>\n",
       "      <td>0</td>\n",
       "      <td>NaN</td>\n",
       "      <td>63</td>\n",
       "      <td>WA</td>\n",
       "    </tr>\n",
       "    <tr>\n",
       "      <th>82462</th>\n",
       "      <td>118002</td>\n",
       "      <td>3550</td>\n",
       "      <td>2020</td>\n",
       "      <td>35051</td>\n",
       "      <td>100000</td>\n",
       "      <td>Chevrolet</td>\n",
       "      <td>Fleetmaster</td>\n",
       "      <td>1947</td>\n",
       "      <td>NaN</td>\n",
       "      <td>NaN</td>\n",
       "      <td>NaN</td>\n",
       "      <td>0</td>\n",
       "      <td>NaN</td>\n",
       "      <td>73</td>\n",
       "      <td>AL</td>\n",
       "    </tr>\n",
       "    <tr>\n",
       "      <th>82470</th>\n",
       "      <td>70536</td>\n",
       "      <td>3050</td>\n",
       "      <td>2019</td>\n",
       "      <td>20905</td>\n",
       "      <td>52000</td>\n",
       "      <td>Smart</td>\n",
       "      <td>Fortwo</td>\n",
       "      <td>2009</td>\n",
       "      <td>Passion</td>\n",
       "      <td>NaN</td>\n",
       "      <td>NaN</td>\n",
       "      <td>0</td>\n",
       "      <td>NaN</td>\n",
       "      <td>10</td>\n",
       "      <td>MD</td>\n",
       "    </tr>\n",
       "    <tr>\n",
       "      <th>82485</th>\n",
       "      <td>47179</td>\n",
       "      <td>4900</td>\n",
       "      <td>2019</td>\n",
       "      <td>95407</td>\n",
       "      <td>69132</td>\n",
       "      <td>Pontiac</td>\n",
       "      <td>GTO</td>\n",
       "      <td>1970</td>\n",
       "      <td>GTO</td>\n",
       "      <td>400 v8</td>\n",
       "      <td>NaN</td>\n",
       "      <td>0</td>\n",
       "      <td>RWD</td>\n",
       "      <td>49</td>\n",
       "      <td>CA</td>\n",
       "    </tr>\n",
       "    <tr>\n",
       "      <th>82491</th>\n",
       "      <td>58814</td>\n",
       "      <td>6500</td>\n",
       "      <td>2019</td>\n",
       "      <td>53132</td>\n",
       "      <td>128000</td>\n",
       "      <td>Ford</td>\n",
       "      <td>E-Series Van</td>\n",
       "      <td>2012</td>\n",
       "      <td>NaN</td>\n",
       "      <td>E-150</td>\n",
       "      <td>NaN</td>\n",
       "      <td>0</td>\n",
       "      <td>NaN</td>\n",
       "      <td>7</td>\n",
       "      <td>WI</td>\n",
       "    </tr>\n",
       "  </tbody>\n",
       "</table>\n",
       "<p>16339 rows × 15 columns</p>\n",
       "</div>"
      ],
      "text/plain": [
       "           ID  pricesold  yearsold  zipcode  Mileage        Make  \\\n",
       "4        5250      70000      2019     7627     6500  Land Rover   \n",
       "6       80293      25200      2019    33759    15000     Pontiac   \n",
       "18     116641       3020      2020     6810    94700        Jeep   \n",
       "19      79126      17980      2019    11727    64020  Oldsmobile   \n",
       "29       9704      17000      2019    72223        0       Dodge   \n",
       "...       ...        ...       ...      ...      ...         ...   \n",
       "82461   31104      14800      2019    98226    15000     Packard   \n",
       "82462  118002       3550      2020    35051   100000   Chevrolet   \n",
       "82470   70536       3050      2019    20905    52000       Smart   \n",
       "82485   47179       4900      2019    95407    69132     Pontiac   \n",
       "82491   58814       6500      2019    53132   128000        Ford   \n",
       "\n",
       "              Model  Year     Trim                      Engine  \\\n",
       "4          Defender  1997      NaN  4.0 Liter Fuel Injected V8   \n",
       "6               GTO  1970      NaN                         NaN   \n",
       "18          Liberty  2011      NaN                         NaN   \n",
       "19              442  1967      NaN            400 turbo engine   \n",
       "29            Other  1936      NaN                         NaN   \n",
       "...             ...   ...      ...                         ...   \n",
       "82461           NaN  1956      NaN                         NaN   \n",
       "82462   Fleetmaster  1947      NaN                         NaN   \n",
       "82470        Fortwo  2009  Passion                         NaN   \n",
       "82485           GTO  1970      GTO                      400 v8   \n",
       "82491  E-Series Van  2012      NaN                       E-150   \n",
       "\n",
       "              BodyType  NumCylinders DriveType  Age STATE  \n",
       "4                  NaN             0       4WD   22    NJ  \n",
       "6                  NaN             0       NaN   49    FL  \n",
       "18                 NaN             0       NaN    9    CT  \n",
       "19     2 Door Hard Top             0       NaN   52    NY  \n",
       "29                 NaN             0       NaN   83    AR  \n",
       "...                ...           ...       ...  ...   ...  \n",
       "82461              NaN             0       NaN   63    WA  \n",
       "82462              NaN             0       NaN   73    AL  \n",
       "82470              NaN             0       NaN   10    MD  \n",
       "82485              NaN             0       RWD   49    CA  \n",
       "82491              NaN             0       NaN    7    WI  \n",
       "\n",
       "[16339 rows x 15 columns]"
      ]
     },
     "execution_count": 24,
     "metadata": {},
     "output_type": "execute_result"
    }
   ],
   "source": [
    "###//* Amazing, vehicles with zero cylinders. They must be Jet cars! No? You're right we should probably take a look at them. \n",
    "df[df['NumCylinders']<2]\n"
   ]
  },
  {
   "cell_type": "code",
   "execution_count": 25,
   "id": "62f6b9ec",
   "metadata": {},
   "outputs": [
    {
     "name": "stderr",
     "output_type": "stream",
     "text": [
      "C:\\Users\\cwnos\\anaconda3\\lib\\site-packages\\seaborn\\distributions.py:2619: FutureWarning: `distplot` is a deprecated function and will be removed in a future version. Please adapt your code to use either `displot` (a figure-level function with similar flexibility) or `histplot` (an axes-level function for histograms).\n",
      "  warnings.warn(msg, FutureWarning)\n"
     ]
    },
    {
     "data": {
      "image/png": "[encoded data removed]",
      "text/plain": [
       "<Figure size 432x288 with 1 Axes>"
      ]
     },
     "metadata": {},
     "output_type": "display_data"
    }
   ],
   "source": [
    "###//* While there is probably a way to map these entries to find their actual values, I'm not sure if there is any value to be added as it \n",
    "###//* looks like other there are multilple blank values in these entries, it might be better to remove them and move on. \n",
    "df = df[df['NumCylinders']>=2]\n",
    "sns.distplot(df['NumCylinders'],kde=False,bins=16)\n",
    "plt.show()"
   ]
  },
  {
   "cell_type": "code",
   "execution_count": 68,
   "id": "f71a25cd",
   "metadata": {},
   "outputs": [
    {
     "data": {
      "image/png": "[encoded data removed]",
      "text/plain": [
       "<Figure size 720x360 with 2 Axes>"
      ]
     },
     "metadata": {},
     "output_type": "display_data"
    }
   ],
   "source": [
    "###//* Certainly Age of vehicle / historical status can factor into the vehicle price. It would stand to reason that newer vehicles depreciate over time while historical/classic vehicles appreciate. \n",
    "modern = df[df['Age'] <= 25]\n",
    "classics = df[df['Age'] > 25]\n",
    "\n",
    "plt.subplot(1, 2, 1)\n",
    "plt.scatter(modern['Age'],modern['pricesold'])\n",
    "plt.ylabel('Selling Price')\n",
    "plt.xlabel('Age')\n",
    "plt.title('Modern Selling Prices')\n",
    "plt.subplot(1, 2, 2)\n",
    "plt.scatter(classics['Age'],classics['pricesold'])\n",
    "plt.ylabel('Selling Price')\n",
    "plt.xlabel('Age')\n",
    "plt.title('Classics Selling Prices')\n",
    "plt.tight_layout()\n",
    "plt.show()"
   ]
  },
  {
   "cell_type": "code",
   "execution_count": 27,
   "id": "c10d01f7",
   "metadata": {},
   "outputs": [],
   "source": [
    "###//* As expected newer vehicles prices go down over time and to an extent older vehicles (classics) tend to go up in value.\n",
    "###//* Let's look at some more visuals. "
   ]
  },
  {
   "cell_type": "markdown",
   "id": "60a2c05c",
   "metadata": {},
   "source": [
    "Sales by make"
   ]
  },
  {
   "cell_type": "code",
   "execution_count": 28,
   "id": "323d2ce9",
   "metadata": {},
   "outputs": [
    {
     "data": {
      "image/png": "[encoded data removed]",
      "text/plain": [
       "<Figure size 720x360 with 2 Axes>"
      ]
     },
     "metadata": {},
     "output_type": "display_data"
    }
   ],
   "source": [
    "plt.rcParams[\"figure.figsize\"] = [10,5]\n",
    "plt.subplot(1, 2, 1)\n",
    "makes = modern['Make'].value_counts(ascending=True).tail(10).index\n",
    "y_pos = np.arange(len(makes))\n",
    "salescount = modern['Make'].value_counts(ascending=True).tail(10).values \n",
    "plt.barh(y_pos, salescount, align='center', alpha=0.5)\n",
    "plt.yticks(y_pos, makes)\n",
    "plt.ylabel('Makes')\n",
    "plt.title('Modern Top 10 Sales count')\n",
    "plt.subplot(1, 2, 2)\n",
    "makes = classics['Make'].value_counts(ascending=True).tail(10).index\n",
    "y_pos = np.arange(len(makes))\n",
    "salescount = classics['Make'].value_counts(ascending=True).tail(10).values \n",
    "plt.barh(y_pos, salescount, align='center', alpha=0.5)\n",
    "plt.yticks(y_pos, makes)\n",
    "plt.ylabel('Makes')\n",
    "plt.title('Classics Top 10 Sales count')\n",
    "plt.tight_layout()\n",
    "plt.show()"
   ]
  },
  {
   "cell_type": "markdown",
   "id": "e5315d5f",
   "metadata": {},
   "source": [
    "Sales by State"
   ]
  },
  {
   "cell_type": "code",
   "execution_count": 29,
   "id": "95f8d36b",
   "metadata": {},
   "outputs": [],
   "source": [
    "states = df['STATE'].value_counts().index\n",
    "salescount = df['STATE'].value_counts().values"
   ]
  },
  {
   "cell_type": "code",
   "execution_count": 30,
   "id": "4b3eaaba",
   "metadata": {},
   "outputs": [
    {
     "data": {
      "text/html": [
       "        <script type=\"text/javascript\">\n",
       "        window.PlotlyConfig = {MathJaxConfig: 'local'};\n",
       "        if (window.MathJax) {MathJax.Hub.Config({SVG: {font: \"STIX-Web\"}});}\n",
       "        if (typeof require !== 'undefined') {\n",
       "        require.undef(\"plotly\");\n",
       "        requirejs.config({\n",
       "            paths: {\n",
       "                'plotly': ['https://cdn.plot.ly/plotly-2.9.0.min']\n",
       "            }\n",
       "        });\n",
       "        require(['plotly'], function(Plotly) {\n",
       "            window._Plotly = Plotly;\n",
       "        });\n",
       "        }\n",
       "        </script>\n",
       "        "
      ]
     },
     "metadata": {},
     "output_type": "display_data"
    },
    {
     "data": {
      "application/vnd.plotly.v1+json": {
       "config": {
        "linkText": "Export to plot.ly",
        "plotlyServerURL": "https://plot.ly",
        "showLink": false
       },
       "data": [
        {
         "colorbar": {
          "title": {
           "text": "Salescount"
          }
         },
         "locationmode": "USA-states",
         "locations": [
          "CA",
          "FL",
          "MI",
          "PA",
          "TX",
          "NY",
          "NJ",
          "OH",
          "IL",
          "MD",
          "GA",
          "NC",
          "VA",
          "WA",
          "AZ",
          "MA",
          "CO",
          "CT",
          "TN",
          "NV",
          "OR",
          "IN",
          "KY",
          "MO",
          "WI",
          "SC",
          "AL",
          "MN",
          "ID",
          "IA",
          "MS",
          "UT",
          "OK",
          "KS",
          "NE",
          "LA",
          "AR",
          "NH",
          "WV",
          "NM",
          "DE",
          "MT",
          "RI",
          "ME",
          "ND",
          "WY",
          "SD",
          "VT",
          "HI",
          "DC",
          "AK",
          "PR"
         ],
         "type": "choropleth",
         "z": [
          8307,
          5991,
          4048,
          3819,
          3758,
          3337,
          2488,
          2119,
          1699,
          1513,
          1382,
          1269,
          1249,
          1165,
          1095,
          1083,
          972,
          955,
          860,
          854,
          849,
          821,
          780,
          725,
          661,
          646,
          505,
          500,
          437,
          432,
          389,
          374,
          353,
          345,
          285,
          280,
          278,
          257,
          256,
          244,
          210,
          210,
          157,
          140,
          94,
          74,
          66,
          59,
          43,
          23,
          10,
          1
         ]
        }
       ],
       "layout": {
        "geo": {
         "projection": {
          "type": "albers usa"
         },
         "scope": "usa"
        },
        "template": {
         "data": {
          "bar": [
           {
            "error_x": {
             "color": "#2a3f5f"
            },
            "error_y": {
             "color": "#2a3f5f"
            },
            "marker": {
             "line": {
              "color": "#E5ECF6",
              "width": 0.5
             },
             "pattern": {
              "fillmode": "overlay",
              "size": 10,
              "solidity": 0.2
             }
            },
            "type": "bar"
           }
          ],
          "barpolar": [
           {
            "marker": {
             "line": {
              "color": "#E5ECF6",
              "width": 0.5
             },
             "pattern": {
              "fillmode": "overlay",
              "size": 10,
              "solidity": 0.2
             }
            },
            "type": "barpolar"
           }
          ],
          "carpet": [
           {
            "aaxis": {
             "endlinecolor": "#2a3f5f",
             "gridcolor": "white",
             "linecolor": "white",
             "minorgridcolor": "white",
             "startlinecolor": "#2a3f5f"
            },
            "baxis": {
             "endlinecolor": "#2a3f5f",
             "gridcolor": "white",
             "linecolor": "white",
             "minorgridcolor": "white",
             "startlinecolor": "#2a3f5f"
            },
            "type": "carpet"
           }
          ],
          "choropleth": [
           {
            "colorbar": {
             "outlinewidth": 0,
             "ticks": ""
            },
            "type": "choropleth"
           }
          ],
          "contour": [
           {
            "colorbar": {
             "outlinewidth": 0,
             "ticks": ""
            },
            "colorscale": [
             [
              0,
              "#0d0887"
             ],
             [
              0.1111111111111111,
              "#46039f"
             ],
             [
              0.2222222222222222,
              "#7201a8"
             ],
             [
              0.3333333333333333,
              "#9c179e"
             ],
             [
              0.4444444444444444,
              "#bd3786"
             ],
             [
              0.5555555555555556,
              "#d8576b"
             ],
             [
              0.6666666666666666,
              "#ed7953"
             ],
             [
              0.7777777777777778,
              "#fb9f3a"
             ],
             [
              0.8888888888888888,
              "#fdca26"
             ],
             [
              1,
              "#f0f921"
             ]
            ],
            "type": "contour"
           }
          ],
          "contourcarpet": [
           {
            "colorbar": {
             "outlinewidth": 0,
             "ticks": ""
            },
            "type": "contourcarpet"
           }
          ],
          "heatmap": [
           {
            "colorbar": {
             "outlinewidth": 0,
             "ticks": ""
            },
            "colorscale": [
             [
              0,
              "#0d0887"
             ],
             [
              0.1111111111111111,
              "#46039f"
             ],
             [
              0.2222222222222222,
              "#7201a8"
             ],
             [
              0.3333333333333333,
              "#9c179e"
             ],
             [
              0.4444444444444444,
              "#bd3786"
             ],
             [
              0.5555555555555556,
              "#d8576b"
             ],
             [
              0.6666666666666666,
              "#ed7953"
             ],
             [
              0.7777777777777778,
              "#fb9f3a"
             ],
             [
              0.8888888888888888,
              "#fdca26"
             ],
             [
              1,
              "#f0f921"
             ]
            ],
            "type": "heatmap"
           }
          ],
          "heatmapgl": [
           {
            "colorbar": {
             "outlinewidth": 0,
             "ticks": ""
            },
            "colorscale": [
             [
              0,
              "#0d0887"
             ],
             [
              0.1111111111111111,
              "#46039f"
             ],
             [
              0.2222222222222222,
              "#7201a8"
             ],
             [
              0.3333333333333333,
              "#9c179e"
             ],
             [
              0.4444444444444444,
              "#bd3786"
             ],
             [
              0.5555555555555556,
              "#d8576b"
             ],
             [
              0.6666666666666666,
              "#ed7953"
             ],
             [
              0.7777777777777778,
              "#fb9f3a"
             ],
             [
              0.8888888888888888,
              "#fdca26"
             ],
             [
              1,
              "#f0f921"
             ]
            ],
            "type": "heatmapgl"
           }
          ],
          "histogram": [
           {
            "marker": {
             "pattern": {
              "fillmode": "overlay",
              "size": 10,
              "solidity": 0.2
             }
            },
            "type": "histogram"
           }
          ],
          "histogram2d": [
           {
            "colorbar": {
             "outlinewidth": 0,
             "ticks": ""
            },
            "colorscale": [
             [
              0,
              "#0d0887"
             ],
             [
              0.1111111111111111,
              "#46039f"
             ],
             [
              0.2222222222222222,
              "#7201a8"
             ],
             [
              0.3333333333333333,
              "#9c179e"
             ],
             [
              0.4444444444444444,
              "#bd3786"
             ],
             [
              0.5555555555555556,
              "#d8576b"
             ],
             [
              0.6666666666666666,
              "#ed7953"
             ],
             [
              0.7777777777777778,
              "#fb9f3a"
             ],
             [
              0.8888888888888888,
              "#fdca26"
             ],
             [
              1,
              "#f0f921"
             ]
            ],
            "type": "histogram2d"
           }
          ],
          "histogram2dcontour": [
           {
            "colorbar": {
             "outlinewidth": 0,
             "ticks": ""
            },
            "colorscale": [
             [
              0,
              "#0d0887"
             ],
             [
              0.1111111111111111,
              "#46039f"
             ],
             [
              0.2222222222222222,
              "#7201a8"
             ],
             [
              0.3333333333333333,
              "#9c179e"
             ],
             [
              0.4444444444444444,
              "#bd3786"
             ],
             [
              0.5555555555555556,
              "#d8576b"
             ],
             [
              0.6666666666666666,
              "#ed7953"
             ],
             [
              0.7777777777777778,
              "#fb9f3a"
             ],
             [
              0.8888888888888888,
              "#fdca26"
             ],
             [
              1,
              "#f0f921"
             ]
            ],
            "type": "histogram2dcontour"
           }
          ],
          "mesh3d": [
           {
            "colorbar": {
             "outlinewidth": 0,
             "ticks": ""
            },
            "type": "mesh3d"
           }
          ],
          "parcoords": [
           {
            "line": {
             "colorbar": {
              "outlinewidth": 0,
              "ticks": ""
             }
            },
            "type": "parcoords"
           }
          ],
          "pie": [
           {
            "automargin": true,
            "type": "pie"
           }
          ],
          "scatter": [
           {
            "marker": {
             "colorbar": {
              "outlinewidth": 0,
              "ticks": ""
             }
            },
            "type": "scatter"
           }
          ],
          "scatter3d": [
           {
            "line": {
             "colorbar": {
              "outlinewidth": 0,
              "ticks": ""
             }
            },
            "marker": {
             "colorbar": {
              "outlinewidth": 0,
              "ticks": ""
             }
            },
            "type": "scatter3d"
           }
          ],
          "scattercarpet": [
           {
            "marker": {
             "colorbar": {
              "outlinewidth": 0,
              "ticks": ""
             }
            },
            "type": "scattercarpet"
           }
          ],
          "scattergeo": [
           {
            "marker": {
             "colorbar": {
              "outlinewidth": 0,
              "ticks": ""
             }
            },
            "type": "scattergeo"
           }
          ],
          "scattergl": [
           {
            "marker": {
             "colorbar": {
              "outlinewidth": 0,
              "ticks": ""
             }
            },
            "type": "scattergl"
           }
          ],
          "scattermapbox": [
           {
            "marker": {
             "colorbar": {
              "outlinewidth": 0,
              "ticks": ""
             }
            },
            "type": "scattermapbox"
           }
          ],
          "scatterpolar": [
           {
            "marker": {
             "colorbar": {
              "outlinewidth": 0,
              "ticks": ""
             }
            },
            "type": "scatterpolar"
           }
          ],
          "scatterpolargl": [
           {
            "marker": {
             "colorbar": {
              "outlinewidth": 0,
              "ticks": ""
             }
            },
            "type": "scatterpolargl"
           }
          ],
          "scatterternary": [
           {
            "marker": {
             "colorbar": {
              "outlinewidth": 0,
              "ticks": ""
             }
            },
            "type": "scatterternary"
           }
          ],
          "surface": [
           {
            "colorbar": {
             "outlinewidth": 0,
             "ticks": ""
            },
            "colorscale": [
             [
              0,
              "#0d0887"
             ],
             [
              0.1111111111111111,
              "#46039f"
             ],
             [
              0.2222222222222222,
              "#7201a8"
             ],
             [
              0.3333333333333333,
              "#9c179e"
             ],
             [
              0.4444444444444444,
              "#bd3786"
             ],
             [
              0.5555555555555556,
              "#d8576b"
             ],
             [
              0.6666666666666666,
              "#ed7953"
             ],
             [
              0.7777777777777778,
              "#fb9f3a"
             ],
             [
              0.8888888888888888,
              "#fdca26"
             ],
             [
              1,
              "#f0f921"
             ]
            ],
            "type": "surface"
           }
          ],
          "table": [
           {
            "cells": {
             "fill": {
              "color": "#EBF0F8"
             },
             "line": {
              "color": "white"
             }
            },
            "header": {
             "fill": {
              "color": "#C8D4E3"
             },
             "line": {
              "color": "white"
             }
            },
            "type": "table"
           }
          ]
         },
         "layout": {
          "annotationdefaults": {
           "arrowcolor": "#2a3f5f",
           "arrowhead": 0,
           "arrowwidth": 1
          },
          "autotypenumbers": "strict",
          "coloraxis": {
           "colorbar": {
            "outlinewidth": 0,
            "ticks": ""
           }
          },
          "colorscale": {
           "diverging": [
            [
             0,
             "#8e0152"
            ],
            [
             0.1,
             "#c51b7d"
            ],
            [
             0.2,
             "#de77ae"
            ],
            [
             0.3,
             "#f1b6da"
            ],
            [
             0.4,
             "#fde0ef"
            ],
            [
             0.5,
             "#f7f7f7"
            ],
            [
             0.6,
             "#e6f5d0"
            ],
            [
             0.7,
             "#b8e186"
            ],
            [
             0.8,
             "#7fbc41"
            ],
            [
             0.9,
             "#4d9221"
            ],
            [
             1,
             "#276419"
            ]
           ],
           "sequential": [
            [
             0,
             "#0d0887"
            ],
            [
             0.1111111111111111,
             "#46039f"
            ],
            [
             0.2222222222222222,
             "#7201a8"
            ],
            [
             0.3333333333333333,
             "#9c179e"
            ],
            [
             0.4444444444444444,
             "#bd3786"
            ],
            [
             0.5555555555555556,
             "#d8576b"
            ],
            [
             0.6666666666666666,
             "#ed7953"
            ],
            [
             0.7777777777777778,
             "#fb9f3a"
            ],
            [
             0.8888888888888888,
             "#fdca26"
            ],
            [
             1,
             "#f0f921"
            ]
           ],
           "sequentialminus": [
            [
             0,
             "#0d0887"
            ],
            [
             0.1111111111111111,
             "#46039f"
            ],
            [
             0.2222222222222222,
             "#7201a8"
            ],
            [
             0.3333333333333333,
             "#9c179e"
            ],
            [
             0.4444444444444444,
             "#bd3786"
            ],
            [
             0.5555555555555556,
             "#d8576b"
            ],
            [
             0.6666666666666666,
             "#ed7953"
            ],
            [
             0.7777777777777778,
             "#fb9f3a"
            ],
            [
             0.8888888888888888,
             "#fdca26"
            ],
            [
             1,
             "#f0f921"
            ]
           ]
          },
          "colorway": [
           "#636efa",
           "#EF553B",
           "#00cc96",
           "#ab63fa",
           "#FFA15A",
           "#19d3f3",
           "#FF6692",
           "#B6E880",
           "#FF97FF",
           "#FECB52"
          ],
          "font": {
           "color": "#2a3f5f"
          },
          "geo": {
           "bgcolor": "white",
           "lakecolor": "white",
           "landcolor": "#E5ECF6",
           "showlakes": true,
           "showland": true,
           "subunitcolor": "white"
          },
          "hoverlabel": {
           "align": "left"
          },
          "hovermode": "closest",
          "mapbox": {
           "style": "light"
          },
          "paper_bgcolor": "white",
          "plot_bgcolor": "#E5ECF6",
          "polar": {
           "angularaxis": {
            "gridcolor": "white",
            "linecolor": "white",
            "ticks": ""
           },
           "bgcolor": "#E5ECF6",
           "radialaxis": {
            "gridcolor": "white",
            "linecolor": "white",
            "ticks": ""
           }
          },
          "scene": {
           "xaxis": {
            "backgroundcolor": "#E5ECF6",
            "gridcolor": "white",
            "gridwidth": 2,
            "linecolor": "white",
            "showbackground": true,
            "ticks": "",
            "zerolinecolor": "white"
           },
           "yaxis": {
            "backgroundcolor": "#E5ECF6",
            "gridcolor": "white",
            "gridwidth": 2,
            "linecolor": "white",
            "showbackground": true,
            "ticks": "",
            "zerolinecolor": "white"
           },
           "zaxis": {
            "backgroundcolor": "#E5ECF6",
            "gridcolor": "white",
            "gridwidth": 2,
            "linecolor": "white",
            "showbackground": true,
            "ticks": "",
            "zerolinecolor": "white"
           }
          },
          "shapedefaults": {
           "line": {
            "color": "#2a3f5f"
           }
          },
          "ternary": {
           "aaxis": {
            "gridcolor": "white",
            "linecolor": "white",
            "ticks": ""
           },
           "baxis": {
            "gridcolor": "white",
            "linecolor": "white",
            "ticks": ""
           },
           "bgcolor": "#E5ECF6",
           "caxis": {
            "gridcolor": "white",
            "linecolor": "white",
            "ticks": ""
           }
          },
          "title": {
           "x": 0.05
          },
          "xaxis": {
           "automargin": true,
           "gridcolor": "white",
           "linecolor": "white",
           "ticks": "",
           "title": {
            "standoff": 15
           },
           "zerolinecolor": "white",
           "zerolinewidth": 2
          },
          "yaxis": {
           "automargin": true,
           "gridcolor": "white",
           "linecolor": "white",
           "ticks": "",
           "title": {
            "standoff": 15
           },
           "zerolinecolor": "white",
           "zerolinewidth": 2
          }
         }
        },
        "title": {
         "text": "US used car sales by states"
        }
       }
      },
      "text/html": [
       "<div>                            <div id=\"0703e986-4c00-4e88-b26a-046c55e30ab1\" class=\"plotly-graph-div\" style=\"height:525px; width:100%;\"></div>            <script type=\"text/javascript\">                require([\"plotly\"], function(Plotly) {                    window.PLOTLYENV=window.PLOTLYENV || {};                                    if (document.getElementById(\"0703e986-4c00-4e88-b26a-046c55e30ab1\")) {                    Plotly.newPlot(                        \"0703e986-4c00-4e88-b26a-046c55e30ab1\",                        [{\"colorbar\":{\"title\":{\"text\":\"Salescount\"}},\"locationmode\":\"USA-states\",\"locations\":[\"CA\",\"FL\",\"MI\",\"PA\",\"TX\",\"NY\",\"NJ\",\"OH\",\"IL\",\"MD\",\"GA\",\"NC\",\"VA\",\"WA\",\"AZ\",\"MA\",\"CO\",\"CT\",\"TN\",\"NV\",\"OR\",\"IN\",\"KY\",\"MO\",\"WI\",\"SC\",\"AL\",\"MN\",\"ID\",\"IA\",\"MS\",\"UT\",\"OK\",\"KS\",\"NE\",\"LA\",\"AR\",\"NH\",\"WV\",\"NM\",\"DE\",\"MT\",\"RI\",\"ME\",\"ND\",\"WY\",\"SD\",\"VT\",\"HI\",\"DC\",\"AK\",\"PR\"],\"z\":[8307,5991,4048,3819,3758,3337,2488,2119,1699,1513,1382,1269,1249,1165,1095,1083,972,955,860,854,849,821,780,725,661,646,505,500,437,432,389,374,353,345,285,280,278,257,256,244,210,210,157,140,94,74,66,59,43,23,10,1],\"type\":\"choropleth\"}],                        {\"geo\":{\"projection\":{\"type\":\"albers usa\"},\"scope\":\"usa\"},\"template\":{\"data\":{\"barpolar\":[{\"marker\":{\"line\":{\"color\":\"#E5ECF6\",\"width\":0.5},\"pattern\":{\"fillmode\":\"overlay\",\"size\":10,\"solidity\":0.2}},\"type\":\"barpolar\"}],\"bar\":[{\"error_x\":{\"color\":\"#2a3f5f\"},\"error_y\":{\"color\":\"#2a3f5f\"},\"marker\":{\"line\":{\"color\":\"#E5ECF6\",\"width\":0.5},\"pattern\":{\"fillmode\":\"overlay\",\"size\":10,\"solidity\":0.2}},\"type\":\"bar\"}],\"carpet\":[{\"aaxis\":{\"endlinecolor\":\"#2a3f5f\",\"gridcolor\":\"white\",\"linecolor\":\"white\",\"minorgridcolor\":\"white\",\"startlinecolor\":\"#2a3f5f\"},\"baxis\":{\"endlinecolor\":\"#2a3f5f\",\"gridcolor\":\"white\",\"linecolor\":\"white\",\"minorgridcolor\":\"white\",\"startlinecolor\":\"#2a3f5f\"},\"type\":\"carpet\"}],\"choropleth\":[{\"colorbar\":{\"outlinewidth\":0,\"ticks\":\"\"},\"type\":\"choropleth\"}],\"contourcarpet\":[{\"colorbar\":{\"outlinewidth\":0,\"ticks\":\"\"},\"type\":\"contourcarpet\"}],\"contour\":[{\"colorbar\":{\"outlinewidth\":0,\"ticks\":\"\"},\"colorscale\":[[0.0,\"#0d0887\"],[0.1111111111111111,\"#46039f\"],[0.2222222222222222,\"#7201a8\"],[0.3333333333333333,\"#9c179e\"],[0.4444444444444444,\"#bd3786\"],[0.5555555555555556,\"#d8576b\"],[0.6666666666666666,\"#ed7953\"],[0.7777777777777778,\"#fb9f3a\"],[0.8888888888888888,\"#fdca26\"],[1.0,\"#f0f921\"]],\"type\":\"contour\"}],\"heatmapgl\":[{\"colorbar\":{\"outlinewidth\":0,\"ticks\":\"\"},\"colorscale\":[[0.0,\"#0d0887\"],[0.1111111111111111,\"#46039f\"],[0.2222222222222222,\"#7201a8\"],[0.3333333333333333,\"#9c179e\"],[0.4444444444444444,\"#bd3786\"],[0.5555555555555556,\"#d8576b\"],[0.6666666666666666,\"#ed7953\"],[0.7777777777777778,\"#fb9f3a\"],[0.8888888888888888,\"#fdca26\"],[1.0,\"#f0f921\"]],\"type\":\"heatmapgl\"}],\"heatmap\":[{\"colorbar\":{\"outlinewidth\":0,\"ticks\":\"\"},\"colorscale\":[[0.0,\"#0d0887\"],[0.1111111111111111,\"#46039f\"],[0.2222222222222222,\"#7201a8\"],[0.3333333333333333,\"#9c179e\"],[0.4444444444444444,\"#bd3786\"],[0.5555555555555556,\"#d8576b\"],[0.6666666666666666,\"#ed7953\"],[0.7777777777777778,\"#fb9f3a\"],[0.8888888888888888,\"#fdca26\"],[1.0,\"#f0f921\"]],\"type\":\"heatmap\"}],\"histogram2dcontour\":[{\"colorbar\":{\"outlinewidth\":0,\"ticks\":\"\"},\"colorscale\":[[0.0,\"#0d0887\"],[0.1111111111111111,\"#46039f\"],[0.2222222222222222,\"#7201a8\"],[0.3333333333333333,\"#9c179e\"],[0.4444444444444444,\"#bd3786\"],[0.5555555555555556,\"#d8576b\"],[0.6666666666666666,\"#ed7953\"],[0.7777777777777778,\"#fb9f3a\"],[0.8888888888888888,\"#fdca26\"],[1.0,\"#f0f921\"]],\"type\":\"histogram2dcontour\"}],\"histogram2d\":[{\"colorbar\":{\"outlinewidth\":0,\"ticks\":\"\"},\"colorscale\":[[0.0,\"#0d0887\"],[0.1111111111111111,\"#46039f\"],[0.2222222222222222,\"#7201a8\"],[0.3333333333333333,\"#9c179e\"],[0.4444444444444444,\"#bd3786\"],[0.5555555555555556,\"#d8576b\"],[0.6666666666666666,\"#ed7953\"],[0.7777777777777778,\"#fb9f3a\"],[0.8888888888888888,\"#fdca26\"],[1.0,\"#f0f921\"]],\"type\":\"histogram2d\"}],\"histogram\":[{\"marker\":{\"pattern\":{\"fillmode\":\"overlay\",\"size\":10,\"solidity\":0.2}},\"type\":\"histogram\"}],\"mesh3d\":[{\"colorbar\":{\"outlinewidth\":0,\"ticks\":\"\"},\"type\":\"mesh3d\"}],\"parcoords\":[{\"line\":{\"colorbar\":{\"outlinewidth\":0,\"ticks\":\"\"}},\"type\":\"parcoords\"}],\"pie\":[{\"automargin\":true,\"type\":\"pie\"}],\"scatter3d\":[{\"line\":{\"colorbar\":{\"outlinewidth\":0,\"ticks\":\"\"}},\"marker\":{\"colorbar\":{\"outlinewidth\":0,\"ticks\":\"\"}},\"type\":\"scatter3d\"}],\"scattercarpet\":[{\"marker\":{\"colorbar\":{\"outlinewidth\":0,\"ticks\":\"\"}},\"type\":\"scattercarpet\"}],\"scattergeo\":[{\"marker\":{\"colorbar\":{\"outlinewidth\":0,\"ticks\":\"\"}},\"type\":\"scattergeo\"}],\"scattergl\":[{\"marker\":{\"colorbar\":{\"outlinewidth\":0,\"ticks\":\"\"}},\"type\":\"scattergl\"}],\"scattermapbox\":[{\"marker\":{\"colorbar\":{\"outlinewidth\":0,\"ticks\":\"\"}},\"type\":\"scattermapbox\"}],\"scatterpolargl\":[{\"marker\":{\"colorbar\":{\"outlinewidth\":0,\"ticks\":\"\"}},\"type\":\"scatterpolargl\"}],\"scatterpolar\":[{\"marker\":{\"colorbar\":{\"outlinewidth\":0,\"ticks\":\"\"}},\"type\":\"scatterpolar\"}],\"scatter\":[{\"marker\":{\"colorbar\":{\"outlinewidth\":0,\"ticks\":\"\"}},\"type\":\"scatter\"}],\"scatterternary\":[{\"marker\":{\"colorbar\":{\"outlinewidth\":0,\"ticks\":\"\"}},\"type\":\"scatterternary\"}],\"surface\":[{\"colorbar\":{\"outlinewidth\":0,\"ticks\":\"\"},\"colorscale\":[[0.0,\"#0d0887\"],[0.1111111111111111,\"#46039f\"],[0.2222222222222222,\"#7201a8\"],[0.3333333333333333,\"#9c179e\"],[0.4444444444444444,\"#bd3786\"],[0.5555555555555556,\"#d8576b\"],[0.6666666666666666,\"#ed7953\"],[0.7777777777777778,\"#fb9f3a\"],[0.8888888888888888,\"#fdca26\"],[1.0,\"#f0f921\"]],\"type\":\"surface\"}],\"table\":[{\"cells\":{\"fill\":{\"color\":\"#EBF0F8\"},\"line\":{\"color\":\"white\"}},\"header\":{\"fill\":{\"color\":\"#C8D4E3\"},\"line\":{\"color\":\"white\"}},\"type\":\"table\"}]},\"layout\":{\"annotationdefaults\":{\"arrowcolor\":\"#2a3f5f\",\"arrowhead\":0,\"arrowwidth\":1},\"autotypenumbers\":\"strict\",\"coloraxis\":{\"colorbar\":{\"outlinewidth\":0,\"ticks\":\"\"}},\"colorscale\":{\"diverging\":[[0,\"#8e0152\"],[0.1,\"#c51b7d\"],[0.2,\"#de77ae\"],[0.3,\"#f1b6da\"],[0.4,\"#fde0ef\"],[0.5,\"#f7f7f7\"],[0.6,\"#e6f5d0\"],[0.7,\"#b8e186\"],[0.8,\"#7fbc41\"],[0.9,\"#4d9221\"],[1,\"#276419\"]],\"sequential\":[[0.0,\"#0d0887\"],[0.1111111111111111,\"#46039f\"],[0.2222222222222222,\"#7201a8\"],[0.3333333333333333,\"#9c179e\"],[0.4444444444444444,\"#bd3786\"],[0.5555555555555556,\"#d8576b\"],[0.6666666666666666,\"#ed7953\"],[0.7777777777777778,\"#fb9f3a\"],[0.8888888888888888,\"#fdca26\"],[1.0,\"#f0f921\"]],\"sequentialminus\":[[0.0,\"#0d0887\"],[0.1111111111111111,\"#46039f\"],[0.2222222222222222,\"#7201a8\"],[0.3333333333333333,\"#9c179e\"],[0.4444444444444444,\"#bd3786\"],[0.5555555555555556,\"#d8576b\"],[0.6666666666666666,\"#ed7953\"],[0.7777777777777778,\"#fb9f3a\"],[0.8888888888888888,\"#fdca26\"],[1.0,\"#f0f921\"]]},\"colorway\":[\"#636efa\",\"#EF553B\",\"#00cc96\",\"#ab63fa\",\"#FFA15A\",\"#19d3f3\",\"#FF6692\",\"#B6E880\",\"#FF97FF\",\"#FECB52\"],\"font\":{\"color\":\"#2a3f5f\"},\"geo\":{\"bgcolor\":\"white\",\"lakecolor\":\"white\",\"landcolor\":\"#E5ECF6\",\"showlakes\":true,\"showland\":true,\"subunitcolor\":\"white\"},\"hoverlabel\":{\"align\":\"left\"},\"hovermode\":\"closest\",\"mapbox\":{\"style\":\"light\"},\"paper_bgcolor\":\"white\",\"plot_bgcolor\":\"#E5ECF6\",\"polar\":{\"angularaxis\":{\"gridcolor\":\"white\",\"linecolor\":\"white\",\"ticks\":\"\"},\"bgcolor\":\"#E5ECF6\",\"radialaxis\":{\"gridcolor\":\"white\",\"linecolor\":\"white\",\"ticks\":\"\"}},\"scene\":{\"xaxis\":{\"backgroundcolor\":\"#E5ECF6\",\"gridcolor\":\"white\",\"gridwidth\":2,\"linecolor\":\"white\",\"showbackground\":true,\"ticks\":\"\",\"zerolinecolor\":\"white\"},\"yaxis\":{\"backgroundcolor\":\"#E5ECF6\",\"gridcolor\":\"white\",\"gridwidth\":2,\"linecolor\":\"white\",\"showbackground\":true,\"ticks\":\"\",\"zerolinecolor\":\"white\"},\"zaxis\":{\"backgroundcolor\":\"#E5ECF6\",\"gridcolor\":\"white\",\"gridwidth\":2,\"linecolor\":\"white\",\"showbackground\":true,\"ticks\":\"\",\"zerolinecolor\":\"white\"}},\"shapedefaults\":{\"line\":{\"color\":\"#2a3f5f\"}},\"ternary\":{\"aaxis\":{\"gridcolor\":\"white\",\"linecolor\":\"white\",\"ticks\":\"\"},\"baxis\":{\"gridcolor\":\"white\",\"linecolor\":\"white\",\"ticks\":\"\"},\"bgcolor\":\"#E5ECF6\",\"caxis\":{\"gridcolor\":\"white\",\"linecolor\":\"white\",\"ticks\":\"\"}},\"title\":{\"x\":0.05},\"xaxis\":{\"automargin\":true,\"gridcolor\":\"white\",\"linecolor\":\"white\",\"ticks\":\"\",\"title\":{\"standoff\":15},\"zerolinecolor\":\"white\",\"zerolinewidth\":2},\"yaxis\":{\"automargin\":true,\"gridcolor\":\"white\",\"linecolor\":\"white\",\"ticks\":\"\",\"title\":{\"standoff\":15},\"zerolinecolor\":\"white\",\"zerolinewidth\":2}}},\"title\":{\"text\":\"US used car sales by states\"}},                        {\"responsive\": true}                    ).then(function(){\n",
       "                            \n",
       "var gd = document.getElementById('0703e986-4c00-4e88-b26a-046c55e30ab1');\n",
       "var x = new MutationObserver(function (mutations, observer) {{\n",
       "        var display = window.getComputedStyle(gd).display;\n",
       "        if (!display || display === 'none') {{\n",
       "            console.log([gd, 'removed!']);\n",
       "            Plotly.purge(gd);\n",
       "            observer.disconnect();\n",
       "        }}\n",
       "}});\n",
       "\n",
       "// Listen for the removal of the full notebook cells\n",
       "var notebookContainer = gd.closest('#notebook-container');\n",
       "if (notebookContainer) {{\n",
       "    x.observe(notebookContainer, {childList: true});\n",
       "}}\n",
       "\n",
       "// Listen for the clearing of the current output cell\n",
       "var outputEl = gd.closest('.output');\n",
       "if (outputEl) {{\n",
       "    x.observe(outputEl, {childList: true});\n",
       "}}\n",
       "\n",
       "                        })                };                });            </script>        </div>"
      ]
     },
     "metadata": {},
     "output_type": "display_data"
    }
   ],
   "source": [
    "import plotly.graph_objs as go\n",
    "from plotly.offline import download_plotlyjs, init_notebook_mode, plot, iplot\n",
    "init_notebook_mode(connected=True)\n",
    "\n",
    "data = [ dict(\n",
    "        type='choropleth',\n",
    "        locations = states,\n",
    "        z = salescount, \n",
    "        locationmode = 'USA-states',\n",
    "        colorbar = dict(\n",
    "            title = \"Salescount\")\n",
    "        ) ]\n",
    "\n",
    "layout = dict(\n",
    "    title = 'US used car sales by states',\n",
    "    geo = dict(\n",
    "        scope = 'usa',\n",
    "        projection=dict(type='albers usa')\n",
    "    )\n",
    ")\n",
    "\n",
    "fig = dict(data=data, layout=layout)\n",
    "iplot(fig, filename='d3-cloropleth-map')"
   ]
  },
  {
   "cell_type": "markdown",
   "id": "13c27217",
   "metadata": {},
   "source": [
    "Top sales by Model"
   ]
  },
  {
   "cell_type": "code",
   "execution_count": 31,
   "id": "88072acc",
   "metadata": {},
   "outputs": [
    {
     "data": {
      "text/plain": [
       "Make       Model    Year\n",
       "Ford       Mustang  2007    93\n",
       "Chevrolet  Equinox  2018    82\n",
       "Ford       F-150    2018    79\n",
       "                    2014    67\n",
       "           Mustang  2004    65\n",
       "dtype: int64"
      ]
     },
     "execution_count": 31,
     "metadata": {},
     "output_type": "execute_result"
    }
   ],
   "source": [
    "modern.groupby(by=['Make','Model','Year']).size().sort_values(ascending=False).head()"
   ]
  },
  {
   "cell_type": "code",
   "execution_count": 32,
   "id": "f185d712",
   "metadata": {},
   "outputs": [],
   "source": [
    "mileage = modern[(modern['Make'] == 'Ford') \n",
    "          & (modern['Model'] == 'Mustang') \n",
    "          & (modern['Year'] == 2007)]['Mileage']\n",
    "salesprices = modern[(modern['Make'] == 'Ford') \n",
    "          & (modern['Model'] == 'Mustang') \n",
    "          & (modern['Year'] == 2007)]['pricesold']"
   ]
  },
  {
   "cell_type": "code",
   "execution_count": 33,
   "id": "0d70faaf",
   "metadata": {},
   "outputs": [
    {
     "data": {
      "image/png": "[encoded data removed]",
      "text/plain": [
       "<Figure size 720x360 with 1 Axes>"
      ]
     },
     "metadata": {},
     "output_type": "display_data"
    }
   ],
   "source": [
    "plt.scatter(mileage,salesprices)\n",
    "plt.ylabel('Selling Price')\n",
    "plt.xlabel('Mileage')\n",
    "plt.show()"
   ]
  },
  {
   "cell_type": "code",
   "execution_count": 34,
   "id": "74e4a00d",
   "metadata": {},
   "outputs": [
    {
     "data": {
      "text/plain": [
       "Make       Model    Year\n",
       "Ford       Mustang  1966    248\n",
       "                    1965    242\n",
       "                    1967    190\n",
       "Chevrolet  Camaro   1969    165\n",
       "Ford       Mustang  1968    135\n",
       "dtype: int64"
      ]
     },
     "execution_count": 34,
     "metadata": {},
     "output_type": "execute_result"
    }
   ],
   "source": [
    "classics.groupby(by=['Make','Model','Year']).size().sort_values(ascending=False).head()"
   ]
  },
  {
   "cell_type": "code",
   "execution_count": 35,
   "id": "37925c58",
   "metadata": {},
   "outputs": [],
   "source": [
    "mileage = classics[(classics['Make'] == 'Ford') \n",
    "          & (classics['Model'] == 'Mustang') \n",
    "          & (classics['Year'] == 1966)]['Mileage']\n",
    "salesprices = classics[(classics['Make'] == 'Ford') \n",
    "          & (classics['Model'] == 'Mustang') \n",
    "          & (classics['Year'] == 1966)]['pricesold']"
   ]
  },
  {
   "cell_type": "code",
   "execution_count": 36,
   "id": "6122084b",
   "metadata": {},
   "outputs": [
    {
     "data": {
      "image/png": "[encoded data removed]",
      "text/plain": [
       "<Figure size 720x360 with 1 Axes>"
      ]
     },
     "metadata": {},
     "output_type": "display_data"
    }
   ],
   "source": [
    "plt.scatter(mileage,salesprices)\n",
    "plt.ylabel('Selling Price')\n",
    "plt.xlabel('Mileage')\n",
    "plt.show()"
   ]
  },
  {
   "cell_type": "code",
   "execution_count": 37,
   "id": "1a1225b9",
   "metadata": {},
   "outputs": [],
   "source": [
    "###//* It just so happens that my favorite model is the top selling in both groups, so naturally I support these results."
   ]
  },
  {
   "cell_type": "code",
   "execution_count": 38,
   "id": "30152c15",
   "metadata": {},
   "outputs": [],
   "source": [
    "###//* Now that we're aquainted with the data lets look at some classification to with the goal of predicting price. "
   ]
  },
  {
   "cell_type": "code",
   "execution_count": 39,
   "id": "0f29542f",
   "metadata": {},
   "outputs": [],
   "source": [
    "from sklearn.linear_model import LogisticRegression, LinearRegression\n",
    "from sklearn.metrics import classification_report, confusion_matrix\n",
    "from sklearn.model_selection import train_test_split"
   ]
  },
  {
   "cell_type": "code",
   "execution_count": 40,
   "id": "9fedf568",
   "metadata": {},
   "outputs": [
    {
     "name": "stdout",
     "output_type": "stream",
     "text": [
      "<class 'pandas.core.frame.DataFrame'>\n",
      "Int64Index: 58551 entries, 0 to 82494\n",
      "Data columns (total 15 columns):\n",
      " #   Column        Non-Null Count  Dtype \n",
      "---  ------        --------------  ----- \n",
      " 0   ID            58551 non-null  int64 \n",
      " 1   pricesold     58551 non-null  int64 \n",
      " 2   yearsold      58551 non-null  int64 \n",
      " 3   zipcode       58551 non-null  int32 \n",
      " 4   Mileage       58551 non-null  int64 \n",
      " 5   Make          58551 non-null  object\n",
      " 6   Model         58375 non-null  object\n",
      " 7   Year          58551 non-null  int64 \n",
      " 8   Trim          38640 non-null  object\n",
      " 9   Engine        50643 non-null  object\n",
      " 10  BodyType      52457 non-null  object\n",
      " 11  NumCylinders  58551 non-null  int64 \n",
      " 12  DriveType     51494 non-null  object\n",
      " 13  Age           58551 non-null  int64 \n",
      " 14  STATE         58467 non-null  object\n",
      "dtypes: int32(1), int64(7), object(7)\n",
      "memory usage: 6.9+ MB\n"
     ]
    }
   ],
   "source": [
    "df.info()"
   ]
  },
  {
   "cell_type": "code",
   "execution_count": 56,
   "id": "5e24dc45",
   "metadata": {},
   "outputs": [
    {
     "name": "stdout",
     "output_type": "stream",
     "text": [
      "Unique Makes:  224\n",
      "Unique Models:  2333\n",
      "Unique Trim:  15583\n",
      "Unique Engine:  14929\n",
      "Unique BodyType:  1600\n",
      "Unique DriveType:  789\n"
     ]
    }
   ],
   "source": [
    "print('Unique Makes: ', len(pd.unique(df['Make'])))\n",
    "print('Unique Models: ', len(pd.unique(df['Model'])))\n",
    "print('Unique Trim: ', len(pd.unique(df['Trim'])))\n",
    "print('Unique Engine: ', len(pd.unique(df['Engine'])))\n",
    "print('Unique BodyType: ', len(pd.unique(df['BodyType'])))\n",
    "print('Unique DriveType: ', len(pd.unique(df['DriveType'])))"
   ]
  },
  {
   "cell_type": "code",
   "execution_count": 42,
   "id": "7b169fe8",
   "metadata": {},
   "outputs": [],
   "source": [
    "#Make = pd.get_dummies(df['Make'], drop_first = True)\n",
    "#Model = pd.get_dummies(df['Model'], drop_first = True)\n",
    "#Trim = pd.get_dummies(df['Trim'], drop_first = True)\n",
    "#Engine = pd.get_dummies(df['Engine'], drop_first = True)\n",
    "#BodyType = pd.get_dummies(df['BodyType'], drop_first = True)\n",
    "#DriveType = pd.get_dummies(df['DriveType'], drop_first = True)\n",
    "#State = pd.get_dummies(df['STATE'], drop_first = True)"
   ]
  },
  {
   "cell_type": "code",
   "execution_count": 43,
   "id": "8ebc38a3",
   "metadata": {},
   "outputs": [],
   "source": [
    "#df.drop(['ID','Make', 'Model', 'Trim','Engine', 'BodyType', 'DriveType', 'STATE'], axis = 1, inplace=True)"
   ]
  },
  {
   "cell_type": "code",
   "execution_count": 44,
   "id": "f8568c20",
   "metadata": {},
   "outputs": [],
   "source": [
    "#df.columns"
   ]
  },
  {
   "cell_type": "code",
   "execution_count": 45,
   "id": "53351477",
   "metadata": {},
   "outputs": [],
   "source": [
    "#df= pd.concat([df[['pricesold', 'yearsold', 'zipcode', 'Mileage', 'Year', 'NumCylinders']]], axis = 1)"
   ]
  },
  {
   "cell_type": "code",
   "execution_count": 46,
   "id": "f2f60f56",
   "metadata": {},
   "outputs": [],
   "source": [
    "#print(df.columns)"
   ]
  },
  {
   "cell_type": "code",
   "execution_count": 47,
   "id": "fd93f72f",
   "metadata": {},
   "outputs": [],
   "source": [
    "#labels = pd.DataFrame(df['pricesold'])\n",
    "#df = df.drop(['pricesold'], axis = 1)\n",
    "#df = df.apply(pd.to_numeric)\n",
    "#labels = labels.apply(pd.to_numeric)"
   ]
  },
  {
   "cell_type": "code",
   "execution_count": 48,
   "id": "4f80a91e",
   "metadata": {},
   "outputs": [],
   "source": [
    "#X_train, X_test, y_train, y_test = train_test_split(df, labels, test_size = 0.25, random_state = 42)"
   ]
  },
  {
   "cell_type": "code",
   "execution_count": 49,
   "id": "689518e4",
   "metadata": {},
   "outputs": [],
   "source": [
    "#print('X_train: ',X_train.shape)\n",
    "#print('X_test: ', X_test.shape)\n",
    "#print('y_train: ', y_train.shape)\n",
    "#print('y_test: ', y_test.shape)\n"
   ]
  },
  {
   "cell_type": "code",
   "execution_count": 50,
   "id": "f0785372",
   "metadata": {},
   "outputs": [],
   "source": [
    "###/* Fitting the model\n",
    "###/* balanced argument for when number of rejects is higher than number of acceptance\n",
    "#price_model = LinearRegression()\n",
    "\n"
   ]
  },
  {
   "cell_type": "code",
   "execution_count": 51,
   "id": "10b05006",
   "metadata": {},
   "outputs": [],
   "source": [
    "#price_model.fit(X_train, y_train)\n"
   ]
  },
  {
   "cell_type": "code",
   "execution_count": 52,
   "id": "5a7ff483",
   "metadata": {},
   "outputs": [],
   "source": [
    "#price_pred = price_model.predict(X_test)"
   ]
  },
  {
   "cell_type": "code",
   "execution_count": 53,
   "id": "2403bd33",
   "metadata": {},
   "outputs": [],
   "source": [
    "#price_pred"
   ]
  },
  {
   "cell_type": "code",
   "execution_count": 54,
   "id": "379fa755",
   "metadata": {},
   "outputs": [],
   "source": [
    "#plt.plot(price_pred)\n",
    "#plt.show()"
   ]
  }
 ],
 "metadata": {
  "kernelspec": {
   "display_name": "Python 3 (ipykernel)",
   "language": "python",
   "name": "python3"
  },
  "language_info": {
   "codemirror_mode": {
    "name": "ipython",
    "version": 3
   },
   "file_extension": ".py",
   "mimetype": "text/x-python",
   "name": "python",
   "nbconvert_exporter": "python",
   "pygments_lexer": "ipython3",
   "version": "3.9.7"
  }
 },
 "nbformat": 4,
 "nbformat_minor": 5
}
