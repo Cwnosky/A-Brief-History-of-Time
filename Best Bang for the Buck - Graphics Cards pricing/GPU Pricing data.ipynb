{
 "cells": [
  {
   "cell_type": "markdown",
   "id": "002bfeb8",
   "metadata": {},
   "source": [
    "# GPU Pricing Data"
   ]
  },
  {
   "cell_type": "code",
   "execution_count": 1,
   "id": "6fd801e9",
   "metadata": {},
   "outputs": [
    {
     "data": {
      "text/html": [
       "        <script type=\"text/javascript\">\n",
       "        window.PlotlyConfig = {MathJaxConfig: 'local'};\n",
       "        if (window.MathJax) {MathJax.Hub.Config({SVG: {font: \"STIX-Web\"}});}\n",
       "        if (typeof require !== 'undefined') {\n",
       "        require.undef(\"plotly\");\n",
       "        requirejs.config({\n",
       "            paths: {\n",
       "                'plotly': ['https://cdn.plot.ly/plotly-2.9.0.min']\n",
       "            }\n",
       "        });\n",
       "        require(['plotly'], function(Plotly) {\n",
       "            window._Plotly = Plotly;\n",
       "        });\n",
       "        }\n",
       "        </script>\n",
       "        "
      ]
     },
     "metadata": {},
     "output_type": "display_data"
    }
   ],
   "source": [
    "import pandas as pd\n",
    "import numpy as np\n",
    "import matplotlib.pyplot as plt\n",
    "import seaborn as sns\n",
    "\n",
    "import plotly.graph_objs as go\n",
    "from plotly.offline import download_plotlyjs, init_notebook_mode, plot, iplot\n",
    "init_notebook_mode(connected=True)\n",
    "\n",
    "from jupyterthemes import jtplot\n",
    "jtplot.style(grid = False, ticks = True, figsize = (15,20))"
   ]
  },
  {
   "cell_type": "markdown",
   "id": "466db7f9",
   "metadata": {},
   "source": [
    "### Clean-up"
   ]
  },
  {
   "cell_type": "code",
   "execution_count": 2,
   "id": "e7590406",
   "metadata": {},
   "outputs": [],
   "source": [
    "data = pd.read_csv('C:/Users/cwnos/Documents/DSC680/Project 2/gpu_specs_prices.csv')"
   ]
  },
  {
   "cell_type": "code",
   "execution_count": 3,
   "id": "cf32fd79",
   "metadata": {},
   "outputs": [],
   "source": [
    "df = pd.DataFrame(data)"
   ]
  },
  {
   "cell_type": "code",
   "execution_count": 4,
   "id": "d8f740c8",
   "metadata": {},
   "outputs": [
    {
     "data": {
      "text/html": [
       "<div>\n",
       "<style scoped>\n",
       "    .dataframe tbody tr th:only-of-type {\n",
       "        vertical-align: middle;\n",
       "    }\n",
       "\n",
       "    .dataframe tbody tr th {\n",
       "        vertical-align: top;\n",
       "    }\n",
       "\n",
       "    .dataframe thead th {\n",
       "        text-align: right;\n",
       "    }\n",
       "</style>\n",
       "<table border=\"1\" class=\"dataframe\">\n",
       "  <thead>\n",
       "    <tr style=\"text-align: right;\">\n",
       "      <th></th>\n",
       "      <th>name</th>\n",
       "      <th>brand</th>\n",
       "      <th>model</th>\n",
       "      <th>memory</th>\n",
       "      <th>memory_interface</th>\n",
       "      <th>length</th>\n",
       "      <th>interface</th>\n",
       "      <th>chipset</th>\n",
       "      <th>base_clock</th>\n",
       "      <th>clock_speed</th>\n",
       "      <th>frame_sync</th>\n",
       "      <th>price</th>\n",
       "      <th>item_url</th>\n",
       "      <th>used</th>\n",
       "    </tr>\n",
       "  </thead>\n",
       "  <tbody>\n",
       "    <tr>\n",
       "      <th>0</th>\n",
       "      <td>MSI Gaming GeForce RTX 3090 24GB GDRR6X 384-Bi...</td>\n",
       "      <td>MSI</td>\n",
       "      <td>RTX 3090 GAMING X TRIO 24G</td>\n",
       "      <td>24 GB</td>\n",
       "      <td>GDRR6X</td>\n",
       "      <td>335 mm</td>\n",
       "      <td>PCIe x16</td>\n",
       "      <td>GeForce RTX 3090</td>\n",
       "      <td>1395 MHz</td>\n",
       "      <td>1785 MHz</td>\n",
       "      <td>G-Sync</td>\n",
       "      <td>$1,289.99</td>\n",
       "      <td>https://pcbuilder.net/component-details/graphi...</td>\n",
       "      <td>0</td>\n",
       "    </tr>\n",
       "    <tr>\n",
       "      <th>1</th>\n",
       "      <td>EVGA GeForce RTX 3090 FTW3 Ultra Gaming, 24GB ...</td>\n",
       "      <td>EVGA</td>\n",
       "      <td>RTX 3090 FTW3 Ultra</td>\n",
       "      <td>24 GB</td>\n",
       "      <td>GDDR6X</td>\n",
       "      <td>300 mm</td>\n",
       "      <td>PCIe x16</td>\n",
       "      <td>GeForce RTX 3090</td>\n",
       "      <td>1395 MHz</td>\n",
       "      <td>1800 MHz</td>\n",
       "      <td>G-Sync</td>\n",
       "      <td>$1,199.99</td>\n",
       "      <td>https://pcbuilder.net/component-details/graphi...</td>\n",
       "      <td>0</td>\n",
       "    </tr>\n",
       "    <tr>\n",
       "      <th>2</th>\n",
       "      <td>ASUS ROG Strix NVIDIA GeForce RTX 3090 White O...</td>\n",
       "      <td>ASUS</td>\n",
       "      <td>ROG Strix RTX 3090 OC Edition</td>\n",
       "      <td>24 GB</td>\n",
       "      <td>GDDR6X</td>\n",
       "      <td>318.5 mm</td>\n",
       "      <td>PCIe x16</td>\n",
       "      <td>GeForce RTX 3090</td>\n",
       "      <td>1395 MHz</td>\n",
       "      <td>1890 MHz</td>\n",
       "      <td>G-Sync</td>\n",
       "      <td>$1,794.99</td>\n",
       "      <td>https://pcbuilder.net/component-details/graphi...</td>\n",
       "      <td>0</td>\n",
       "    </tr>\n",
       "    <tr>\n",
       "      <th>3</th>\n",
       "      <td>MSI Gaming GeForce RTX 3090 24GB GDRR6X 384-Bi...</td>\n",
       "      <td>MSI</td>\n",
       "      <td>RTX 3090 SUPRIM X 24G</td>\n",
       "      <td>24 GB</td>\n",
       "      <td>GDDR6X</td>\n",
       "      <td>336 mm</td>\n",
       "      <td>PCIe x16</td>\n",
       "      <td>GeForce RTX 3090</td>\n",
       "      <td>1395 MHz</td>\n",
       "      <td>1875 MHz</td>\n",
       "      <td>G-Sync</td>\n",
       "      <td>$2,017.21</td>\n",
       "      <td>https://pcbuilder.net/component-details/graphi...</td>\n",
       "      <td>0</td>\n",
       "    </tr>\n",
       "    <tr>\n",
       "      <th>4</th>\n",
       "      <td>GIGABYTE AORUS GeForce RTX 3090 Xtreme 24G Gra...</td>\n",
       "      <td>Gigabyte</td>\n",
       "      <td>AORUS RTX 3090 Xtreme 24G</td>\n",
       "      <td>24 GB</td>\n",
       "      <td>GDDR6X</td>\n",
       "      <td>319 mm</td>\n",
       "      <td>PCIe x16</td>\n",
       "      <td>GeForce RTX 3090</td>\n",
       "      <td>1395 MHz</td>\n",
       "      <td>1860 MHz</td>\n",
       "      <td>G-Sync</td>\n",
       "      <td>$3,399.99</td>\n",
       "      <td>https://pcbuilder.net/component-details/graphi...</td>\n",
       "      <td>0</td>\n",
       "    </tr>\n",
       "  </tbody>\n",
       "</table>\n",
       "</div>"
      ],
      "text/plain": [
       "                                                name     brand  \\\n",
       "0  MSI Gaming GeForce RTX 3090 24GB GDRR6X 384-Bi...       MSI   \n",
       "1  EVGA GeForce RTX 3090 FTW3 Ultra Gaming, 24GB ...      EVGA   \n",
       "2  ASUS ROG Strix NVIDIA GeForce RTX 3090 White O...      ASUS   \n",
       "3  MSI Gaming GeForce RTX 3090 24GB GDRR6X 384-Bi...       MSI   \n",
       "4  GIGABYTE AORUS GeForce RTX 3090 Xtreme 24G Gra...  Gigabyte   \n",
       "\n",
       "                             model   memory memory_interface      length  \\\n",
       "0      RTX 3090 GAMING X TRIO 24G    24 GB           GDRR6X      335 mm    \n",
       "1             RTX 3090 FTW3 Ultra    24 GB           GDDR6X      300 mm    \n",
       "2   ROG Strix RTX 3090 OC Edition    24 GB           GDDR6X    318.5 mm    \n",
       "3           RTX 3090 SUPRIM X 24G    24 GB           GDDR6X      336 mm    \n",
       "4       AORUS RTX 3090 Xtreme 24G    24 GB           GDDR6X      319 mm    \n",
       "\n",
       "    interface             chipset  base_clock clock_speed frame_sync  \\\n",
       "0   PCIe x16    GeForce RTX 3090    1395 MHz    1785 MHz     G-Sync    \n",
       "1   PCIe x16    GeForce RTX 3090    1395 MHz    1800 MHz     G-Sync    \n",
       "2   PCIe x16    GeForce RTX 3090    1395 MHz    1890 MHz     G-Sync    \n",
       "3   PCIe x16    GeForce RTX 3090    1395 MHz    1875 MHz     G-Sync    \n",
       "4   PCIe x16    GeForce RTX 3090    1395 MHz    1860 MHz     G-Sync    \n",
       "\n",
       "        price                                           item_url  used  \n",
       "0  $1,289.99   https://pcbuilder.net/component-details/graphi...     0  \n",
       "1  $1,199.99   https://pcbuilder.net/component-details/graphi...     0  \n",
       "2  $1,794.99   https://pcbuilder.net/component-details/graphi...     0  \n",
       "3  $2,017.21   https://pcbuilder.net/component-details/graphi...     0  \n",
       "4  $3,399.99   https://pcbuilder.net/component-details/graphi...     0  "
      ]
     },
     "execution_count": 4,
     "metadata": {},
     "output_type": "execute_result"
    }
   ],
   "source": [
    "df.head()"
   ]
  },
  {
   "cell_type": "code",
   "execution_count": 5,
   "id": "b1458c81",
   "metadata": {},
   "outputs": [
    {
     "data": {
      "text/plain": [
       "name                object\n",
       "brand               object\n",
       "model               object\n",
       "memory              object\n",
       "memory_interface    object\n",
       "length              object\n",
       "interface           object\n",
       "chipset             object\n",
       "base_clock          object\n",
       "clock_speed         object\n",
       "frame_sync          object\n",
       "price               object\n",
       "item_url            object\n",
       "used                 int64\n",
       "dtype: object"
      ]
     },
     "execution_count": 5,
     "metadata": {},
     "output_type": "execute_result"
    }
   ],
   "source": [
    "df.dtypes"
   ]
  },
  {
   "cell_type": "code",
   "execution_count": 6,
   "id": "b2c390d9",
   "metadata": {},
   "outputs": [
    {
     "name": "stdout",
     "output_type": "stream",
     "text": [
      "Unique Values\n",
      "Name:  306\n",
      "Brand:  22\n",
      "Model: 250\n",
      "Memory:  17\n",
      "Memory Type:  8\n",
      "Card Length:  139\n",
      "Slot Type:  10\n",
      "Chipset:  62\n",
      "Base Clock:  73\n",
      "Clock Speed:  98\n",
      "Frame Sync:  4\n",
      "Price:  231\n",
      "URL:  311\n",
      "New/Used:  2\n"
     ]
    }
   ],
   "source": [
    "print('Unique Values')\n",
    "print('Name: ',df['name'].nunique())\n",
    "print('Brand: ',df['brand'].nunique())\n",
    "print('Model:', df['model'].nunique())\n",
    "print('Memory: ', df['memory'].nunique())\n",
    "print('Memory Type: ',df['memory_interface'].nunique())\n",
    "print('Card Length: ', df['length'].nunique())\n",
    "print('Slot Type: ', df['interface'].nunique())\n",
    "print('Chipset: ', df['chipset'].nunique())\n",
    "print('Base Clock: ', df['base_clock'].nunique())\n",
    "print('Clock Speed: ', df['clock_speed'].nunique())\n",
    "print('Frame Sync: ', df['frame_sync'].nunique())\n",
    "print('Price: ', df['price'].nunique())\n",
    "print('URL: ', df['item_url'].nunique())\n",
    "print('New/Used: ', df['used'].nunique())"
   ]
  },
  {
   "cell_type": "code",
   "execution_count": 7,
   "id": "18c39f72",
   "metadata": {},
   "outputs": [
    {
     "data": {
      "text/plain": [
       "array([' 24 GB ', ' 12 GB ', ' 16 GB ', ' 10 GB ', ' 11 GB ', ' 8 GB ',\n",
       "       ' 48 GB ', ' 6 GB ', ' 6Â\\xa0GB ', ' 4 GB ', ' 8Â\\xa0GB ',\n",
       "       ' 3 GB ', ' 4Â\\xa0GB ', ' 2 GB ', ' 1Â\\xa0GB ', ' 1 GB ',\n",
       "       ' 0.5 GB '], dtype=object)"
      ]
     },
     "execution_count": 7,
     "metadata": {},
     "output_type": "execute_result"
    }
   ],
   "source": [
    "slot = df['memory'].unique()\n",
    "slot"
   ]
  },
  {
   "cell_type": "code",
   "execution_count": 8,
   "id": "278acd94",
   "metadata": {},
   "outputs": [
    {
     "name": "stderr",
     "output_type": "stream",
     "text": [
      "C:\\Users\\cwnos\\AppData\\Local\\Temp/ipykernel_38388/3595984126.py:3: FutureWarning:\n",
      "\n",
      "The default value of regex will change from True to False in a future version. In addition, single character regular expressions will *not* be treated as literal strings when regex=True.\n",
      "\n"
     ]
    }
   ],
   "source": [
    "df = df.dropna(axis = 0)\n",
    "# price\n",
    "df['price'] = df['price'].str.replace(\"$\",\"\")\n",
    "df['price'] = df['price'].str.replace(\",\",\"\")\n",
    "df['price'] = df['price'].str.replace(\" \",\"\")\n",
    "df['price'] = df['price'].str.replace(\"N/A\",\"\")\n",
    "\n",
    "# Base Clock\n",
    "df['base_clock'] = df['base_clock'].str.replace(\" MHz \",\"\")\n",
    "df['base_clock'] = df['base_clock'].str.replace(\" N/A \",\"\")\n",
    "df['base_clock'] = df['base_clock'].str.replace(\"1440MHz\",\"1440\")\n",
    "# Clock\n",
    "df['clock_speed'] = df['clock_speed'].str.replace(\" MHz \",\"\")\n",
    "df['clock_speed'] = df['clock_speed'].str.replace(\" N/A \",\"\")\n",
    "df['clock_speed'] = df['clock_speed'].str.replace(\"2190MHz\",\"2190\") \n",
    "\n",
    "# Length\n",
    "df['length'] = df['length'].str.replace(\" mm \",\"\")\n",
    "df['length'] = df['length'].str.replace(\" W \",\"\")\n",
    "df['length'] = df['length'].str.replace(\" N/A \", \"\")\n",
    "df['length'] = df['length'].str.replace(\" \", \"\")\n",
    "\n",
    "# Memory type\n",
    "df = df.replace(to_replace=r' GDRR6X ', value= ' GDDR6X ', regex=True)\n",
    "\n",
    "# Memory amount\n",
    "df = df.replace(to_replace=r' 4Â\\xa0GB ', value= ' 4 GB ', regex=True)\n",
    "df = df.replace(to_replace=r' 6Â\\xa0GB ', value= ' 6 GB ', regex=True)\n",
    "df = df.replace(to_replace=r' 8Â\\xa0GB ', value= ' 8 GB ', regex=True)\n",
    "df = df.replace(to_replace=r' 1Â\\xa0GB ', value= ' 1 GB ', regex=True)\n",
    "\n",
    "df['memory'] = df['memory'].str.replace(\" GB \",\"\")"
   ]
  },
  {
   "cell_type": "code",
   "execution_count": 9,
   "id": "4dae7650",
   "metadata": {},
   "outputs": [],
   "source": [
    "df = df.replace(to_replace=[r' PCI Express 4.0 x16 ', r' PCIe 4.0x16 ',r' PCI-Express 4.0 x16 '\n",
    "                           ,r' PCI-Express 4.0 x16 ', r' PCIe 4.0 x16 ', r' PCI Express 3.0 x16 '\n",
    "                           ,r' PCI ExpressÂ\\xa03.0Â\\xa0 ', r' PCI ExpressÂ\\xa03.0Â\\xa0x16 '\n",
    "                           , r' PCI ExpressÂ\\xa02.0Â\\xa0x16 ', r' PCIe x1 '], value= ' PCIe x16 ', regex=True)\n"
   ]
  },
  {
   "cell_type": "code",
   "execution_count": 10,
   "id": "8d6e04bc",
   "metadata": {},
   "outputs": [
    {
     "data": {
      "text/plain": [
       "name                 object\n",
       "brand                object\n",
       "model                object\n",
       "memory              float64\n",
       "memory_interface     object\n",
       "length              float64\n",
       "interface            object\n",
       "chipset              object\n",
       "base_clock            int64\n",
       "clock_speed           int64\n",
       "frame_sync           object\n",
       "price               float64\n",
       "item_url             object\n",
       "used                  int64\n",
       "dtype: object"
      ]
     },
     "execution_count": 10,
     "metadata": {},
     "output_type": "execute_result"
    }
   ],
   "source": [
    "df['memory'] = pd.to_numeric(df['memory'])\n",
    "df['length'] = pd.to_numeric(df['length'])\n",
    "df['base_clock'] = pd.to_numeric(df['base_clock'])\n",
    "df['clock_speed'] = pd.to_numeric(df['clock_speed'])\n",
    "df['price'] = pd.to_numeric(df['price'])  \n",
    "df.dtypes"
   ]
  },
  {
   "cell_type": "code",
   "execution_count": 11,
   "id": "02495609",
   "metadata": {},
   "outputs": [
    {
     "data": {
      "text/html": [
       "<div>\n",
       "<style scoped>\n",
       "    .dataframe tbody tr th:only-of-type {\n",
       "        vertical-align: middle;\n",
       "    }\n",
       "\n",
       "    .dataframe tbody tr th {\n",
       "        vertical-align: top;\n",
       "    }\n",
       "\n",
       "    .dataframe thead th {\n",
       "        text-align: right;\n",
       "    }\n",
       "</style>\n",
       "<table border=\"1\" class=\"dataframe\">\n",
       "  <thead>\n",
       "    <tr style=\"text-align: right;\">\n",
       "      <th></th>\n",
       "      <th>name</th>\n",
       "      <th>brand</th>\n",
       "      <th>model</th>\n",
       "      <th>memory</th>\n",
       "      <th>memory_interface</th>\n",
       "      <th>length</th>\n",
       "      <th>interface</th>\n",
       "      <th>chipset</th>\n",
       "      <th>base_clock</th>\n",
       "      <th>clock_speed</th>\n",
       "      <th>frame_sync</th>\n",
       "      <th>price</th>\n",
       "      <th>item_url</th>\n",
       "      <th>used</th>\n",
       "    </tr>\n",
       "  </thead>\n",
       "  <tbody>\n",
       "    <tr>\n",
       "      <th>0</th>\n",
       "      <td>MSI Gaming GeForce RTX 3090 24GB GDDR6X 384-Bi...</td>\n",
       "      <td>MSI</td>\n",
       "      <td>RTX 3090 GAMING X TRIO 24G</td>\n",
       "      <td>24.0</td>\n",
       "      <td>GDDR6X</td>\n",
       "      <td>335.0</td>\n",
       "      <td>PCIe x16</td>\n",
       "      <td>GeForce RTX 3090</td>\n",
       "      <td>1395</td>\n",
       "      <td>1785</td>\n",
       "      <td>G-Sync</td>\n",
       "      <td>1289.99</td>\n",
       "      <td>https://pcbuilder.net/component-details/graphi...</td>\n",
       "      <td>0</td>\n",
       "    </tr>\n",
       "    <tr>\n",
       "      <th>1</th>\n",
       "      <td>EVGA GeForce RTX 3090 FTW3 Ultra Gaming, 24GB ...</td>\n",
       "      <td>EVGA</td>\n",
       "      <td>RTX 3090 FTW3 Ultra</td>\n",
       "      <td>24.0</td>\n",
       "      <td>GDDR6X</td>\n",
       "      <td>300.0</td>\n",
       "      <td>PCIe x16</td>\n",
       "      <td>GeForce RTX 3090</td>\n",
       "      <td>1395</td>\n",
       "      <td>1800</td>\n",
       "      <td>G-Sync</td>\n",
       "      <td>1199.99</td>\n",
       "      <td>https://pcbuilder.net/component-details/graphi...</td>\n",
       "      <td>0</td>\n",
       "    </tr>\n",
       "    <tr>\n",
       "      <th>2</th>\n",
       "      <td>ASUS ROG Strix NVIDIA GeForce RTX 3090 White O...</td>\n",
       "      <td>ASUS</td>\n",
       "      <td>ROG Strix RTX 3090 OC Edition</td>\n",
       "      <td>24.0</td>\n",
       "      <td>GDDR6X</td>\n",
       "      <td>318.5</td>\n",
       "      <td>PCIe x16</td>\n",
       "      <td>GeForce RTX 3090</td>\n",
       "      <td>1395</td>\n",
       "      <td>1890</td>\n",
       "      <td>G-Sync</td>\n",
       "      <td>1794.99</td>\n",
       "      <td>https://pcbuilder.net/component-details/graphi...</td>\n",
       "      <td>0</td>\n",
       "    </tr>\n",
       "    <tr>\n",
       "      <th>3</th>\n",
       "      <td>MSI Gaming GeForce RTX 3090 24GB GDDR6X 384-Bi...</td>\n",
       "      <td>MSI</td>\n",
       "      <td>RTX 3090 SUPRIM X 24G</td>\n",
       "      <td>24.0</td>\n",
       "      <td>GDDR6X</td>\n",
       "      <td>336.0</td>\n",
       "      <td>PCIe x16</td>\n",
       "      <td>GeForce RTX 3090</td>\n",
       "      <td>1395</td>\n",
       "      <td>1875</td>\n",
       "      <td>G-Sync</td>\n",
       "      <td>2017.21</td>\n",
       "      <td>https://pcbuilder.net/component-details/graphi...</td>\n",
       "      <td>0</td>\n",
       "    </tr>\n",
       "    <tr>\n",
       "      <th>4</th>\n",
       "      <td>GIGABYTE AORUS GeForce RTX 3090 Xtreme 24G Gra...</td>\n",
       "      <td>Gigabyte</td>\n",
       "      <td>AORUS RTX 3090 Xtreme 24G</td>\n",
       "      <td>24.0</td>\n",
       "      <td>GDDR6X</td>\n",
       "      <td>319.0</td>\n",
       "      <td>PCIe x16</td>\n",
       "      <td>GeForce RTX 3090</td>\n",
       "      <td>1395</td>\n",
       "      <td>1860</td>\n",
       "      <td>G-Sync</td>\n",
       "      <td>3399.99</td>\n",
       "      <td>https://pcbuilder.net/component-details/graphi...</td>\n",
       "      <td>0</td>\n",
       "    </tr>\n",
       "  </tbody>\n",
       "</table>\n",
       "</div>"
      ],
      "text/plain": [
       "                                                name     brand  \\\n",
       "0  MSI Gaming GeForce RTX 3090 24GB GDDR6X 384-Bi...       MSI   \n",
       "1  EVGA GeForce RTX 3090 FTW3 Ultra Gaming, 24GB ...      EVGA   \n",
       "2  ASUS ROG Strix NVIDIA GeForce RTX 3090 White O...      ASUS   \n",
       "3  MSI Gaming GeForce RTX 3090 24GB GDDR6X 384-Bi...       MSI   \n",
       "4  GIGABYTE AORUS GeForce RTX 3090 Xtreme 24G Gra...  Gigabyte   \n",
       "\n",
       "                             model  memory memory_interface  length  \\\n",
       "0      RTX 3090 GAMING X TRIO 24G     24.0          GDDR6X    335.0   \n",
       "1             RTX 3090 FTW3 Ultra     24.0          GDDR6X    300.0   \n",
       "2   ROG Strix RTX 3090 OC Edition     24.0          GDDR6X    318.5   \n",
       "3           RTX 3090 SUPRIM X 24G     24.0          GDDR6X    336.0   \n",
       "4       AORUS RTX 3090 Xtreme 24G     24.0          GDDR6X    319.0   \n",
       "\n",
       "    interface             chipset  base_clock  clock_speed frame_sync  \\\n",
       "0   PCIe x16    GeForce RTX 3090         1395         1785    G-Sync    \n",
       "1   PCIe x16    GeForce RTX 3090         1395         1800    G-Sync    \n",
       "2   PCIe x16    GeForce RTX 3090         1395         1890    G-Sync    \n",
       "3   PCIe x16    GeForce RTX 3090         1395         1875    G-Sync    \n",
       "4   PCIe x16    GeForce RTX 3090         1395         1860    G-Sync    \n",
       "\n",
       "     price                                           item_url  used  \n",
       "0  1289.99  https://pcbuilder.net/component-details/graphi...     0  \n",
       "1  1199.99  https://pcbuilder.net/component-details/graphi...     0  \n",
       "2  1794.99  https://pcbuilder.net/component-details/graphi...     0  \n",
       "3  2017.21  https://pcbuilder.net/component-details/graphi...     0  \n",
       "4  3399.99  https://pcbuilder.net/component-details/graphi...     0  "
      ]
     },
     "execution_count": 11,
     "metadata": {},
     "output_type": "execute_result"
    }
   ],
   "source": [
    "df.head()"
   ]
  },
  {
   "cell_type": "code",
   "execution_count": 12,
   "id": "b4e57f25",
   "metadata": {},
   "outputs": [],
   "source": [
    "df = df.drop(columns = ['item_url','used','frame_sync'])"
   ]
  },
  {
   "cell_type": "code",
   "execution_count": 13,
   "id": "9ee54ab9",
   "metadata": {},
   "outputs": [
    {
     "data": {
      "text/html": [
       "<div>\n",
       "<style scoped>\n",
       "    .dataframe tbody tr th:only-of-type {\n",
       "        vertical-align: middle;\n",
       "    }\n",
       "\n",
       "    .dataframe tbody tr th {\n",
       "        vertical-align: top;\n",
       "    }\n",
       "\n",
       "    .dataframe thead th {\n",
       "        text-align: right;\n",
       "    }\n",
       "</style>\n",
       "<table border=\"1\" class=\"dataframe\">\n",
       "  <thead>\n",
       "    <tr style=\"text-align: right;\">\n",
       "      <th></th>\n",
       "      <th>name</th>\n",
       "      <th>brand</th>\n",
       "      <th>model</th>\n",
       "      <th>memory</th>\n",
       "      <th>memory_interface</th>\n",
       "      <th>length</th>\n",
       "      <th>interface</th>\n",
       "      <th>chipset</th>\n",
       "      <th>base_clock</th>\n",
       "      <th>clock_speed</th>\n",
       "      <th>price</th>\n",
       "    </tr>\n",
       "  </thead>\n",
       "  <tbody>\n",
       "    <tr>\n",
       "      <th>0</th>\n",
       "      <td>MSI Gaming GeForce RTX 3090 24GB GDDR6X 384-Bi...</td>\n",
       "      <td>MSI</td>\n",
       "      <td>RTX 3090 GAMING X TRIO 24G</td>\n",
       "      <td>24.0</td>\n",
       "      <td>GDDR6X</td>\n",
       "      <td>335.0</td>\n",
       "      <td>PCIe x16</td>\n",
       "      <td>GeForce RTX 3090</td>\n",
       "      <td>1395</td>\n",
       "      <td>1785</td>\n",
       "      <td>1289.99</td>\n",
       "    </tr>\n",
       "    <tr>\n",
       "      <th>1</th>\n",
       "      <td>EVGA GeForce RTX 3090 FTW3 Ultra Gaming, 24GB ...</td>\n",
       "      <td>EVGA</td>\n",
       "      <td>RTX 3090 FTW3 Ultra</td>\n",
       "      <td>24.0</td>\n",
       "      <td>GDDR6X</td>\n",
       "      <td>300.0</td>\n",
       "      <td>PCIe x16</td>\n",
       "      <td>GeForce RTX 3090</td>\n",
       "      <td>1395</td>\n",
       "      <td>1800</td>\n",
       "      <td>1199.99</td>\n",
       "    </tr>\n",
       "    <tr>\n",
       "      <th>2</th>\n",
       "      <td>ASUS ROG Strix NVIDIA GeForce RTX 3090 White O...</td>\n",
       "      <td>ASUS</td>\n",
       "      <td>ROG Strix RTX 3090 OC Edition</td>\n",
       "      <td>24.0</td>\n",
       "      <td>GDDR6X</td>\n",
       "      <td>318.5</td>\n",
       "      <td>PCIe x16</td>\n",
       "      <td>GeForce RTX 3090</td>\n",
       "      <td>1395</td>\n",
       "      <td>1890</td>\n",
       "      <td>1794.99</td>\n",
       "    </tr>\n",
       "    <tr>\n",
       "      <th>3</th>\n",
       "      <td>MSI Gaming GeForce RTX 3090 24GB GDDR6X 384-Bi...</td>\n",
       "      <td>MSI</td>\n",
       "      <td>RTX 3090 SUPRIM X 24G</td>\n",
       "      <td>24.0</td>\n",
       "      <td>GDDR6X</td>\n",
       "      <td>336.0</td>\n",
       "      <td>PCIe x16</td>\n",
       "      <td>GeForce RTX 3090</td>\n",
       "      <td>1395</td>\n",
       "      <td>1875</td>\n",
       "      <td>2017.21</td>\n",
       "    </tr>\n",
       "    <tr>\n",
       "      <th>4</th>\n",
       "      <td>GIGABYTE AORUS GeForce RTX 3090 Xtreme 24G Gra...</td>\n",
       "      <td>Gigabyte</td>\n",
       "      <td>AORUS RTX 3090 Xtreme 24G</td>\n",
       "      <td>24.0</td>\n",
       "      <td>GDDR6X</td>\n",
       "      <td>319.0</td>\n",
       "      <td>PCIe x16</td>\n",
       "      <td>GeForce RTX 3090</td>\n",
       "      <td>1395</td>\n",
       "      <td>1860</td>\n",
       "      <td>3399.99</td>\n",
       "    </tr>\n",
       "  </tbody>\n",
       "</table>\n",
       "</div>"
      ],
      "text/plain": [
       "                                                name     brand  \\\n",
       "0  MSI Gaming GeForce RTX 3090 24GB GDDR6X 384-Bi...       MSI   \n",
       "1  EVGA GeForce RTX 3090 FTW3 Ultra Gaming, 24GB ...      EVGA   \n",
       "2  ASUS ROG Strix NVIDIA GeForce RTX 3090 White O...      ASUS   \n",
       "3  MSI Gaming GeForce RTX 3090 24GB GDDR6X 384-Bi...       MSI   \n",
       "4  GIGABYTE AORUS GeForce RTX 3090 Xtreme 24G Gra...  Gigabyte   \n",
       "\n",
       "                             model  memory memory_interface  length  \\\n",
       "0      RTX 3090 GAMING X TRIO 24G     24.0          GDDR6X    335.0   \n",
       "1             RTX 3090 FTW3 Ultra     24.0          GDDR6X    300.0   \n",
       "2   ROG Strix RTX 3090 OC Edition     24.0          GDDR6X    318.5   \n",
       "3           RTX 3090 SUPRIM X 24G     24.0          GDDR6X    336.0   \n",
       "4       AORUS RTX 3090 Xtreme 24G     24.0          GDDR6X    319.0   \n",
       "\n",
       "    interface             chipset  base_clock  clock_speed    price  \n",
       "0   PCIe x16    GeForce RTX 3090         1395         1785  1289.99  \n",
       "1   PCIe x16    GeForce RTX 3090         1395         1800  1199.99  \n",
       "2   PCIe x16    GeForce RTX 3090         1395         1890  1794.99  \n",
       "3   PCIe x16    GeForce RTX 3090         1395         1875  2017.21  \n",
       "4   PCIe x16    GeForce RTX 3090         1395         1860  3399.99  "
      ]
     },
     "execution_count": 13,
     "metadata": {},
     "output_type": "execute_result"
    }
   ],
   "source": [
    "df.head()"
   ]
  },
  {
   "cell_type": "code",
   "execution_count": 14,
   "id": "1d85d63b",
   "metadata": {},
   "outputs": [
    {
     "name": "stdout",
     "output_type": "stream",
     "text": [
      "Unique Values\n",
      "Name:  306\n",
      "Brand:  22\n",
      "Model: 250\n",
      "Memory:  13\n",
      "Memory Type:  7\n",
      "Card Length:  136\n",
      "Slot Type:  1\n",
      "Chipset:  62\n",
      "Base Clock:  72\n",
      "Clock Speed:  97\n",
      "Price:  230\n"
     ]
    }
   ],
   "source": [
    "print('Unique Values')\n",
    "print('Name: ',df['name'].nunique())\n",
    "print('Brand: ',df['brand'].nunique())\n",
    "print('Model:', df['model'].nunique())\n",
    "print('Memory: ', df['memory'].nunique())\n",
    "print('Memory Type: ',df['memory_interface'].nunique())\n",
    "print('Card Length: ', df['length'].nunique())\n",
    "print('Slot Type: ', df['interface'].nunique())\n",
    "print('Chipset: ', df['chipset'].nunique())\n",
    "print('Base Clock: ', df['base_clock'].nunique())\n",
    "print('Clock Speed: ', df['clock_speed'].nunique())\n",
    "print('Price: ', df['price'].nunique())\n",
    "\n"
   ]
  },
  {
   "cell_type": "markdown",
   "id": "534c411e",
   "metadata": {},
   "source": [
    "### EDA"
   ]
  },
  {
   "cell_type": "code",
   "execution_count": 15,
   "id": "df76923c",
   "metadata": {},
   "outputs": [
    {
     "name": "stderr",
     "output_type": "stream",
     "text": [
      "C:\\Users\\cwnos\\anaconda3\\lib\\site-packages\\seaborn\\_decorators.py:36: FutureWarning:\n",
      "\n",
      "Pass the following variables as keyword args: x, y. From version 0.12, the only valid positional argument will be `data`, and passing other arguments without an explicit keyword will result in an error or misinterpretation.\n",
      "\n"
     ]
    },
    {
     "data": {
      "image/png": "[encoded data removed]",
      "text/plain": [
       "<Figure size 864x1152 with 1 Axes>"
      ]
     },
     "metadata": {},
     "output_type": "display_data"
    }
   ],
   "source": [
    "g = sns.scatterplot(df['memory'],df['price'])\n",
    "g.set(xlabel='Memory Amount', ylabel='Selling Price')\n",
    "plt.show()"
   ]
  },
  {
   "cell_type": "code",
   "execution_count": 16,
   "id": "1016cf59",
   "metadata": {},
   "outputs": [],
   "source": [
    "##/* This is mostly what I would expect to see, the bulk of the  values are under 30gb of memory and under $3000. \n",
    "##/* There are still some values outside of this range that are likely to be valid data but the price points indicate \n",
    "##/* that these are out of the norm or were due to price gouging instances because of high demand of GPU's for crypto mining. \n",
    "##/* For the purposes of this analysis I'll set the limit at $3000. "
   ]
  },
  {
   "cell_type": "code",
   "execution_count": 17,
   "id": "4513ee61",
   "metadata": {},
   "outputs": [],
   "source": [
    "df = df[df['price'] < 3000]"
   ]
  },
  {
   "cell_type": "code",
   "execution_count": 18,
   "id": "92ea2143",
   "metadata": {},
   "outputs": [
    {
     "name": "stderr",
     "output_type": "stream",
     "text": [
      "C:\\Users\\cwnos\\anaconda3\\lib\\site-packages\\seaborn\\_decorators.py:36: FutureWarning:\n",
      "\n",
      "Pass the following variables as keyword args: x, y. From version 0.12, the only valid positional argument will be `data`, and passing other arguments without an explicit keyword will result in an error or misinterpretation.\n",
      "\n"
     ]
    },
    {
     "data": {
      "image/png": "[encoded data removed]",
      "text/plain": [
       "<Figure size 864x1152 with 1 Axes>"
      ]
     },
     "metadata": {},
     "output_type": "display_data"
    }
   ],
   "source": [
    "g = sns.scatterplot(df['memory'],df['price'])\n",
    "g.set(xlabel='Memory Amount', ylabel='Selling Price')\n",
    "plt.show()"
   ]
  },
  {
   "cell_type": "code",
   "execution_count": 19,
   "id": "dc39a5ab",
   "metadata": {},
   "outputs": [],
   "source": [
    "##/* That looks a little better, though I would say paying more than $2000 is absurd (and if you asked a prior generation, they would say I was crazy to pay even $1000). "
   ]
  },
  {
   "cell_type": "code",
   "execution_count": 20,
   "id": "95c716cc",
   "metadata": {},
   "outputs": [
    {
     "name": "stderr",
     "output_type": "stream",
     "text": [
      "C:\\Users\\cwnos\\anaconda3\\lib\\site-packages\\seaborn\\_decorators.py:36: FutureWarning:\n",
      "\n",
      "Pass the following variables as keyword args: x, y. From version 0.12, the only valid positional argument will be `data`, and passing other arguments without an explicit keyword will result in an error or misinterpretation.\n",
      "\n"
     ]
    },
    {
     "data": {
      "image/png": "[encoded data removed]",
      "text/plain": [
       "<Figure size 864x1152 with 1 Axes>"
      ]
     },
     "metadata": {},
     "output_type": "display_data"
    }
   ],
   "source": [
    "g = sns.scatterplot(df['memory_interface'],df['price'])\n",
    "g.set(xlabel='Memory Type', ylabel='Selling Price')\n",
    "plt.show()"
   ]
  },
  {
   "cell_type": "code",
   "execution_count": 21,
   "id": "5af7ab75",
   "metadata": {},
   "outputs": [],
   "source": [
    "##/* Interesting, Cards using GDDR6X (the current top end) memory don't account for the highest prices,\n",
    "##/* perhaps this has more to do with availability, or just a larger availability of the older option GDDR6. "
   ]
  },
  {
   "cell_type": "code",
   "execution_count": 22,
   "id": "9ea51d4e",
   "metadata": {},
   "outputs": [
    {
     "name": "stderr",
     "output_type": "stream",
     "text": [
      "C:\\Users\\cwnos\\anaconda3\\lib\\site-packages\\seaborn\\_decorators.py:36: FutureWarning:\n",
      "\n",
      "Pass the following variables as keyword args: x, y. From version 0.12, the only valid positional argument will be `data`, and passing other arguments without an explicit keyword will result in an error or misinterpretation.\n",
      "\n"
     ]
    },
    {
     "data": {
      "image/png": "[encoded data removed]",
      "text/plain": [
       "<Figure size 864x1152 with 1 Axes>"
      ]
     },
     "metadata": {},
     "output_type": "display_data"
    }
   ],
   "source": [
    "g = sns.scatterplot(df['brand'],df['price'])\n",
    "g.set(xlabel='Manufacturer', ylabel='Selling Price')\n",
    "plt.xticks(rotation=45)\n",
    "plt.show()"
   ]
  },
  {
   "cell_type": "code",
   "execution_count": 23,
   "id": "0d6ae5b1",
   "metadata": {},
   "outputs": [],
   "source": [
    "##/* Again this is what I'd expect to see. The majority of manufacturers have prices that run through the whole range and \n",
    "##/* the data allows for the creation of the big dipper at the top of the graph hmm, probably no correlation there. "
   ]
  },
  {
   "cell_type": "code",
   "execution_count": 24,
   "id": "38ee1f44",
   "metadata": {},
   "outputs": [
    {
     "name": "stderr",
     "output_type": "stream",
     "text": [
      "C:\\Users\\cwnos\\anaconda3\\lib\\site-packages\\seaborn\\_decorators.py:36: FutureWarning:\n",
      "\n",
      "Pass the following variables as keyword args: x, y. From version 0.12, the only valid positional argument will be `data`, and passing other arguments without an explicit keyword will result in an error or misinterpretation.\n",
      "\n"
     ]
    },
    {
     "data": {
      "image/png": "[encoded data removed]",
      "text/plain": [
       "<Figure size 864x1152 with 1 Axes>"
      ]
     },
     "metadata": {},
     "output_type": "display_data"
    }
   ],
   "source": [
    "g = sns.scatterplot(df['length'],df['price'])\n",
    "g.set(xlabel='Card Length', ylabel='Selling Price')\n",
    "plt.xticks(rotation=45)\n",
    "plt.show()"
   ]
  },
  {
   "cell_type": "code",
   "execution_count": 25,
   "id": "6ddb4c2b",
   "metadata": {},
   "outputs": [],
   "source": [
    "##//* Color me shocked, if you would have asked me before I charted this, I would have said there \n",
    "##//* would be no impact on price vs the length of the card. There likely isn't any correlation here,\n",
    "##//* it is more likely that the cards got longer with the newer offerings having a higher cooling need, \n",
    "##//* this in turn required a higher level of cooling fans added, thus the extended length and because they are\n",
    "##//* the newest offerings the price is high. "
   ]
  },
  {
   "cell_type": "code",
   "execution_count": 26,
   "id": "60f96494",
   "metadata": {},
   "outputs": [
    {
     "name": "stderr",
     "output_type": "stream",
     "text": [
      "C:\\Users\\cwnos\\anaconda3\\lib\\site-packages\\seaborn\\_decorators.py:36: FutureWarning:\n",
      "\n",
      "Pass the following variables as keyword args: x, y. From version 0.12, the only valid positional argument will be `data`, and passing other arguments without an explicit keyword will result in an error or misinterpretation.\n",
      "\n"
     ]
    },
    {
     "data": {
      "image/png": "[encoded data removed]",
      "text/plain": [
       "<Figure size 864x1152 with 1 Axes>"
      ]
     },
     "metadata": {},
     "output_type": "display_data"
    }
   ],
   "source": [
    "g = sns.scatterplot(df['base_clock'],df['price'])\n",
    "g.set(xlabel='Base Clock speed', ylabel='Selling Price')\n",
    "plt.xticks(rotation=45)\n",
    "plt.show()"
   ]
  },
  {
   "cell_type": "code",
   "execution_count": null,
   "id": "c5307db4",
   "metadata": {},
   "outputs": [],
   "source": []
  },
  {
   "cell_type": "code",
   "execution_count": 27,
   "id": "00a1f6d5",
   "metadata": {},
   "outputs": [
    {
     "name": "stderr",
     "output_type": "stream",
     "text": [
      "C:\\Users\\cwnos\\anaconda3\\lib\\site-packages\\seaborn\\_decorators.py:36: FutureWarning:\n",
      "\n",
      "Pass the following variables as keyword args: x, y. From version 0.12, the only valid positional argument will be `data`, and passing other arguments without an explicit keyword will result in an error or misinterpretation.\n",
      "\n"
     ]
    },
    {
     "data": {
      "image/png": "[encoded data removed]",
      "text/plain": [
       "<Figure size 864x1152 with 1 Axes>"
      ]
     },
     "metadata": {},
     "output_type": "display_data"
    }
   ],
   "source": [
    "g = sns.scatterplot(df['clock_speed'],df['price'])\n",
    "g.set(xlabel='Max Clock', ylabel='Selling Price')\n",
    "plt.xticks(rotation=45)\n",
    "plt.show()"
   ]
  },
  {
   "cell_type": "code",
   "execution_count": 28,
   "id": "9e630735",
   "metadata": {},
   "outputs": [
    {
     "data": {
      "text/html": [
       "<div>\n",
       "<style scoped>\n",
       "    .dataframe tbody tr th:only-of-type {\n",
       "        vertical-align: middle;\n",
       "    }\n",
       "\n",
       "    .dataframe tbody tr th {\n",
       "        vertical-align: top;\n",
       "    }\n",
       "\n",
       "    .dataframe thead th {\n",
       "        text-align: right;\n",
       "    }\n",
       "</style>\n",
       "<table border=\"1\" class=\"dataframe\">\n",
       "  <thead>\n",
       "    <tr style=\"text-align: right;\">\n",
       "      <th></th>\n",
       "      <th>name</th>\n",
       "      <th>brand</th>\n",
       "      <th>model</th>\n",
       "      <th>memory</th>\n",
       "      <th>memory_interface</th>\n",
       "      <th>length</th>\n",
       "      <th>interface</th>\n",
       "      <th>chipset</th>\n",
       "      <th>base_clock</th>\n",
       "      <th>clock_speed</th>\n",
       "      <th>price</th>\n",
       "    </tr>\n",
       "  </thead>\n",
       "  <tbody>\n",
       "    <tr>\n",
       "      <th>0</th>\n",
       "      <td>MSI Gaming GeForce RTX 3090 24GB GDDR6X 384-Bi...</td>\n",
       "      <td>MSI</td>\n",
       "      <td>RTX 3090 GAMING X TRIO 24G</td>\n",
       "      <td>24.0</td>\n",
       "      <td>GDDR6X</td>\n",
       "      <td>335.0</td>\n",
       "      <td>PCIe x16</td>\n",
       "      <td>GeForce RTX 3090</td>\n",
       "      <td>1395</td>\n",
       "      <td>1785</td>\n",
       "      <td>1289.99</td>\n",
       "    </tr>\n",
       "    <tr>\n",
       "      <th>1</th>\n",
       "      <td>EVGA GeForce RTX 3090 FTW3 Ultra Gaming, 24GB ...</td>\n",
       "      <td>EVGA</td>\n",
       "      <td>RTX 3090 FTW3 Ultra</td>\n",
       "      <td>24.0</td>\n",
       "      <td>GDDR6X</td>\n",
       "      <td>300.0</td>\n",
       "      <td>PCIe x16</td>\n",
       "      <td>GeForce RTX 3090</td>\n",
       "      <td>1395</td>\n",
       "      <td>1800</td>\n",
       "      <td>1199.99</td>\n",
       "    </tr>\n",
       "    <tr>\n",
       "      <th>2</th>\n",
       "      <td>ASUS ROG Strix NVIDIA GeForce RTX 3090 White O...</td>\n",
       "      <td>ASUS</td>\n",
       "      <td>ROG Strix RTX 3090 OC Edition</td>\n",
       "      <td>24.0</td>\n",
       "      <td>GDDR6X</td>\n",
       "      <td>318.5</td>\n",
       "      <td>PCIe x16</td>\n",
       "      <td>GeForce RTX 3090</td>\n",
       "      <td>1395</td>\n",
       "      <td>1890</td>\n",
       "      <td>1794.99</td>\n",
       "    </tr>\n",
       "    <tr>\n",
       "      <th>3</th>\n",
       "      <td>MSI Gaming GeForce RTX 3090 24GB GDDR6X 384-Bi...</td>\n",
       "      <td>MSI</td>\n",
       "      <td>RTX 3090 SUPRIM X 24G</td>\n",
       "      <td>24.0</td>\n",
       "      <td>GDDR6X</td>\n",
       "      <td>336.0</td>\n",
       "      <td>PCIe x16</td>\n",
       "      <td>GeForce RTX 3090</td>\n",
       "      <td>1395</td>\n",
       "      <td>1875</td>\n",
       "      <td>2017.21</td>\n",
       "    </tr>\n",
       "    <tr>\n",
       "      <th>5</th>\n",
       "      <td>ASUS TUF Gaming NVIDIA GeForce RTX 3090 OC Edi...</td>\n",
       "      <td>ASUS</td>\n",
       "      <td>TUF Gaming RTX 3090 OC Edition</td>\n",
       "      <td>24.0</td>\n",
       "      <td>GDDR6X</td>\n",
       "      <td>299.9</td>\n",
       "      <td>PCIe x16</td>\n",
       "      <td>GeForce RTX 3090</td>\n",
       "      <td>1395</td>\n",
       "      <td>1770</td>\n",
       "      <td>1249.00</td>\n",
       "    </tr>\n",
       "  </tbody>\n",
       "</table>\n",
       "</div>"
      ],
      "text/plain": [
       "                                                name brand  \\\n",
       "0  MSI Gaming GeForce RTX 3090 24GB GDDR6X 384-Bi...   MSI   \n",
       "1  EVGA GeForce RTX 3090 FTW3 Ultra Gaming, 24GB ...  EVGA   \n",
       "2  ASUS ROG Strix NVIDIA GeForce RTX 3090 White O...  ASUS   \n",
       "3  MSI Gaming GeForce RTX 3090 24GB GDDR6X 384-Bi...   MSI   \n",
       "5  ASUS TUF Gaming NVIDIA GeForce RTX 3090 OC Edi...  ASUS   \n",
       "\n",
       "                              model  memory memory_interface  length  \\\n",
       "0       RTX 3090 GAMING X TRIO 24G     24.0          GDDR6X    335.0   \n",
       "1              RTX 3090 FTW3 Ultra     24.0          GDDR6X    300.0   \n",
       "2    ROG Strix RTX 3090 OC Edition     24.0          GDDR6X    318.5   \n",
       "3            RTX 3090 SUPRIM X 24G     24.0          GDDR6X    336.0   \n",
       "5   TUF Gaming RTX 3090 OC Edition     24.0          GDDR6X    299.9   \n",
       "\n",
       "    interface             chipset  base_clock  clock_speed    price  \n",
       "0   PCIe x16    GeForce RTX 3090         1395         1785  1289.99  \n",
       "1   PCIe x16    GeForce RTX 3090         1395         1800  1199.99  \n",
       "2   PCIe x16    GeForce RTX 3090         1395         1890  1794.99  \n",
       "3   PCIe x16    GeForce RTX 3090         1395         1875  2017.21  \n",
       "5   PCIe x16    GeForce RTX 3090         1395         1770  1249.00  "
      ]
     },
     "execution_count": 28,
     "metadata": {},
     "output_type": "execute_result"
    }
   ],
   "source": [
    "df.head()"
   ]
  },
  {
   "cell_type": "code",
   "execution_count": 29,
   "id": "53ed1f9b",
   "metadata": {},
   "outputs": [
    {
     "data": {
      "text/plain": [
       "499.0"
      ]
     },
     "execution_count": 29,
     "metadata": {},
     "output_type": "execute_result"
    }
   ],
   "source": [
    "df.price.median()"
   ]
  },
  {
   "cell_type": "code",
   "execution_count": 30,
   "id": "9fbc1b6f",
   "metadata": {
    "scrolled": true
   },
   "outputs": [
    {
     "data": {
      "text/html": [
       "<div>\n",
       "<style scoped>\n",
       "    .dataframe tbody tr th:only-of-type {\n",
       "        vertical-align: middle;\n",
       "    }\n",
       "\n",
       "    .dataframe tbody tr th {\n",
       "        vertical-align: top;\n",
       "    }\n",
       "\n",
       "    .dataframe thead th {\n",
       "        text-align: right;\n",
       "    }\n",
       "</style>\n",
       "<table border=\"1\" class=\"dataframe\">\n",
       "  <thead>\n",
       "    <tr style=\"text-align: right;\">\n",
       "      <th></th>\n",
       "      <th>memory</th>\n",
       "      <th>length</th>\n",
       "      <th>base_clock</th>\n",
       "      <th>clock_speed</th>\n",
       "      <th>price</th>\n",
       "    </tr>\n",
       "  </thead>\n",
       "  <tbody>\n",
       "    <tr>\n",
       "      <th>count</th>\n",
       "      <td>262.000000</td>\n",
       "      <td>258.000000</td>\n",
       "      <td>262.000000</td>\n",
       "      <td>262.000000</td>\n",
       "      <td>262.000000</td>\n",
       "    </tr>\n",
       "    <tr>\n",
       "      <th>mean</th>\n",
       "      <td>8.650763</td>\n",
       "      <td>260.389484</td>\n",
       "      <td>1513.484733</td>\n",
       "      <td>1785.114504</td>\n",
       "      <td>674.542023</td>\n",
       "    </tr>\n",
       "    <tr>\n",
       "      <th>std</th>\n",
       "      <td>4.587713</td>\n",
       "      <td>47.332689</td>\n",
       "      <td>306.522614</td>\n",
       "      <td>338.216500</td>\n",
       "      <td>508.877400</td>\n",
       "    </tr>\n",
       "    <tr>\n",
       "      <th>min</th>\n",
       "      <td>0.500000</td>\n",
       "      <td>145.000000</td>\n",
       "      <td>168.000000</td>\n",
       "      <td>797.000000</td>\n",
       "      <td>51.210000</td>\n",
       "    </tr>\n",
       "    <tr>\n",
       "      <th>25%</th>\n",
       "      <td>6.000000</td>\n",
       "      <td>229.000000</td>\n",
       "      <td>1365.000000</td>\n",
       "      <td>1672.500000</td>\n",
       "      <td>330.742500</td>\n",
       "    </tr>\n",
       "    <tr>\n",
       "      <th>50%</th>\n",
       "      <td>8.000000</td>\n",
       "      <td>269.415000</td>\n",
       "      <td>1506.000000</td>\n",
       "      <td>1785.000000</td>\n",
       "      <td>499.000000</td>\n",
       "    </tr>\n",
       "    <tr>\n",
       "      <th>75%</th>\n",
       "      <td>11.000000</td>\n",
       "      <td>300.000000</td>\n",
       "      <td>1607.000000</td>\n",
       "      <td>1860.000000</td>\n",
       "      <td>899.000000</td>\n",
       "    </tr>\n",
       "    <tr>\n",
       "      <th>max</th>\n",
       "      <td>24.000000</td>\n",
       "      <td>340.000000</td>\n",
       "      <td>2457.000000</td>\n",
       "      <td>2622.000000</td>\n",
       "      <td>2629.000000</td>\n",
       "    </tr>\n",
       "  </tbody>\n",
       "</table>\n",
       "</div>"
      ],
      "text/plain": [
       "           memory      length   base_clock  clock_speed        price\n",
       "count  262.000000  258.000000   262.000000   262.000000   262.000000\n",
       "mean     8.650763  260.389484  1513.484733  1785.114504   674.542023\n",
       "std      4.587713   47.332689   306.522614   338.216500   508.877400\n",
       "min      0.500000  145.000000   168.000000   797.000000    51.210000\n",
       "25%      6.000000  229.000000  1365.000000  1672.500000   330.742500\n",
       "50%      8.000000  269.415000  1506.000000  1785.000000   499.000000\n",
       "75%     11.000000  300.000000  1607.000000  1860.000000   899.000000\n",
       "max     24.000000  340.000000  2457.000000  2622.000000  2629.000000"
      ]
     },
     "execution_count": 30,
     "metadata": {},
     "output_type": "execute_result"
    }
   ],
   "source": [
    "df.describe()"
   ]
  },
  {
   "cell_type": "code",
   "execution_count": 31,
   "id": "724723b0",
   "metadata": {},
   "outputs": [
    {
     "data": {
      "text/html": [
       "<div>\n",
       "<style scoped>\n",
       "    .dataframe tbody tr th:only-of-type {\n",
       "        vertical-align: middle;\n",
       "    }\n",
       "\n",
       "    .dataframe tbody tr th {\n",
       "        vertical-align: top;\n",
       "    }\n",
       "\n",
       "    .dataframe thead th {\n",
       "        text-align: right;\n",
       "    }\n",
       "</style>\n",
       "<table border=\"1\" class=\"dataframe\">\n",
       "  <thead>\n",
       "    <tr style=\"text-align: right;\">\n",
       "      <th></th>\n",
       "      <th>name</th>\n",
       "      <th>brand</th>\n",
       "      <th>model</th>\n",
       "      <th>memory</th>\n",
       "      <th>memory_interface</th>\n",
       "      <th>length</th>\n",
       "      <th>interface</th>\n",
       "      <th>chipset</th>\n",
       "      <th>base_clock</th>\n",
       "      <th>clock_speed</th>\n",
       "      <th>price</th>\n",
       "    </tr>\n",
       "  </thead>\n",
       "  <tbody>\n",
       "    <tr>\n",
       "      <th>0</th>\n",
       "      <td>False</td>\n",
       "      <td>False</td>\n",
       "      <td>False</td>\n",
       "      <td>False</td>\n",
       "      <td>False</td>\n",
       "      <td>False</td>\n",
       "      <td>False</td>\n",
       "      <td>False</td>\n",
       "      <td>False</td>\n",
       "      <td>False</td>\n",
       "      <td>False</td>\n",
       "    </tr>\n",
       "    <tr>\n",
       "      <th>1</th>\n",
       "      <td>False</td>\n",
       "      <td>False</td>\n",
       "      <td>False</td>\n",
       "      <td>False</td>\n",
       "      <td>False</td>\n",
       "      <td>False</td>\n",
       "      <td>False</td>\n",
       "      <td>False</td>\n",
       "      <td>False</td>\n",
       "      <td>False</td>\n",
       "      <td>False</td>\n",
       "    </tr>\n",
       "    <tr>\n",
       "      <th>2</th>\n",
       "      <td>False</td>\n",
       "      <td>False</td>\n",
       "      <td>False</td>\n",
       "      <td>False</td>\n",
       "      <td>False</td>\n",
       "      <td>False</td>\n",
       "      <td>False</td>\n",
       "      <td>False</td>\n",
       "      <td>False</td>\n",
       "      <td>False</td>\n",
       "      <td>False</td>\n",
       "    </tr>\n",
       "    <tr>\n",
       "      <th>3</th>\n",
       "      <td>False</td>\n",
       "      <td>False</td>\n",
       "      <td>False</td>\n",
       "      <td>False</td>\n",
       "      <td>False</td>\n",
       "      <td>False</td>\n",
       "      <td>False</td>\n",
       "      <td>False</td>\n",
       "      <td>False</td>\n",
       "      <td>False</td>\n",
       "      <td>False</td>\n",
       "    </tr>\n",
       "    <tr>\n",
       "      <th>5</th>\n",
       "      <td>False</td>\n",
       "      <td>False</td>\n",
       "      <td>False</td>\n",
       "      <td>False</td>\n",
       "      <td>False</td>\n",
       "      <td>False</td>\n",
       "      <td>False</td>\n",
       "      <td>False</td>\n",
       "      <td>False</td>\n",
       "      <td>False</td>\n",
       "      <td>False</td>\n",
       "    </tr>\n",
       "    <tr>\n",
       "      <th>...</th>\n",
       "      <td>...</td>\n",
       "      <td>...</td>\n",
       "      <td>...</td>\n",
       "      <td>...</td>\n",
       "      <td>...</td>\n",
       "      <td>...</td>\n",
       "      <td>...</td>\n",
       "      <td>...</td>\n",
       "      <td>...</td>\n",
       "      <td>...</td>\n",
       "      <td>...</td>\n",
       "    </tr>\n",
       "    <tr>\n",
       "      <th>304</th>\n",
       "      <td>False</td>\n",
       "      <td>False</td>\n",
       "      <td>False</td>\n",
       "      <td>False</td>\n",
       "      <td>False</td>\n",
       "      <td>False</td>\n",
       "      <td>False</td>\n",
       "      <td>False</td>\n",
       "      <td>False</td>\n",
       "      <td>False</td>\n",
       "      <td>False</td>\n",
       "    </tr>\n",
       "    <tr>\n",
       "      <th>305</th>\n",
       "      <td>False</td>\n",
       "      <td>False</td>\n",
       "      <td>False</td>\n",
       "      <td>False</td>\n",
       "      <td>False</td>\n",
       "      <td>True</td>\n",
       "      <td>False</td>\n",
       "      <td>False</td>\n",
       "      <td>False</td>\n",
       "      <td>False</td>\n",
       "      <td>False</td>\n",
       "    </tr>\n",
       "    <tr>\n",
       "      <th>306</th>\n",
       "      <td>False</td>\n",
       "      <td>False</td>\n",
       "      <td>False</td>\n",
       "      <td>False</td>\n",
       "      <td>False</td>\n",
       "      <td>True</td>\n",
       "      <td>False</td>\n",
       "      <td>False</td>\n",
       "      <td>False</td>\n",
       "      <td>False</td>\n",
       "      <td>False</td>\n",
       "    </tr>\n",
       "    <tr>\n",
       "      <th>307</th>\n",
       "      <td>False</td>\n",
       "      <td>False</td>\n",
       "      <td>False</td>\n",
       "      <td>False</td>\n",
       "      <td>False</td>\n",
       "      <td>False</td>\n",
       "      <td>False</td>\n",
       "      <td>False</td>\n",
       "      <td>False</td>\n",
       "      <td>False</td>\n",
       "      <td>False</td>\n",
       "    </tr>\n",
       "    <tr>\n",
       "      <th>310</th>\n",
       "      <td>False</td>\n",
       "      <td>False</td>\n",
       "      <td>False</td>\n",
       "      <td>False</td>\n",
       "      <td>False</td>\n",
       "      <td>False</td>\n",
       "      <td>False</td>\n",
       "      <td>False</td>\n",
       "      <td>False</td>\n",
       "      <td>False</td>\n",
       "      <td>False</td>\n",
       "    </tr>\n",
       "  </tbody>\n",
       "</table>\n",
       "<p>262 rows × 11 columns</p>\n",
       "</div>"
      ],
      "text/plain": [
       "      name  brand  model  memory  memory_interface  length  interface  \\\n",
       "0    False  False  False   False             False   False      False   \n",
       "1    False  False  False   False             False   False      False   \n",
       "2    False  False  False   False             False   False      False   \n",
       "3    False  False  False   False             False   False      False   \n",
       "5    False  False  False   False             False   False      False   \n",
       "..     ...    ...    ...     ...               ...     ...        ...   \n",
       "304  False  False  False   False             False   False      False   \n",
       "305  False  False  False   False             False    True      False   \n",
       "306  False  False  False   False             False    True      False   \n",
       "307  False  False  False   False             False   False      False   \n",
       "310  False  False  False   False             False   False      False   \n",
       "\n",
       "     chipset  base_clock  clock_speed  price  \n",
       "0      False       False        False  False  \n",
       "1      False       False        False  False  \n",
       "2      False       False        False  False  \n",
       "3      False       False        False  False  \n",
       "5      False       False        False  False  \n",
       "..       ...         ...          ...    ...  \n",
       "304    False       False        False  False  \n",
       "305    False       False        False  False  \n",
       "306    False       False        False  False  \n",
       "307    False       False        False  False  \n",
       "310    False       False        False  False  \n",
       "\n",
       "[262 rows x 11 columns]"
      ]
     },
     "execution_count": 31,
     "metadata": {},
     "output_type": "execute_result"
    }
   ],
   "source": [
    "df.isna()"
   ]
  },
  {
   "cell_type": "code",
   "execution_count": 32,
   "id": "d19da510",
   "metadata": {},
   "outputs": [
    {
     "data": {
      "text/plain": [
       "name                0\n",
       "brand               0\n",
       "model               0\n",
       "memory              0\n",
       "memory_interface    0\n",
       "length              4\n",
       "interface           0\n",
       "chipset             0\n",
       "base_clock          0\n",
       "clock_speed         0\n",
       "price               0\n",
       "dtype: int64"
      ]
     },
     "execution_count": 32,
     "metadata": {},
     "output_type": "execute_result"
    }
   ],
   "source": [
    "df.isna().sum()"
   ]
  },
  {
   "cell_type": "code",
   "execution_count": 33,
   "id": "3cd2f4d3",
   "metadata": {},
   "outputs": [],
   "source": [
    "df.fillna(value=260.389484, method=None, axis=None, inplace=True, limit=None, downcast=None)"
   ]
  },
  {
   "cell_type": "code",
   "execution_count": 34,
   "id": "a988b403",
   "metadata": {},
   "outputs": [
    {
     "data": {
      "text/plain": [
       "name                0\n",
       "brand               0\n",
       "model               0\n",
       "memory              0\n",
       "memory_interface    0\n",
       "length              0\n",
       "interface           0\n",
       "chipset             0\n",
       "base_clock          0\n",
       "clock_speed         0\n",
       "price               0\n",
       "dtype: int64"
      ]
     },
     "execution_count": 34,
     "metadata": {},
     "output_type": "execute_result"
    }
   ],
   "source": [
    "df.isna().sum()"
   ]
  },
  {
   "cell_type": "code",
   "execution_count": 35,
   "id": "72d50dc8",
   "metadata": {},
   "outputs": [],
   "source": [
    "##//* Ok that there is a skew in each of these should be of no surprise with the number of cards becoming available with each new iteration. \n",
    "##//* The question becomes, how do we want to handle this? I'm not sure classification will help in this instance because of the range of options\n",
    "##//* available to us, I'm not certain the classification will make notable sense. \n",
    "##//* With Linear or Logistic regression we would need to normalize the data. \n",
    "##//* Perhaps with this data, it might be best to go with a random forest, it can handle the categorical data as well as the numeric,\n",
    "##//* it's not as susceptable to skew or outliers, I think this might just be the way to go. "
   ]
  },
  {
   "cell_type": "code",
   "execution_count": 36,
   "id": "e8934f38",
   "metadata": {},
   "outputs": [
    {
     "data": {
      "text/html": [
       "<div>\n",
       "<style scoped>\n",
       "    .dataframe tbody tr th:only-of-type {\n",
       "        vertical-align: middle;\n",
       "    }\n",
       "\n",
       "    .dataframe tbody tr th {\n",
       "        vertical-align: top;\n",
       "    }\n",
       "\n",
       "    .dataframe thead th {\n",
       "        text-align: right;\n",
       "    }\n",
       "</style>\n",
       "<table border=\"1\" class=\"dataframe\">\n",
       "  <thead>\n",
       "    <tr style=\"text-align: right;\">\n",
       "      <th></th>\n",
       "      <th>brand</th>\n",
       "      <th>model</th>\n",
       "      <th>memory</th>\n",
       "      <th>memory_interface</th>\n",
       "      <th>length</th>\n",
       "      <th>interface</th>\n",
       "      <th>chipset</th>\n",
       "      <th>base_clock</th>\n",
       "      <th>clock_speed</th>\n",
       "      <th>price</th>\n",
       "    </tr>\n",
       "  </thead>\n",
       "  <tbody>\n",
       "    <tr>\n",
       "      <th>0</th>\n",
       "      <td>MSI</td>\n",
       "      <td>RTX 3090 GAMING X TRIO 24G</td>\n",
       "      <td>24.0</td>\n",
       "      <td>GDDR6X</td>\n",
       "      <td>335.0</td>\n",
       "      <td>PCIe x16</td>\n",
       "      <td>GeForce RTX 3090</td>\n",
       "      <td>1395</td>\n",
       "      <td>1785</td>\n",
       "      <td>1289.99</td>\n",
       "    </tr>\n",
       "    <tr>\n",
       "      <th>1</th>\n",
       "      <td>EVGA</td>\n",
       "      <td>RTX 3090 FTW3 Ultra</td>\n",
       "      <td>24.0</td>\n",
       "      <td>GDDR6X</td>\n",
       "      <td>300.0</td>\n",
       "      <td>PCIe x16</td>\n",
       "      <td>GeForce RTX 3090</td>\n",
       "      <td>1395</td>\n",
       "      <td>1800</td>\n",
       "      <td>1199.99</td>\n",
       "    </tr>\n",
       "    <tr>\n",
       "      <th>2</th>\n",
       "      <td>ASUS</td>\n",
       "      <td>ROG Strix RTX 3090 OC Edition</td>\n",
       "      <td>24.0</td>\n",
       "      <td>GDDR6X</td>\n",
       "      <td>318.5</td>\n",
       "      <td>PCIe x16</td>\n",
       "      <td>GeForce RTX 3090</td>\n",
       "      <td>1395</td>\n",
       "      <td>1890</td>\n",
       "      <td>1794.99</td>\n",
       "    </tr>\n",
       "    <tr>\n",
       "      <th>3</th>\n",
       "      <td>MSI</td>\n",
       "      <td>RTX 3090 SUPRIM X 24G</td>\n",
       "      <td>24.0</td>\n",
       "      <td>GDDR6X</td>\n",
       "      <td>336.0</td>\n",
       "      <td>PCIe x16</td>\n",
       "      <td>GeForce RTX 3090</td>\n",
       "      <td>1395</td>\n",
       "      <td>1875</td>\n",
       "      <td>2017.21</td>\n",
       "    </tr>\n",
       "    <tr>\n",
       "      <th>5</th>\n",
       "      <td>ASUS</td>\n",
       "      <td>TUF Gaming RTX 3090 OC Edition</td>\n",
       "      <td>24.0</td>\n",
       "      <td>GDDR6X</td>\n",
       "      <td>299.9</td>\n",
       "      <td>PCIe x16</td>\n",
       "      <td>GeForce RTX 3090</td>\n",
       "      <td>1395</td>\n",
       "      <td>1770</td>\n",
       "      <td>1249.00</td>\n",
       "    </tr>\n",
       "  </tbody>\n",
       "</table>\n",
       "</div>"
      ],
      "text/plain": [
       "  brand                             model  memory memory_interface  length  \\\n",
       "0   MSI       RTX 3090 GAMING X TRIO 24G     24.0          GDDR6X    335.0   \n",
       "1  EVGA              RTX 3090 FTW3 Ultra     24.0          GDDR6X    300.0   \n",
       "2  ASUS    ROG Strix RTX 3090 OC Edition     24.0          GDDR6X    318.5   \n",
       "3   MSI            RTX 3090 SUPRIM X 24G     24.0          GDDR6X    336.0   \n",
       "5  ASUS   TUF Gaming RTX 3090 OC Edition     24.0          GDDR6X    299.9   \n",
       "\n",
       "    interface             chipset  base_clock  clock_speed    price  \n",
       "0   PCIe x16    GeForce RTX 3090         1395         1785  1289.99  \n",
       "1   PCIe x16    GeForce RTX 3090         1395         1800  1199.99  \n",
       "2   PCIe x16    GeForce RTX 3090         1395         1890  1794.99  \n",
       "3   PCIe x16    GeForce RTX 3090         1395         1875  2017.21  \n",
       "5   PCIe x16    GeForce RTX 3090         1395         1770  1249.00  "
      ]
     },
     "execution_count": 36,
     "metadata": {},
     "output_type": "execute_result"
    }
   ],
   "source": [
    "df = df.drop(columns = ['name'])\n",
    "df.head()"
   ]
  },
  {
   "cell_type": "code",
   "execution_count": 37,
   "id": "1930edce",
   "metadata": {},
   "outputs": [
    {
     "data": {
      "text/html": [
       "<div>\n",
       "<style scoped>\n",
       "    .dataframe tbody tr th:only-of-type {\n",
       "        vertical-align: middle;\n",
       "    }\n",
       "\n",
       "    .dataframe tbody tr th {\n",
       "        vertical-align: top;\n",
       "    }\n",
       "\n",
       "    .dataframe thead th {\n",
       "        text-align: right;\n",
       "    }\n",
       "</style>\n",
       "<table border=\"1\" class=\"dataframe\">\n",
       "  <thead>\n",
       "    <tr style=\"text-align: right;\">\n",
       "      <th></th>\n",
       "      <th>brand_ASROCK</th>\n",
       "      <th>brand_ASRock</th>\n",
       "      <th>brand_ASUS</th>\n",
       "      <th>brand_Asus</th>\n",
       "      <th>brand_DiamondMultimedia</th>\n",
       "      <th>brand_EVGA</th>\n",
       "      <th>brand_Gigabyte</th>\n",
       "      <th>brand_HIS</th>\n",
       "      <th>brand_Inno3D</th>\n",
       "      <th>brand_MSI</th>\n",
       "      <th>...</th>\n",
       "      <th>chipset_ Radeon RX 5700 XT</th>\n",
       "      <th>chipset_ Radeon RX 580</th>\n",
       "      <th>chipset_ Radeon RX 590</th>\n",
       "      <th>chipset_ Radeon RX 6700 XT</th>\n",
       "      <th>chipset_ Radeon RX 6800</th>\n",
       "      <th>chipset_ Radeon RX 6800 XT</th>\n",
       "      <th>chipset_ Radeon RX 6900 XT</th>\n",
       "      <th>chipset_ Radeon RX VEGA 56</th>\n",
       "      <th>chipset_ RadeonÂ RXÂ 580</th>\n",
       "      <th>chipset_ Titan V</th>\n",
       "    </tr>\n",
       "  </thead>\n",
       "  <tbody>\n",
       "    <tr>\n",
       "      <th>0</th>\n",
       "      <td>0</td>\n",
       "      <td>0</td>\n",
       "      <td>0</td>\n",
       "      <td>0</td>\n",
       "      <td>0</td>\n",
       "      <td>0</td>\n",
       "      <td>0</td>\n",
       "      <td>0</td>\n",
       "      <td>0</td>\n",
       "      <td>1</td>\n",
       "      <td>...</td>\n",
       "      <td>0</td>\n",
       "      <td>0</td>\n",
       "      <td>0</td>\n",
       "      <td>0</td>\n",
       "      <td>0</td>\n",
       "      <td>0</td>\n",
       "      <td>0</td>\n",
       "      <td>0</td>\n",
       "      <td>0</td>\n",
       "      <td>0</td>\n",
       "    </tr>\n",
       "    <tr>\n",
       "      <th>1</th>\n",
       "      <td>0</td>\n",
       "      <td>0</td>\n",
       "      <td>0</td>\n",
       "      <td>0</td>\n",
       "      <td>0</td>\n",
       "      <td>1</td>\n",
       "      <td>0</td>\n",
       "      <td>0</td>\n",
       "      <td>0</td>\n",
       "      <td>0</td>\n",
       "      <td>...</td>\n",
       "      <td>0</td>\n",
       "      <td>0</td>\n",
       "      <td>0</td>\n",
       "      <td>0</td>\n",
       "      <td>0</td>\n",
       "      <td>0</td>\n",
       "      <td>0</td>\n",
       "      <td>0</td>\n",
       "      <td>0</td>\n",
       "      <td>0</td>\n",
       "    </tr>\n",
       "    <tr>\n",
       "      <th>2</th>\n",
       "      <td>0</td>\n",
       "      <td>0</td>\n",
       "      <td>1</td>\n",
       "      <td>0</td>\n",
       "      <td>0</td>\n",
       "      <td>0</td>\n",
       "      <td>0</td>\n",
       "      <td>0</td>\n",
       "      <td>0</td>\n",
       "      <td>0</td>\n",
       "      <td>...</td>\n",
       "      <td>0</td>\n",
       "      <td>0</td>\n",
       "      <td>0</td>\n",
       "      <td>0</td>\n",
       "      <td>0</td>\n",
       "      <td>0</td>\n",
       "      <td>0</td>\n",
       "      <td>0</td>\n",
       "      <td>0</td>\n",
       "      <td>0</td>\n",
       "    </tr>\n",
       "    <tr>\n",
       "      <th>3</th>\n",
       "      <td>0</td>\n",
       "      <td>0</td>\n",
       "      <td>0</td>\n",
       "      <td>0</td>\n",
       "      <td>0</td>\n",
       "      <td>0</td>\n",
       "      <td>0</td>\n",
       "      <td>0</td>\n",
       "      <td>0</td>\n",
       "      <td>1</td>\n",
       "      <td>...</td>\n",
       "      <td>0</td>\n",
       "      <td>0</td>\n",
       "      <td>0</td>\n",
       "      <td>0</td>\n",
       "      <td>0</td>\n",
       "      <td>0</td>\n",
       "      <td>0</td>\n",
       "      <td>0</td>\n",
       "      <td>0</td>\n",
       "      <td>0</td>\n",
       "    </tr>\n",
       "    <tr>\n",
       "      <th>5</th>\n",
       "      <td>0</td>\n",
       "      <td>0</td>\n",
       "      <td>1</td>\n",
       "      <td>0</td>\n",
       "      <td>0</td>\n",
       "      <td>0</td>\n",
       "      <td>0</td>\n",
       "      <td>0</td>\n",
       "      <td>0</td>\n",
       "      <td>0</td>\n",
       "      <td>...</td>\n",
       "      <td>0</td>\n",
       "      <td>0</td>\n",
       "      <td>0</td>\n",
       "      <td>0</td>\n",
       "      <td>0</td>\n",
       "      <td>0</td>\n",
       "      <td>0</td>\n",
       "      <td>0</td>\n",
       "      <td>0</td>\n",
       "      <td>0</td>\n",
       "    </tr>\n",
       "  </tbody>\n",
       "</table>\n",
       "<p>5 rows × 287 columns</p>\n",
       "</div>"
      ],
      "text/plain": [
       "   brand_ASROCK  brand_ASRock  brand_ASUS  brand_Asus  \\\n",
       "0             0             0           0           0   \n",
       "1             0             0           0           0   \n",
       "2             0             0           1           0   \n",
       "3             0             0           0           0   \n",
       "5             0             0           1           0   \n",
       "\n",
       "   brand_DiamondMultimedia  brand_EVGA  brand_Gigabyte  brand_HIS  \\\n",
       "0                        0           0               0          0   \n",
       "1                        0           1               0          0   \n",
       "2                        0           0               0          0   \n",
       "3                        0           0               0          0   \n",
       "5                        0           0               0          0   \n",
       "\n",
       "   brand_Inno3D  brand_MSI  ...  chipset_ Radeon RX 5700 XT   \\\n",
       "0             0          1  ...                            0   \n",
       "1             0          0  ...                            0   \n",
       "2             0          0  ...                            0   \n",
       "3             0          1  ...                            0   \n",
       "5             0          0  ...                            0   \n",
       "\n",
       "   chipset_ Radeon RX 580   chipset_ Radeon RX 590   \\\n",
       "0                        0                        0   \n",
       "1                        0                        0   \n",
       "2                        0                        0   \n",
       "3                        0                        0   \n",
       "5                        0                        0   \n",
       "\n",
       "   chipset_ Radeon RX 6700 XT   chipset_ Radeon RX 6800   \\\n",
       "0                            0                         0   \n",
       "1                            0                         0   \n",
       "2                            0                         0   \n",
       "3                            0                         0   \n",
       "5                            0                         0   \n",
       "\n",
       "   chipset_ Radeon RX 6800 XT   chipset_ Radeon RX 6900 XT   \\\n",
       "0                            0                            0   \n",
       "1                            0                            0   \n",
       "2                            0                            0   \n",
       "3                            0                            0   \n",
       "5                            0                            0   \n",
       "\n",
       "   chipset_ Radeon RX VEGA 56   chipset_ RadeonÂ RXÂ 580   chipset_ Titan V   \n",
       "0                            0                          0                  0  \n",
       "1                            0                          0                  0  \n",
       "2                            0                          0                  0  \n",
       "3                            0                          0                  0  \n",
       "5                            0                          0                  0  \n",
       "\n",
       "[5 rows x 287 columns]"
      ]
     },
     "execution_count": 37,
     "metadata": {},
     "output_type": "execute_result"
    }
   ],
   "source": [
    "# One-hot encode the data using pandas get_dummies\n",
    "features = pd.get_dummies(df)\n",
    "# Display the first 5 rows of the last 12 columns\n",
    "features.iloc[:,5:].head(5)"
   ]
  },
  {
   "cell_type": "code",
   "execution_count": 38,
   "id": "61e9f063",
   "metadata": {},
   "outputs": [],
   "source": [
    "\n",
    "# Labels are the values we want to predict\n",
    "labels = np.array(features['price'])\n",
    "# Remove the labels from the features\n",
    "# axis 1 refers to the columns\n",
    "features= features.drop('price', axis = 1)\n",
    "# Saving feature names for later use\n",
    "feature_list = list(features.columns)\n",
    "# Convert to numpy array\n",
    "features = np.array(features)"
   ]
  },
  {
   "cell_type": "code",
   "execution_count": 39,
   "id": "6c0e18fc",
   "metadata": {},
   "outputs": [],
   "source": [
    "# Using Skicit-learn to split data into training and testing sets\n",
    "from sklearn.model_selection import train_test_split\n",
    "# Split the data into training and testing sets\n",
    "train_features, test_features, train_labels, test_labels = train_test_split(features, labels, test_size = 0.25, random_state = 42)"
   ]
  },
  {
   "cell_type": "code",
   "execution_count": 40,
   "id": "9875f3ef",
   "metadata": {},
   "outputs": [
    {
     "name": "stdout",
     "output_type": "stream",
     "text": [
      "Training Features Shape: (196, 291)\n",
      "Training Labels Shape: (196,)\n",
      "Testing Features Shape: (66, 291)\n",
      "Testing Labels Shape: (66,)\n"
     ]
    }
   ],
   "source": [
    "print('Training Features Shape:', train_features.shape)\n",
    "print('Training Labels Shape:', train_labels.shape)\n",
    "print('Testing Features Shape:', test_features.shape)\n",
    "print('Testing Labels Shape:', test_labels.shape)"
   ]
  },
  {
   "cell_type": "code",
   "execution_count": 41,
   "id": "ab2ff838",
   "metadata": {},
   "outputs": [],
   "source": [
    "# Import the model we are using\n",
    "from sklearn.ensemble import RandomForestRegressor\n",
    "# Instantiate model with 1000 decision trees\n",
    "rf = RandomForestRegressor(n_estimators = 1000, random_state = 42)\n",
    "# Train the model on training data\n",
    "rf.fit(train_features, train_labels);"
   ]
  },
  {
   "cell_type": "code",
   "execution_count": 42,
   "id": "546461d3",
   "metadata": {},
   "outputs": [],
   "source": [
    "# Use the forest's predict method on the test data\n",
    "predictions = rf.predict(test_features)\n",
    "# Calculate the absolute errors\n",
    "errors = abs(predictions - test_labels)\n",
    "# Print out the mean absolute error (mae)\n",
    "#print('Mean Absolute Error:', round(np.mean(errors), 2), 'dollars.')"
   ]
  },
  {
   "cell_type": "code",
   "execution_count": 43,
   "id": "8d34d3e0",
   "metadata": {},
   "outputs": [
    {
     "name": "stdout",
     "output_type": "stream",
     "text": [
      "Accuracy: 58.11 %.\n"
     ]
    }
   ],
   "source": [
    "# Calculate mean absolute percentage error (MAPE)\n",
    "mape = 100 * (errors / test_labels)\n",
    "# Calculate and display accuracy\n",
    "accuracy = 100 - np.mean(mape)\n",
    "print('Accuracy:', round(accuracy, 2), '%.')\n"
   ]
  },
  {
   "cell_type": "code",
   "execution_count": null,
   "id": "00f1082d",
   "metadata": {},
   "outputs": [],
   "source": [
    "##/* Well that's not exactly what I was hoping to see, Let's give something else a shot and see if it's truly as bad as I think. "
   ]
  },
  {
   "cell_type": "code",
   "execution_count": 58,
   "id": "0238db4f",
   "metadata": {},
   "outputs": [],
   "source": [
    "from sklearn.linear_model import LinearRegression\n",
    "\n",
    "\n",
    "\n",
    "X = df[['memory']]\n",
    "y = df['price']\n",
    "\n",
    "# Initialise and fit model\n",
    "lm = LinearRegression()\n",
    "model = lm.fit(X, y)"
   ]
  },
  {
   "cell_type": "code",
   "execution_count": 59,
   "id": "5d087475",
   "metadata": {},
   "outputs": [
    {
     "name": "stdout",
     "output_type": "stream",
     "text": [
      "alpha = 84.42816562453925\n",
      "betas = [68.21523521]\n"
     ]
    }
   ],
   "source": [
    "print(f'alpha = {model.intercept_}')\n",
    "print(f'betas = {model.coef_}')"
   ]
  },
  {
   "cell_type": "code",
   "execution_count": 60,
   "id": "7db41955",
   "metadata": {},
   "outputs": [
    {
     "data": {
      "text/plain": [
       "array([1721.5938107 , 1721.5938107 , 1721.5938107 , 1721.5938107 ,\n",
       "       1721.5938107 , 1721.5938107 , 1721.5938107 , 1721.5938107 ,\n",
       "       1721.5938107 ,  903.01098816,  903.01098816,  903.01098816,\n",
       "        903.01098816,  903.01098816,  903.01098816,  903.01098816,\n",
       "        903.01098816, 1175.87192901, 1175.87192901, 1175.87192901,\n",
       "       1175.87192901, 1175.87192901, 1175.87192901, 1175.87192901,\n",
       "        766.58051774,  766.58051774,  766.58051774,  766.58051774,\n",
       "        766.58051774,  766.58051774, 1175.87192901, 1175.87192901,\n",
       "       1175.87192901, 1175.87192901, 1175.87192901, 1175.87192901,\n",
       "       1175.87192901,  834.79575295,  834.79575295,  834.79575295,\n",
       "        834.79575295,  834.79575295,  834.79575295,  834.79575295,\n",
       "        834.79575295,  834.79575295,  630.15004731,  630.15004731,\n",
       "        630.15004731,  630.15004731,  630.15004731,  630.15004731,\n",
       "        630.15004731,  630.15004731,  903.01098816,  903.01098816,\n",
       "        903.01098816,  903.01098816,  903.01098816,  903.01098816,\n",
       "        903.01098816,  903.01098816,  903.01098816,  903.01098816,\n",
       "        903.01098816,  903.01098816,  903.01098816,  903.01098816,\n",
       "        903.01098816,  903.01098816,  630.15004731,  630.15004731,\n",
       "        630.15004731,  630.15004731,  630.15004731,  630.15004731,\n",
       "        630.15004731,  630.15004731,  630.15004731,  630.15004731,\n",
       "        630.15004731,  630.15004731,  630.15004731,  630.15004731,\n",
       "        630.15004731,  630.15004731,  630.15004731,  630.15004731,\n",
       "        630.15004731,  630.15004731,  630.15004731,  630.15004731,\n",
       "        630.15004731,  834.79575295,  834.79575295,  834.79575295,\n",
       "        630.15004731,  630.15004731,  630.15004731,  630.15004731,\n",
       "        630.15004731,  630.15004731,  630.15004731,  630.15004731,\n",
       "        630.15004731,  630.15004731,  630.15004731,  630.15004731,\n",
       "        630.15004731,  630.15004731,  630.15004731,  630.15004731,\n",
       "        903.01098816,  903.01098816,  903.01098816,  903.01098816,\n",
       "        903.01098816,  903.01098816,  630.15004731,  630.15004731,\n",
       "        630.15004731,  630.15004731,  630.15004731,  630.15004731,\n",
       "        630.15004731,  630.15004731,  493.71957689,  493.71957689,\n",
       "        493.71957689,  493.71957689,  493.71957689,  493.71957689,\n",
       "        493.71957689,  493.71957689,  493.71957689,  493.71957689,\n",
       "        493.71957689,  493.71957689,  493.71957689,  630.15004731,\n",
       "        493.71957689,  493.71957689,  493.71957689,  493.71957689,\n",
       "        630.15004731,  630.15004731,  493.71957689,  493.71957689,\n",
       "        493.71957689,  493.71957689,  493.71957689,  493.71957689,\n",
       "        493.71957689,  493.71957689,  493.71957689,  493.71957689,\n",
       "        493.71957689,  493.71957689,  493.71957689,  493.71957689,\n",
       "        493.71957689,  493.71957689,  493.71957689,  493.71957689,\n",
       "        493.71957689,  493.71957689,  630.15004731,  630.15004731,\n",
       "        630.15004731,  493.71957689,  493.71957689,  493.71957689,\n",
       "        493.71957689,  493.71957689,  493.71957689,  493.71957689,\n",
       "        630.15004731,  630.15004731,  357.28910647,  630.15004731,\n",
       "        357.28910647,  630.15004731,  630.15004731,  357.28910647,\n",
       "        357.28910647,  357.28910647,  357.28910647,  357.28910647,\n",
       "        357.28910647,  357.28910647,  630.15004731,  630.15004731,\n",
       "        630.15004731,  630.15004731,  630.15004731,  630.15004731,\n",
       "        630.15004731,  630.15004731,  357.28910647,  630.15004731,\n",
       "        357.28910647,  357.28910647,  630.15004731,  630.15004731,\n",
       "        357.28910647,  630.15004731,  630.15004731,  357.28910647,\n",
       "        357.28910647,  289.07387126,  289.07387126,  493.71957689,\n",
       "        357.28910647,  630.15004731,  357.28910647,  630.15004731,\n",
       "        357.28910647,  357.28910647,  357.28910647,  630.15004731,\n",
       "        357.28910647,  630.15004731,  357.28910647,  357.28910647,\n",
       "        357.28910647,  357.28910647,  357.28910647,  357.28910647,\n",
       "        357.28910647,  357.28910647,  357.28910647,  357.28910647,\n",
       "        357.28910647,  357.28910647,  357.28910647,  220.85863605,\n",
       "        220.85863605,  220.85863605,  152.64340084,  289.07387126,\n",
       "        630.15004731,  357.28910647,  493.71957689,  630.15004731,\n",
       "        630.15004731,  630.15004731,  630.15004731, 1175.87192901,\n",
       "       1175.87192901, 1175.87192901, 1175.87192901, 1175.87192901,\n",
       "       1175.87192901, 1175.87192901, 1175.87192901,  152.64340084,\n",
       "        152.64340084,  152.64340084,  118.53578323,  220.85863605,\n",
       "        152.64340084,  357.28910647])"
      ]
     },
     "execution_count": 60,
     "metadata": {},
     "output_type": "execute_result"
    }
   ],
   "source": [
    "model.predict(X)"
   ]
  },
  {
   "cell_type": "code",
   "execution_count": 62,
   "id": "b83c7455",
   "metadata": {},
   "outputs": [
    {
     "data": {
      "image/png": "[encoded data removed]",
      "text/plain": [
       "<Figure size 864x432 with 1 Axes>"
      ]
     },
     "metadata": {},
     "output_type": "display_data"
    }
   ],
   "source": [
    "\n",
    "# Predict values\n",
    "pred = model.predict(X)\n",
    "\n",
    "# Plot regression against actual data\n",
    "plt.figure(figsize=(12, 6))\n",
    "plt.plot(X, df['price'], 'o')           # scatter plot showing actual data\n",
    "plt.plot(X, pred, 'r', linewidth=2)   # regression line\n",
    "plt.xlabel('Memory amount')\n",
    "plt.ylabel('Price')\n",
    "plt.title('Memory vs Price')\n",
    "\n",
    "plt.show()"
   ]
  },
  {
   "cell_type": "code",
   "execution_count": null,
   "id": "00e1571f",
   "metadata": {},
   "outputs": [],
   "source": [
    "##//* Not a very linear model either, regardless of which single or multiple feature set I chose"
   ]
  }
 ],
 "metadata": {
  "kernelspec": {
   "display_name": "Python 3 (ipykernel)",
   "language": "python",
   "name": "python3"
  },
  "language_info": {
   "codemirror_mode": {
    "name": "ipython",
    "version": 3
   },
   "file_extension": ".py",
   "mimetype": "text/x-python",
   "name": "python",
   "nbconvert_exporter": "python",
   "pygments_lexer": "ipython3",
   "version": "3.9.7"
  }
 },
 "nbformat": 4,
 "nbformat_minor": 5
}
